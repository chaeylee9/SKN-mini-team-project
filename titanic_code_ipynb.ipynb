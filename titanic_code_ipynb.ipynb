{
 "cells": [
  {
   "cell_type": "markdown",
   "id": "0c78ad55",
   "metadata": {},
   "source": [
    "### Import library"
   ]
  },
  {
   "cell_type": "code",
   "execution_count": 2,
   "id": "76a4c779",
   "metadata": {},
   "outputs": [],
   "source": [
    "import pandas as pd\n",
    "import numpy as np\n",
    "import matplotlib.pyplot as plt\n",
    "%matplotlib inline\n",
    "import seaborn as sns\n",
    "pd.set_option('display.max_columns', None)\n",
    "from sklearn.preprocessing import LabelEncoder"
   ]
  },
  {
   "cell_type": "code",
   "execution_count": 3,
   "id": "bb726a8a",
   "metadata": {},
   "outputs": [],
   "source": [
    "plt.rcParams['font.family'] = 'Malgun Gothic'\n",
    "plt.rcParams['axes.unicode_minus'] = False"
   ]
  },
  {
   "cell_type": "markdown",
   "id": "4aabd17c",
   "metadata": {},
   "source": [
    "### Preprocessing"
   ]
  },
  {
   "cell_type": "code",
   "execution_count": 4,
   "id": "4eb07993",
   "metadata": {},
   "outputs": [],
   "source": [
    "titanic = pd.read_csv('C:/Users/yongchae/Desktop/SKN/titanic_kor.csv')"
   ]
  },
  {
   "cell_type": "code",
   "execution_count": 40,
   "id": "437cade2",
   "metadata": {},
   "outputs": [
    {
     "data": {
      "application/vnd.microsoft.datawrangler.viewer.v0+json": {
       "columns": [
        {
         "name": "index",
         "rawType": "object",
         "type": "string"
        },
        {
         "name": "0",
         "rawType": "object",
         "type": "unknown"
        },
        {
         "name": "1",
         "rawType": "object",
         "type": "unknown"
        },
        {
         "name": "2",
         "rawType": "object",
         "type": "unknown"
        },
        {
         "name": "3",
         "rawType": "object",
         "type": "unknown"
        },
        {
         "name": "4",
         "rawType": "object",
         "type": "unknown"
        }
       ],
       "ref": "052c828b-4691-4a54-96d1-e80cf7857e24",
       "rows": [
        [
         "생존",
         "0",
         "1",
         "1",
         "1",
         "0"
        ],
        [
         "등급",
         "3",
         "1",
         "3",
         "1",
         "3"
        ],
        [
         "성별",
         "male",
         "female",
         "female",
         "female",
         "male"
        ],
        [
         "나이",
         "22.0",
         "38.0",
         "26.0",
         "35.0",
         "35.0"
        ],
        [
         "형제자매",
         "1",
         "1",
         "0",
         "1",
         "0"
        ],
        [
         "부모자녀",
         "0",
         "0",
         "0",
         "0",
         "0"
        ],
        [
         "요금",
         "7.25",
         "71.2833",
         "7.925",
         "53.1",
         "8.05"
        ],
        [
         "탑승지코드",
         "S",
         "C",
         "S",
         "S",
         "S"
        ],
        [
         "객실등급",
         "Third",
         "First",
         "Third",
         "First",
         "Third"
        ],
        [
         "성인여부",
         "man",
         "woman",
         "woman",
         "woman",
         "man"
        ],
        [
         "성인남성",
         "True",
         "False",
         "False",
         "False",
         "True"
        ],
        [
         "선실코드",
         null,
         "C",
         null,
         "C",
         null
        ],
        [
         "탑승지명",
         "Southampton",
         "Cherbourg",
         "Southampton",
         "Southampton",
         "Southampton"
        ],
        [
         "생존여부",
         "no",
         "yes",
         "yes",
         "yes",
         "no"
        ],
        [
         "개인탑승자",
         "False",
         "False",
         "True",
         "False",
         "True"
        ]
       ],
       "shape": {
        "columns": 5,
        "rows": 15
       }
      },
      "text/html": [
       "<div>\n",
       "<style scoped>\n",
       "    .dataframe tbody tr th:only-of-type {\n",
       "        vertical-align: middle;\n",
       "    }\n",
       "\n",
       "    .dataframe tbody tr th {\n",
       "        vertical-align: top;\n",
       "    }\n",
       "\n",
       "    .dataframe thead th {\n",
       "        text-align: right;\n",
       "    }\n",
       "</style>\n",
       "<table border=\"1\" class=\"dataframe\">\n",
       "  <thead>\n",
       "    <tr style=\"text-align: right;\">\n",
       "      <th></th>\n",
       "      <th>0</th>\n",
       "      <th>1</th>\n",
       "      <th>2</th>\n",
       "      <th>3</th>\n",
       "      <th>4</th>\n",
       "    </tr>\n",
       "  </thead>\n",
       "  <tbody>\n",
       "    <tr>\n",
       "      <th>생존</th>\n",
       "      <td>0</td>\n",
       "      <td>1</td>\n",
       "      <td>1</td>\n",
       "      <td>1</td>\n",
       "      <td>0</td>\n",
       "    </tr>\n",
       "    <tr>\n",
       "      <th>등급</th>\n",
       "      <td>3</td>\n",
       "      <td>1</td>\n",
       "      <td>3</td>\n",
       "      <td>1</td>\n",
       "      <td>3</td>\n",
       "    </tr>\n",
       "    <tr>\n",
       "      <th>성별</th>\n",
       "      <td>male</td>\n",
       "      <td>female</td>\n",
       "      <td>female</td>\n",
       "      <td>female</td>\n",
       "      <td>male</td>\n",
       "    </tr>\n",
       "    <tr>\n",
       "      <th>나이</th>\n",
       "      <td>22.0</td>\n",
       "      <td>38.0</td>\n",
       "      <td>26.0</td>\n",
       "      <td>35.0</td>\n",
       "      <td>35.0</td>\n",
       "    </tr>\n",
       "    <tr>\n",
       "      <th>형제자매</th>\n",
       "      <td>1</td>\n",
       "      <td>1</td>\n",
       "      <td>0</td>\n",
       "      <td>1</td>\n",
       "      <td>0</td>\n",
       "    </tr>\n",
       "    <tr>\n",
       "      <th>부모자녀</th>\n",
       "      <td>0</td>\n",
       "      <td>0</td>\n",
       "      <td>0</td>\n",
       "      <td>0</td>\n",
       "      <td>0</td>\n",
       "    </tr>\n",
       "    <tr>\n",
       "      <th>요금</th>\n",
       "      <td>7.25</td>\n",
       "      <td>71.2833</td>\n",
       "      <td>7.925</td>\n",
       "      <td>53.1</td>\n",
       "      <td>8.05</td>\n",
       "    </tr>\n",
       "    <tr>\n",
       "      <th>탑승지코드</th>\n",
       "      <td>S</td>\n",
       "      <td>C</td>\n",
       "      <td>S</td>\n",
       "      <td>S</td>\n",
       "      <td>S</td>\n",
       "    </tr>\n",
       "    <tr>\n",
       "      <th>객실등급</th>\n",
       "      <td>Third</td>\n",
       "      <td>First</td>\n",
       "      <td>Third</td>\n",
       "      <td>First</td>\n",
       "      <td>Third</td>\n",
       "    </tr>\n",
       "    <tr>\n",
       "      <th>성인여부</th>\n",
       "      <td>man</td>\n",
       "      <td>woman</td>\n",
       "      <td>woman</td>\n",
       "      <td>woman</td>\n",
       "      <td>man</td>\n",
       "    </tr>\n",
       "    <tr>\n",
       "      <th>성인남성</th>\n",
       "      <td>True</td>\n",
       "      <td>False</td>\n",
       "      <td>False</td>\n",
       "      <td>False</td>\n",
       "      <td>True</td>\n",
       "    </tr>\n",
       "    <tr>\n",
       "      <th>선실코드</th>\n",
       "      <td>NaN</td>\n",
       "      <td>C</td>\n",
       "      <td>NaN</td>\n",
       "      <td>C</td>\n",
       "      <td>NaN</td>\n",
       "    </tr>\n",
       "    <tr>\n",
       "      <th>탑승지명</th>\n",
       "      <td>Southampton</td>\n",
       "      <td>Cherbourg</td>\n",
       "      <td>Southampton</td>\n",
       "      <td>Southampton</td>\n",
       "      <td>Southampton</td>\n",
       "    </tr>\n",
       "    <tr>\n",
       "      <th>생존여부</th>\n",
       "      <td>no</td>\n",
       "      <td>yes</td>\n",
       "      <td>yes</td>\n",
       "      <td>yes</td>\n",
       "      <td>no</td>\n",
       "    </tr>\n",
       "    <tr>\n",
       "      <th>개인탑승자</th>\n",
       "      <td>False</td>\n",
       "      <td>False</td>\n",
       "      <td>True</td>\n",
       "      <td>False</td>\n",
       "      <td>True</td>\n",
       "    </tr>\n",
       "  </tbody>\n",
       "</table>\n",
       "</div>"
      ],
      "text/plain": [
       "                 0          1            2            3            4\n",
       "생존               0          1            1            1            0\n",
       "등급               3          1            3            1            3\n",
       "성별            male     female       female       female         male\n",
       "나이            22.0       38.0         26.0         35.0         35.0\n",
       "형제자매             1          1            0            1            0\n",
       "부모자녀             0          0            0            0            0\n",
       "요금            7.25    71.2833        7.925         53.1         8.05\n",
       "탑승지코드            S          C            S            S            S\n",
       "객실등급         Third      First        Third        First        Third\n",
       "성인여부           man      woman        woman        woman          man\n",
       "성인남성          True      False        False        False         True\n",
       "선실코드           NaN          C          NaN            C          NaN\n",
       "탑승지명   Southampton  Cherbourg  Southampton  Southampton  Southampton\n",
       "생존여부            no        yes          yes          yes           no\n",
       "개인탑승자        False      False         True        False         True"
      ]
     },
     "metadata": {},
     "output_type": "display_data"
    },
    {
     "name": "stdout",
     "output_type": "stream",
     "text": [
      "<class 'pandas.core.frame.DataFrame'>\n",
      "RangeIndex: 891 entries, 0 to 890\n",
      "Data columns (total 15 columns):\n",
      " #   Column  Non-Null Count  Dtype  \n",
      "---  ------  --------------  -----  \n",
      " 0   생존      891 non-null    int64  \n",
      " 1   등급      891 non-null    int64  \n",
      " 2   성별      891 non-null    object \n",
      " 3   나이      714 non-null    float64\n",
      " 4   형제자매    891 non-null    int64  \n",
      " 5   부모자녀    891 non-null    int64  \n",
      " 6   요금      891 non-null    float64\n",
      " 7   탑승지코드   889 non-null    object \n",
      " 8   객실등급    891 non-null    object \n",
      " 9   성인여부    891 non-null    object \n",
      " 10  성인남성    891 non-null    bool   \n",
      " 11  선실코드    203 non-null    object \n",
      " 12  탑승지명    889 non-null    object \n",
      " 13  생존여부    891 non-null    object \n",
      " 14  개인탑승자   891 non-null    bool   \n",
      "dtypes: bool(2), float64(2), int64(4), object(7)\n",
      "memory usage: 92.4+ KB\n",
      "None\n"
     ]
    }
   ],
   "source": [
    "display(titanic.head().T)\n",
    "print(titanic.info())"
   ]
  },
  {
   "cell_type": "code",
   "execution_count": 41,
   "id": "c681243f",
   "metadata": {},
   "outputs": [
    {
     "data": {
      "text/plain": [
       "array(['man', 'woman', 'child'], dtype=object)"
      ]
     },
     "execution_count": 41,
     "metadata": {},
     "output_type": "execute_result"
    }
   ],
   "source": [
    "titanic['성인여부'].unique()"
   ]
  },
  {
   "cell_type": "code",
   "execution_count": 194,
   "id": "e6740aa7",
   "metadata": {},
   "outputs": [
    {
     "data": {
      "application/vnd.microsoft.datawrangler.viewer.v0+json": {
       "columns": [
        {
         "name": "index",
         "rawType": "object",
         "type": "string"
        },
        {
         "name": "0",
         "rawType": "float64",
         "type": "float"
        }
       ],
       "ref": "13bfd441-3f60-40b2-b28f-ce6fd8dc3910",
       "rows": [
        [
         "생존",
         "0.0"
        ],
        [
         "등급",
         "0.0"
        ],
        [
         "성별",
         "0.0"
        ],
        [
         "나이",
         "0.19865319865319866"
        ],
        [
         "형제자매",
         "0.0"
        ],
        [
         "부모자녀",
         "0.0"
        ],
        [
         "요금",
         "0.0"
        ],
        [
         "탑승지코드",
         "0.002244668911335578"
        ],
        [
         "객실등급",
         "0.0"
        ],
        [
         "성인여부",
         "0.0"
        ],
        [
         "성인남성",
         "0.0"
        ],
        [
         "선실코드",
         "0.7721661054994389"
        ],
        [
         "탑승지명",
         "0.002244668911335578"
        ],
        [
         "생존여부",
         "0.0"
        ],
        [
         "개인탑승자",
         "0.0"
        ]
       ],
       "shape": {
        "columns": 1,
        "rows": 15
       }
      },
      "text/plain": [
       "생존       0.000000\n",
       "등급       0.000000\n",
       "성별       0.000000\n",
       "나이       0.198653\n",
       "형제자매     0.000000\n",
       "부모자녀     0.000000\n",
       "요금       0.000000\n",
       "탑승지코드    0.002245\n",
       "객실등급     0.000000\n",
       "성인여부     0.000000\n",
       "성인남성     0.000000\n",
       "선실코드     0.772166\n",
       "탑승지명     0.002245\n",
       "생존여부     0.000000\n",
       "개인탑승자    0.000000\n",
       "dtype: float64"
      ]
     },
     "execution_count": 194,
     "metadata": {},
     "output_type": "execute_result"
    }
   ],
   "source": [
    "titanic.isnull().mean()"
   ]
  },
  {
   "cell_type": "code",
   "execution_count": 5,
   "id": "058feee7",
   "metadata": {},
   "outputs": [],
   "source": [
    "# 결측치 비율 70% 이상이면 컬럼 삭제\n",
    "missing_ratio = titanic.isnull().mean()\n",
    "columns_to_drop = missing_ratio[missing_ratio > 0.7].index.tolist()\n",
    "\n",
    "titanic_drop = titanic.drop(columns=columns_to_drop, axis=1)"
   ]
  },
  {
   "cell_type": "code",
   "execution_count": 6,
   "id": "704226d3",
   "metadata": {},
   "outputs": [
    {
     "data": {
      "application/vnd.microsoft.datawrangler.viewer.v0+json": {
       "columns": [
        {
         "name": "index",
         "rawType": "object",
         "type": "string"
        },
        {
         "name": "0",
         "rawType": "bool",
         "type": "boolean"
        }
       ],
       "ref": "666e10d5-75da-442f-9779-bf812f6e481d",
       "rows": [
        [
         "생존",
         "False"
        ],
        [
         "등급",
         "False"
        ],
        [
         "성별",
         "False"
        ],
        [
         "나이",
         "True"
        ],
        [
         "형제자매",
         "False"
        ],
        [
         "부모자녀",
         "False"
        ],
        [
         "요금",
         "False"
        ],
        [
         "탑승지코드",
         "True"
        ],
        [
         "객실등급",
         "False"
        ],
        [
         "성인여부",
         "False"
        ],
        [
         "성인남성",
         "False"
        ],
        [
         "탑승지명",
         "True"
        ],
        [
         "생존여부",
         "False"
        ],
        [
         "개인탑승자",
         "False"
        ]
       ],
       "shape": {
        "columns": 1,
        "rows": 14
       }
      },
      "text/plain": [
       "생존       False\n",
       "등급       False\n",
       "성별       False\n",
       "나이        True\n",
       "형제자매     False\n",
       "부모자녀     False\n",
       "요금       False\n",
       "탑승지코드     True\n",
       "객실등급     False\n",
       "성인여부     False\n",
       "성인남성     False\n",
       "탑승지명      True\n",
       "생존여부     False\n",
       "개인탑승자    False\n",
       "dtype: bool"
      ]
     },
     "execution_count": 6,
     "metadata": {},
     "output_type": "execute_result"
    }
   ],
   "source": [
    "titanic_drop.isnull().any()"
   ]
  },
  {
   "cell_type": "code",
   "execution_count": 7,
   "id": "c591bf9e",
   "metadata": {},
   "outputs": [],
   "source": [
    "# 쓸 컬럼만 남겨\n",
    "titanic_drop = titanic_drop.drop(columns = ['등급', '성별', '성인남성', '탑승지명', '생존여부'])"
   ]
  },
  {
   "cell_type": "code",
   "execution_count": 8,
   "id": "6fd75699",
   "metadata": {},
   "outputs": [
    {
     "data": {
      "application/vnd.microsoft.datawrangler.viewer.v0+json": {
       "columns": [
        {
         "name": "index",
         "rawType": "object",
         "type": "string"
        },
        {
         "name": "0",
         "rawType": "bool",
         "type": "boolean"
        }
       ],
       "ref": "07918c35-a0ad-4646-a765-6abc0800d8ed",
       "rows": [
        [
         "생존",
         "False"
        ],
        [
         "나이",
         "True"
        ],
        [
         "형제자매",
         "False"
        ],
        [
         "부모자녀",
         "False"
        ],
        [
         "요금",
         "False"
        ],
        [
         "탑승지코드",
         "True"
        ],
        [
         "객실등급",
         "False"
        ],
        [
         "성인여부",
         "False"
        ],
        [
         "개인탑승자",
         "False"
        ]
       ],
       "shape": {
        "columns": 1,
        "rows": 9
       }
      },
      "text/plain": [
       "생존       False\n",
       "나이        True\n",
       "형제자매     False\n",
       "부모자녀     False\n",
       "요금       False\n",
       "탑승지코드     True\n",
       "객실등급     False\n",
       "성인여부     False\n",
       "개인탑승자    False\n",
       "dtype: bool"
      ]
     },
     "execution_count": 8,
     "metadata": {},
     "output_type": "execute_result"
    }
   ],
   "source": [
    "titanic_drop.isnull().any()"
   ]
  },
  {
   "cell_type": "code",
   "execution_count": 9,
   "id": "6ad4c62b",
   "metadata": {},
   "outputs": [],
   "source": [
    "mode_val = titanic_drop['탑승지코드'].mode()[0]\n",
    "titanic_drop['탑승지코드'] = titanic_drop['탑승지코드'].fillna(mode_val)"
   ]
  },
  {
   "cell_type": "code",
   "execution_count": 10,
   "id": "da89075f",
   "metadata": {},
   "outputs": [],
   "source": [
    "children_age_mean = titanic_drop.loc[titanic_drop['성인여부'] == 'child', '나이'].mean()\n",
    "adult_age_mean = titanic_drop.loc[titanic_drop['성인여부'].isin(['man', 'woman']), '나이'].mean()\n",
    "\n",
    "def fill_age(row):\n",
    "    if pd.isna(row['나이']):\n",
    "        if row['성인여부'] == 'child':\n",
    "            return children_age_mean\n",
    "        elif row['성인여부'] in ['man', 'woman']:\n",
    "            return adult_age_mean\n",
    "    return row['나이']\n",
    "\n",
    "titanic_drop['나이'] = titanic_drop.apply(fill_age, axis=1)"
   ]
  },
  {
   "cell_type": "code",
   "execution_count": 11,
   "id": "1c222b3d",
   "metadata": {},
   "outputs": [
    {
     "data": {
      "application/vnd.microsoft.datawrangler.viewer.v0+json": {
       "columns": [
        {
         "name": "index",
         "rawType": "object",
         "type": "string"
        },
        {
         "name": "0",
         "rawType": "object",
         "type": "unknown"
        },
        {
         "name": "1",
         "rawType": "object",
         "type": "unknown"
        },
        {
         "name": "2",
         "rawType": "object",
         "type": "unknown"
        },
        {
         "name": "3",
         "rawType": "object",
         "type": "unknown"
        },
        {
         "name": "4",
         "rawType": "object",
         "type": "unknown"
        },
        {
         "name": "5",
         "rawType": "object",
         "type": "unknown"
        },
        {
         "name": "6",
         "rawType": "object",
         "type": "unknown"
        },
        {
         "name": "7",
         "rawType": "object",
         "type": "unknown"
        },
        {
         "name": "8",
         "rawType": "object",
         "type": "unknown"
        },
        {
         "name": "9",
         "rawType": "object",
         "type": "unknown"
        }
       ],
       "ref": "6471f5ef-0878-455c-96ea-9b13fc3ad2ae",
       "rows": [
        [
         "생존",
         "0",
         "1",
         "1",
         "1",
         "0",
         "0",
         "0",
         "0",
         "1",
         "1"
        ],
        [
         "나이",
         "22.0",
         "38.0",
         "26.0",
         "35.0",
         "35.0",
         "32.76782884310618",
         "54.0",
         "2.0",
         "27.0",
         "14.0"
        ],
        [
         "형제자매",
         "1",
         "1",
         "0",
         "1",
         "0",
         "0",
         "0",
         "3",
         "0",
         "1"
        ],
        [
         "부모자녀",
         "0",
         "0",
         "0",
         "0",
         "0",
         "0",
         "0",
         "1",
         "2",
         "0"
        ],
        [
         "요금",
         "7.25",
         "71.2833",
         "7.925",
         "53.1",
         "8.05",
         "8.4583",
         "51.8625",
         "21.075",
         "11.1333",
         "30.0708"
        ],
        [
         "탑승지코드",
         "S",
         "C",
         "S",
         "S",
         "S",
         "Q",
         "S",
         "S",
         "S",
         "C"
        ],
        [
         "객실등급",
         "Third",
         "First",
         "Third",
         "First",
         "Third",
         "Third",
         "First",
         "Third",
         "Third",
         "Second"
        ],
        [
         "성인여부",
         "man",
         "woman",
         "woman",
         "woman",
         "man",
         "man",
         "man",
         "child",
         "woman",
         "child"
        ],
        [
         "개인탑승자",
         "False",
         "False",
         "True",
         "False",
         "True",
         "True",
         "True",
         "False",
         "False",
         "False"
        ]
       ],
       "shape": {
        "columns": 10,
        "rows": 9
       }
      },
      "text/html": [
       "<div>\n",
       "<style scoped>\n",
       "    .dataframe tbody tr th:only-of-type {\n",
       "        vertical-align: middle;\n",
       "    }\n",
       "\n",
       "    .dataframe tbody tr th {\n",
       "        vertical-align: top;\n",
       "    }\n",
       "\n",
       "    .dataframe thead th {\n",
       "        text-align: right;\n",
       "    }\n",
       "</style>\n",
       "<table border=\"1\" class=\"dataframe\">\n",
       "  <thead>\n",
       "    <tr style=\"text-align: right;\">\n",
       "      <th></th>\n",
       "      <th>0</th>\n",
       "      <th>1</th>\n",
       "      <th>2</th>\n",
       "      <th>3</th>\n",
       "      <th>4</th>\n",
       "      <th>5</th>\n",
       "      <th>6</th>\n",
       "      <th>7</th>\n",
       "      <th>8</th>\n",
       "      <th>9</th>\n",
       "    </tr>\n",
       "  </thead>\n",
       "  <tbody>\n",
       "    <tr>\n",
       "      <th>생존</th>\n",
       "      <td>0</td>\n",
       "      <td>1</td>\n",
       "      <td>1</td>\n",
       "      <td>1</td>\n",
       "      <td>0</td>\n",
       "      <td>0</td>\n",
       "      <td>0</td>\n",
       "      <td>0</td>\n",
       "      <td>1</td>\n",
       "      <td>1</td>\n",
       "    </tr>\n",
       "    <tr>\n",
       "      <th>나이</th>\n",
       "      <td>22.0</td>\n",
       "      <td>38.0</td>\n",
       "      <td>26.0</td>\n",
       "      <td>35.0</td>\n",
       "      <td>35.0</td>\n",
       "      <td>32.767829</td>\n",
       "      <td>54.0</td>\n",
       "      <td>2.0</td>\n",
       "      <td>27.0</td>\n",
       "      <td>14.0</td>\n",
       "    </tr>\n",
       "    <tr>\n",
       "      <th>형제자매</th>\n",
       "      <td>1</td>\n",
       "      <td>1</td>\n",
       "      <td>0</td>\n",
       "      <td>1</td>\n",
       "      <td>0</td>\n",
       "      <td>0</td>\n",
       "      <td>0</td>\n",
       "      <td>3</td>\n",
       "      <td>0</td>\n",
       "      <td>1</td>\n",
       "    </tr>\n",
       "    <tr>\n",
       "      <th>부모자녀</th>\n",
       "      <td>0</td>\n",
       "      <td>0</td>\n",
       "      <td>0</td>\n",
       "      <td>0</td>\n",
       "      <td>0</td>\n",
       "      <td>0</td>\n",
       "      <td>0</td>\n",
       "      <td>1</td>\n",
       "      <td>2</td>\n",
       "      <td>0</td>\n",
       "    </tr>\n",
       "    <tr>\n",
       "      <th>요금</th>\n",
       "      <td>7.25</td>\n",
       "      <td>71.2833</td>\n",
       "      <td>7.925</td>\n",
       "      <td>53.1</td>\n",
       "      <td>8.05</td>\n",
       "      <td>8.4583</td>\n",
       "      <td>51.8625</td>\n",
       "      <td>21.075</td>\n",
       "      <td>11.1333</td>\n",
       "      <td>30.0708</td>\n",
       "    </tr>\n",
       "    <tr>\n",
       "      <th>탑승지코드</th>\n",
       "      <td>S</td>\n",
       "      <td>C</td>\n",
       "      <td>S</td>\n",
       "      <td>S</td>\n",
       "      <td>S</td>\n",
       "      <td>Q</td>\n",
       "      <td>S</td>\n",
       "      <td>S</td>\n",
       "      <td>S</td>\n",
       "      <td>C</td>\n",
       "    </tr>\n",
       "    <tr>\n",
       "      <th>객실등급</th>\n",
       "      <td>Third</td>\n",
       "      <td>First</td>\n",
       "      <td>Third</td>\n",
       "      <td>First</td>\n",
       "      <td>Third</td>\n",
       "      <td>Third</td>\n",
       "      <td>First</td>\n",
       "      <td>Third</td>\n",
       "      <td>Third</td>\n",
       "      <td>Second</td>\n",
       "    </tr>\n",
       "    <tr>\n",
       "      <th>성인여부</th>\n",
       "      <td>man</td>\n",
       "      <td>woman</td>\n",
       "      <td>woman</td>\n",
       "      <td>woman</td>\n",
       "      <td>man</td>\n",
       "      <td>man</td>\n",
       "      <td>man</td>\n",
       "      <td>child</td>\n",
       "      <td>woman</td>\n",
       "      <td>child</td>\n",
       "    </tr>\n",
       "    <tr>\n",
       "      <th>개인탑승자</th>\n",
       "      <td>False</td>\n",
       "      <td>False</td>\n",
       "      <td>True</td>\n",
       "      <td>False</td>\n",
       "      <td>True</td>\n",
       "      <td>True</td>\n",
       "      <td>True</td>\n",
       "      <td>False</td>\n",
       "      <td>False</td>\n",
       "      <td>False</td>\n",
       "    </tr>\n",
       "  </tbody>\n",
       "</table>\n",
       "</div>"
      ],
      "text/plain": [
       "           0        1      2      3      4          5        6       7  \\\n",
       "생존         0        1      1      1      0          0        0       0   \n",
       "나이      22.0     38.0   26.0   35.0   35.0  32.767829     54.0     2.0   \n",
       "형제자매       1        1      0      1      0          0        0       3   \n",
       "부모자녀       0        0      0      0      0          0        0       1   \n",
       "요금      7.25  71.2833  7.925   53.1   8.05     8.4583  51.8625  21.075   \n",
       "탑승지코드      S        C      S      S      S          Q        S       S   \n",
       "객실등급   Third    First  Third  First  Third      Third    First   Third   \n",
       "성인여부     man    woman  woman  woman    man        man      man   child   \n",
       "개인탑승자  False    False   True  False   True       True     True   False   \n",
       "\n",
       "             8        9  \n",
       "생존           1        1  \n",
       "나이        27.0     14.0  \n",
       "형제자매         0        1  \n",
       "부모자녀         2        0  \n",
       "요금     11.1333  30.0708  \n",
       "탑승지코드        S        C  \n",
       "객실등급     Third   Second  \n",
       "성인여부     woman    child  \n",
       "개인탑승자    False    False  "
      ]
     },
     "execution_count": 11,
     "metadata": {},
     "output_type": "execute_result"
    }
   ],
   "source": [
    "titanic_drop.head(10).T"
   ]
  },
  {
   "cell_type": "code",
   "execution_count": 12,
   "id": "5631b308",
   "metadata": {},
   "outputs": [
    {
     "data": {
      "application/vnd.microsoft.datawrangler.viewer.v0+json": {
       "columns": [
        {
         "name": "index",
         "rawType": "object",
         "type": "string"
        },
        {
         "name": "0",
         "rawType": "int64",
         "type": "integer"
        }
       ],
       "ref": "d9458362-945f-4884-85b0-2f54ca8db8dc",
       "rows": [
        [
         "생존",
         "0"
        ],
        [
         "나이",
         "0"
        ],
        [
         "형제자매",
         "0"
        ],
        [
         "부모자녀",
         "0"
        ],
        [
         "요금",
         "0"
        ],
        [
         "탑승지코드",
         "0"
        ],
        [
         "객실등급",
         "0"
        ],
        [
         "성인여부",
         "0"
        ],
        [
         "개인탑승자",
         "0"
        ]
       ],
       "shape": {
        "columns": 1,
        "rows": 9
       }
      },
      "text/plain": [
       "생존       0\n",
       "나이       0\n",
       "형제자매     0\n",
       "부모자녀     0\n",
       "요금       0\n",
       "탑승지코드    0\n",
       "객실등급     0\n",
       "성인여부     0\n",
       "개인탑승자    0\n",
       "dtype: int64"
      ]
     },
     "execution_count": 12,
     "metadata": {},
     "output_type": "execute_result"
    }
   ],
   "source": [
    "titanic_drop.isnull().sum()"
   ]
  },
  {
   "cell_type": "markdown",
   "id": "27e349df",
   "metadata": {},
   "source": [
    "### EDA"
   ]
  },
  {
   "cell_type": "code",
   "execution_count": 52,
   "id": "3edbd304",
   "metadata": {},
   "outputs": [
    {
     "data": {
      "application/vnd.microsoft.datawrangler.viewer.v0+json": {
       "columns": [
        {
         "name": "index",
         "rawType": "int64",
         "type": "integer"
        },
        {
         "name": "생존",
         "rawType": "int64",
         "type": "integer"
        },
        {
         "name": "나이",
         "rawType": "float64",
         "type": "float"
        },
        {
         "name": "형제자매",
         "rawType": "int64",
         "type": "integer"
        },
        {
         "name": "부모자녀",
         "rawType": "int64",
         "type": "integer"
        },
        {
         "name": "요금",
         "rawType": "float64",
         "type": "float"
        },
        {
         "name": "탑승지코드",
         "rawType": "object",
         "type": "string"
        },
        {
         "name": "객실등급",
         "rawType": "object",
         "type": "string"
        },
        {
         "name": "성인여부",
         "rawType": "object",
         "type": "string"
        },
        {
         "name": "개인탑승자",
         "rawType": "bool",
         "type": "boolean"
        }
       ],
       "ref": "62e9c466-27cf-4883-bec9-37f28b44ce86",
       "rows": [
        [
         "0",
         "0",
         "22.0",
         "1",
         "0",
         "7.25",
         "S",
         "Third",
         "man",
         "False"
        ],
        [
         "1",
         "1",
         "38.0",
         "1",
         "0",
         "71.2833",
         "C",
         "First",
         "woman",
         "False"
        ],
        [
         "2",
         "1",
         "26.0",
         "0",
         "0",
         "7.925",
         "S",
         "Third",
         "woman",
         "True"
        ],
        [
         "3",
         "1",
         "35.0",
         "1",
         "0",
         "53.1",
         "S",
         "First",
         "woman",
         "False"
        ],
        [
         "4",
         "0",
         "35.0",
         "0",
         "0",
         "8.05",
         "S",
         "Third",
         "man",
         "True"
        ]
       ],
       "shape": {
        "columns": 9,
        "rows": 5
       }
      },
      "text/html": [
       "<div>\n",
       "<style scoped>\n",
       "    .dataframe tbody tr th:only-of-type {\n",
       "        vertical-align: middle;\n",
       "    }\n",
       "\n",
       "    .dataframe tbody tr th {\n",
       "        vertical-align: top;\n",
       "    }\n",
       "\n",
       "    .dataframe thead th {\n",
       "        text-align: right;\n",
       "    }\n",
       "</style>\n",
       "<table border=\"1\" class=\"dataframe\">\n",
       "  <thead>\n",
       "    <tr style=\"text-align: right;\">\n",
       "      <th></th>\n",
       "      <th>생존</th>\n",
       "      <th>나이</th>\n",
       "      <th>형제자매</th>\n",
       "      <th>부모자녀</th>\n",
       "      <th>요금</th>\n",
       "      <th>탑승지코드</th>\n",
       "      <th>객실등급</th>\n",
       "      <th>성인여부</th>\n",
       "      <th>개인탑승자</th>\n",
       "    </tr>\n",
       "  </thead>\n",
       "  <tbody>\n",
       "    <tr>\n",
       "      <th>0</th>\n",
       "      <td>0</td>\n",
       "      <td>22.0</td>\n",
       "      <td>1</td>\n",
       "      <td>0</td>\n",
       "      <td>7.2500</td>\n",
       "      <td>S</td>\n",
       "      <td>Third</td>\n",
       "      <td>man</td>\n",
       "      <td>False</td>\n",
       "    </tr>\n",
       "    <tr>\n",
       "      <th>1</th>\n",
       "      <td>1</td>\n",
       "      <td>38.0</td>\n",
       "      <td>1</td>\n",
       "      <td>0</td>\n",
       "      <td>71.2833</td>\n",
       "      <td>C</td>\n",
       "      <td>First</td>\n",
       "      <td>woman</td>\n",
       "      <td>False</td>\n",
       "    </tr>\n",
       "    <tr>\n",
       "      <th>2</th>\n",
       "      <td>1</td>\n",
       "      <td>26.0</td>\n",
       "      <td>0</td>\n",
       "      <td>0</td>\n",
       "      <td>7.9250</td>\n",
       "      <td>S</td>\n",
       "      <td>Third</td>\n",
       "      <td>woman</td>\n",
       "      <td>True</td>\n",
       "    </tr>\n",
       "    <tr>\n",
       "      <th>3</th>\n",
       "      <td>1</td>\n",
       "      <td>35.0</td>\n",
       "      <td>1</td>\n",
       "      <td>0</td>\n",
       "      <td>53.1000</td>\n",
       "      <td>S</td>\n",
       "      <td>First</td>\n",
       "      <td>woman</td>\n",
       "      <td>False</td>\n",
       "    </tr>\n",
       "    <tr>\n",
       "      <th>4</th>\n",
       "      <td>0</td>\n",
       "      <td>35.0</td>\n",
       "      <td>0</td>\n",
       "      <td>0</td>\n",
       "      <td>8.0500</td>\n",
       "      <td>S</td>\n",
       "      <td>Third</td>\n",
       "      <td>man</td>\n",
       "      <td>True</td>\n",
       "    </tr>\n",
       "  </tbody>\n",
       "</table>\n",
       "</div>"
      ],
      "text/plain": [
       "   생존    나이  형제자매  부모자녀       요금 탑승지코드   객실등급   성인여부  개인탑승자\n",
       "0   0  22.0     1     0   7.2500     S  Third    man  False\n",
       "1   1  38.0     1     0  71.2833     C  First  woman  False\n",
       "2   1  26.0     0     0   7.9250     S  Third  woman   True\n",
       "3   1  35.0     1     0  53.1000     S  First  woman  False\n",
       "4   0  35.0     0     0   8.0500     S  Third    man   True"
      ]
     },
     "execution_count": 52,
     "metadata": {},
     "output_type": "execute_result"
    }
   ],
   "source": [
    "titanic_drop.head()"
   ]
  },
  {
   "cell_type": "code",
   "execution_count": 58,
   "id": "eb058c3b",
   "metadata": {},
   "outputs": [
    {
     "data": {
      "image/png": "[encoded data removed]",
      "text/plain": [
       "<Figure size 1307.62x1250 with 30 Axes>"
      ]
     },
     "metadata": {},
     "output_type": "display_data"
    }
   ],
   "source": [
    "sns.pairplot(titanic_drop, hue='생존', markers=['o', 's'])\n",
    "plt.suptitle('타이타닉 페어 플롯', y=1.02)\n",
    "plt.show()"
   ]
  },
  {
   "cell_type": "code",
   "execution_count": 65,
   "id": "474c0bad",
   "metadata": {},
   "outputs": [
    {
     "name": "stdout",
     "output_type": "stream",
     "text": [
      "<class 'pandas.core.frame.DataFrame'>\n",
      "RangeIndex: 891 entries, 0 to 890\n",
      "Data columns (total 9 columns):\n",
      " #   Column  Non-Null Count  Dtype  \n",
      "---  ------  --------------  -----  \n",
      " 0   생존      891 non-null    int64  \n",
      " 1   나이      891 non-null    float64\n",
      " 2   형제자매    891 non-null    int64  \n",
      " 3   부모자녀    891 non-null    int64  \n",
      " 4   요금      891 non-null    float64\n",
      " 5   탑승지코드   891 non-null    object \n",
      " 6   객실등급    891 non-null    object \n",
      " 7   성인여부    891 non-null    object \n",
      " 8   개인탑승자   891 non-null    bool   \n",
      "dtypes: bool(1), float64(2), int64(3), object(3)\n",
      "memory usage: 56.7+ KB\n"
     ]
    }
   ],
   "source": [
    "titanic_drop.info()"
   ]
  },
  {
   "cell_type": "code",
   "execution_count": 69,
   "id": "5d0c8c28",
   "metadata": {},
   "outputs": [
    {
     "data": {
      "image/png": "[encoded data removed]",
      "text/plain": [
       "<Figure size 1500x1500 with 9 Axes>"
      ]
     },
     "metadata": {},
     "output_type": "display_data"
    }
   ],
   "source": [
    "# 컬럼별 생존자 수 막대그래프 히스토그램\n",
    "cols = [col for col in titanic_drop.columns if col != '생존']\n",
    "n = len(cols)\n",
    "\n",
    "ncols = 3\n",
    "nrows = -(-n // ncols)  # 올림 나눗셈\n",
    "fig, axes = plt.subplots(nrows=nrows, ncols=ncols, figsize=(5*ncols, 5*nrows))\n",
    "axes = axes.flatten()\n",
    "\n",
    "for i, col in enumerate(cols):\n",
    "    if titanic_drop[col].dtype == 'object' or titanic_drop[col].dtype == 'bool':\n",
    "        sns.countplot(data=titanic_drop, x=col, hue='생존', ax=axes[i])\n",
    "        axes[i].set_title(f'{col}')\n",
    "        axes[i].set_ylabel('count')\n",
    "    else:\n",
    "        sns.histplot(data=titanic_drop, x=col, hue='생존', multiple='stack', bins=30, ax=axes[i])\n",
    "        axes[i].set_title(f'{col}')"
   ]
  },
  {
   "cell_type": "markdown",
   "id": "0427e779",
   "metadata": {},
   "source": [
    "### 변수 인코딩"
   ]
  },
  {
   "cell_type": "code",
   "execution_count": 13,
   "id": "b879a736",
   "metadata": {},
   "outputs": [
    {
     "name": "stdout",
     "output_type": "stream",
     "text": [
      "<class 'pandas.core.frame.DataFrame'>\n",
      "RangeIndex: 891 entries, 0 to 890\n",
      "Data columns (total 9 columns):\n",
      " #   Column  Non-Null Count  Dtype  \n",
      "---  ------  --------------  -----  \n",
      " 0   생존      891 non-null    int64  \n",
      " 1   나이      891 non-null    float64\n",
      " 2   형제자매    891 non-null    int64  \n",
      " 3   부모자녀    891 non-null    int64  \n",
      " 4   요금      891 non-null    float64\n",
      " 5   탑승지코드   891 non-null    object \n",
      " 6   객실등급    891 non-null    object \n",
      " 7   성인여부    891 non-null    object \n",
      " 8   개인탑승자   891 non-null    bool   \n",
      "dtypes: bool(1), float64(2), int64(3), object(3)\n",
      "memory usage: 56.7+ KB\n",
      "None\n"
     ]
    },
    {
     "data": {
      "application/vnd.microsoft.datawrangler.viewer.v0+json": {
       "columns": [
        {
         "name": "index",
         "rawType": "int64",
         "type": "integer"
        },
        {
         "name": "생존",
         "rawType": "int64",
         "type": "integer"
        },
        {
         "name": "나이",
         "rawType": "float64",
         "type": "float"
        },
        {
         "name": "형제자매",
         "rawType": "int64",
         "type": "integer"
        },
        {
         "name": "부모자녀",
         "rawType": "int64",
         "type": "integer"
        },
        {
         "name": "요금",
         "rawType": "float64",
         "type": "float"
        },
        {
         "name": "탑승지코드",
         "rawType": "object",
         "type": "string"
        },
        {
         "name": "객실등급",
         "rawType": "object",
         "type": "string"
        },
        {
         "name": "성인여부",
         "rawType": "object",
         "type": "string"
        },
        {
         "name": "개인탑승자",
         "rawType": "bool",
         "type": "boolean"
        }
       ],
       "ref": "13b15849-cc65-4d80-b371-b80bc87b0a5c",
       "rows": [
        [
         "0",
         "0",
         "22.0",
         "1",
         "0",
         "7.25",
         "S",
         "Third",
         "man",
         "False"
        ],
        [
         "1",
         "1",
         "38.0",
         "1",
         "0",
         "71.2833",
         "C",
         "First",
         "woman",
         "False"
        ],
        [
         "2",
         "1",
         "26.0",
         "0",
         "0",
         "7.925",
         "S",
         "Third",
         "woman",
         "True"
        ],
        [
         "3",
         "1",
         "35.0",
         "1",
         "0",
         "53.1",
         "S",
         "First",
         "woman",
         "False"
        ],
        [
         "4",
         "0",
         "35.0",
         "0",
         "0",
         "8.05",
         "S",
         "Third",
         "man",
         "True"
        ]
       ],
       "shape": {
        "columns": 9,
        "rows": 5
       }
      },
      "text/html": [
       "<div>\n",
       "<style scoped>\n",
       "    .dataframe tbody tr th:only-of-type {\n",
       "        vertical-align: middle;\n",
       "    }\n",
       "\n",
       "    .dataframe tbody tr th {\n",
       "        vertical-align: top;\n",
       "    }\n",
       "\n",
       "    .dataframe thead th {\n",
       "        text-align: right;\n",
       "    }\n",
       "</style>\n",
       "<table border=\"1\" class=\"dataframe\">\n",
       "  <thead>\n",
       "    <tr style=\"text-align: right;\">\n",
       "      <th></th>\n",
       "      <th>생존</th>\n",
       "      <th>나이</th>\n",
       "      <th>형제자매</th>\n",
       "      <th>부모자녀</th>\n",
       "      <th>요금</th>\n",
       "      <th>탑승지코드</th>\n",
       "      <th>객실등급</th>\n",
       "      <th>성인여부</th>\n",
       "      <th>개인탑승자</th>\n",
       "    </tr>\n",
       "  </thead>\n",
       "  <tbody>\n",
       "    <tr>\n",
       "      <th>0</th>\n",
       "      <td>0</td>\n",
       "      <td>22.0</td>\n",
       "      <td>1</td>\n",
       "      <td>0</td>\n",
       "      <td>7.2500</td>\n",
       "      <td>S</td>\n",
       "      <td>Third</td>\n",
       "      <td>man</td>\n",
       "      <td>False</td>\n",
       "    </tr>\n",
       "    <tr>\n",
       "      <th>1</th>\n",
       "      <td>1</td>\n",
       "      <td>38.0</td>\n",
       "      <td>1</td>\n",
       "      <td>0</td>\n",
       "      <td>71.2833</td>\n",
       "      <td>C</td>\n",
       "      <td>First</td>\n",
       "      <td>woman</td>\n",
       "      <td>False</td>\n",
       "    </tr>\n",
       "    <tr>\n",
       "      <th>2</th>\n",
       "      <td>1</td>\n",
       "      <td>26.0</td>\n",
       "      <td>0</td>\n",
       "      <td>0</td>\n",
       "      <td>7.9250</td>\n",
       "      <td>S</td>\n",
       "      <td>Third</td>\n",
       "      <td>woman</td>\n",
       "      <td>True</td>\n",
       "    </tr>\n",
       "    <tr>\n",
       "      <th>3</th>\n",
       "      <td>1</td>\n",
       "      <td>35.0</td>\n",
       "      <td>1</td>\n",
       "      <td>0</td>\n",
       "      <td>53.1000</td>\n",
       "      <td>S</td>\n",
       "      <td>First</td>\n",
       "      <td>woman</td>\n",
       "      <td>False</td>\n",
       "    </tr>\n",
       "    <tr>\n",
       "      <th>4</th>\n",
       "      <td>0</td>\n",
       "      <td>35.0</td>\n",
       "      <td>0</td>\n",
       "      <td>0</td>\n",
       "      <td>8.0500</td>\n",
       "      <td>S</td>\n",
       "      <td>Third</td>\n",
       "      <td>man</td>\n",
       "      <td>True</td>\n",
       "    </tr>\n",
       "  </tbody>\n",
       "</table>\n",
       "</div>"
      ],
      "text/plain": [
       "   생존    나이  형제자매  부모자녀       요금 탑승지코드   객실등급   성인여부  개인탑승자\n",
       "0   0  22.0     1     0   7.2500     S  Third    man  False\n",
       "1   1  38.0     1     0  71.2833     C  First  woman  False\n",
       "2   1  26.0     0     0   7.9250     S  Third  woman   True\n",
       "3   1  35.0     1     0  53.1000     S  First  woman  False\n",
       "4   0  35.0     0     0   8.0500     S  Third    man   True"
      ]
     },
     "metadata": {},
     "output_type": "display_data"
    }
   ],
   "source": [
    "print(titanic_drop.info())\n",
    "display(titanic_drop.head())"
   ]
  },
  {
   "cell_type": "code",
   "execution_count": 14,
   "id": "16491a7f",
   "metadata": {},
   "outputs": [],
   "source": [
    "binary_columns = ['개인탑승자']"
   ]
  },
  {
   "cell_type": "code",
   "execution_count": 15,
   "id": "48e3c2bd",
   "metadata": {},
   "outputs": [],
   "source": [
    "cate_columns = ['탑승지코드', '객실등급', '성인여부']"
   ]
  },
  {
   "cell_type": "code",
   "execution_count": 16,
   "id": "cb5d56c6",
   "metadata": {},
   "outputs": [],
   "source": [
    "def dummy_encoding(df, col_list):\n",
    "    cate_df = titanic_drop[col_list]\n",
    "\n",
    "    df_enc = pd.get_dummies(cate_df)\n",
    "\n",
    "    return df_enc"
   ]
  },
  {
   "cell_type": "code",
   "execution_count": 17,
   "id": "95d251ef",
   "metadata": {},
   "outputs": [],
   "source": [
    "cate_df = dummy_encoding(titanic_drop, cate_columns)"
   ]
  },
  {
   "cell_type": "code",
   "execution_count": 18,
   "id": "865ea6ba",
   "metadata": {},
   "outputs": [
    {
     "data": {
      "application/vnd.microsoft.datawrangler.viewer.v0+json": {
       "columns": [
        {
         "name": "index",
         "rawType": "int64",
         "type": "integer"
        },
        {
         "name": "탑승지코드_C",
         "rawType": "bool",
         "type": "boolean"
        },
        {
         "name": "탑승지코드_Q",
         "rawType": "bool",
         "type": "boolean"
        },
        {
         "name": "탑승지코드_S",
         "rawType": "bool",
         "type": "boolean"
        },
        {
         "name": "객실등급_First",
         "rawType": "bool",
         "type": "boolean"
        },
        {
         "name": "객실등급_Second",
         "rawType": "bool",
         "type": "boolean"
        },
        {
         "name": "객실등급_Third",
         "rawType": "bool",
         "type": "boolean"
        },
        {
         "name": "성인여부_child",
         "rawType": "bool",
         "type": "boolean"
        },
        {
         "name": "성인여부_man",
         "rawType": "bool",
         "type": "boolean"
        },
        {
         "name": "성인여부_woman",
         "rawType": "bool",
         "type": "boolean"
        }
       ],
       "ref": "eb712075-c3cc-434d-9f64-38a63114c5bc",
       "rows": [
        [
         "0",
         "False",
         "False",
         "True",
         "False",
         "False",
         "True",
         "False",
         "True",
         "False"
        ],
        [
         "1",
         "True",
         "False",
         "False",
         "True",
         "False",
         "False",
         "False",
         "False",
         "True"
        ],
        [
         "2",
         "False",
         "False",
         "True",
         "False",
         "False",
         "True",
         "False",
         "False",
         "True"
        ],
        [
         "3",
         "False",
         "False",
         "True",
         "True",
         "False",
         "False",
         "False",
         "False",
         "True"
        ],
        [
         "4",
         "False",
         "False",
         "True",
         "False",
         "False",
         "True",
         "False",
         "True",
         "False"
        ],
        [
         "5",
         "False",
         "True",
         "False",
         "False",
         "False",
         "True",
         "False",
         "True",
         "False"
        ],
        [
         "6",
         "False",
         "False",
         "True",
         "True",
         "False",
         "False",
         "False",
         "True",
         "False"
        ],
        [
         "7",
         "False",
         "False",
         "True",
         "False",
         "False",
         "True",
         "True",
         "False",
         "False"
        ],
        [
         "8",
         "False",
         "False",
         "True",
         "False",
         "False",
         "True",
         "False",
         "False",
         "True"
        ],
        [
         "9",
         "True",
         "False",
         "False",
         "False",
         "True",
         "False",
         "True",
         "False",
         "False"
        ],
        [
         "10",
         "False",
         "False",
         "True",
         "False",
         "False",
         "True",
         "True",
         "False",
         "False"
        ],
        [
         "11",
         "False",
         "False",
         "True",
         "True",
         "False",
         "False",
         "False",
         "False",
         "True"
        ],
        [
         "12",
         "False",
         "False",
         "True",
         "False",
         "False",
         "True",
         "False",
         "True",
         "False"
        ],
        [
         "13",
         "False",
         "False",
         "True",
         "False",
         "False",
         "True",
         "False",
         "True",
         "False"
        ],
        [
         "14",
         "False",
         "False",
         "True",
         "False",
         "False",
         "True",
         "True",
         "False",
         "False"
        ],
        [
         "15",
         "False",
         "False",
         "True",
         "False",
         "True",
         "False",
         "False",
         "False",
         "True"
        ],
        [
         "16",
         "False",
         "True",
         "False",
         "False",
         "False",
         "True",
         "True",
         "False",
         "False"
        ],
        [
         "17",
         "False",
         "False",
         "True",
         "False",
         "True",
         "False",
         "False",
         "True",
         "False"
        ],
        [
         "18",
         "False",
         "False",
         "True",
         "False",
         "False",
         "True",
         "False",
         "False",
         "True"
        ],
        [
         "19",
         "True",
         "False",
         "False",
         "False",
         "False",
         "True",
         "False",
         "False",
         "True"
        ],
        [
         "20",
         "False",
         "False",
         "True",
         "False",
         "True",
         "False",
         "False",
         "True",
         "False"
        ],
        [
         "21",
         "False",
         "False",
         "True",
         "False",
         "True",
         "False",
         "False",
         "True",
         "False"
        ],
        [
         "22",
         "False",
         "True",
         "False",
         "False",
         "False",
         "True",
         "True",
         "False",
         "False"
        ],
        [
         "23",
         "False",
         "False",
         "True",
         "True",
         "False",
         "False",
         "False",
         "True",
         "False"
        ],
        [
         "24",
         "False",
         "False",
         "True",
         "False",
         "False",
         "True",
         "True",
         "False",
         "False"
        ],
        [
         "25",
         "False",
         "False",
         "True",
         "False",
         "False",
         "True",
         "False",
         "False",
         "True"
        ],
        [
         "26",
         "True",
         "False",
         "False",
         "False",
         "False",
         "True",
         "False",
         "True",
         "False"
        ],
        [
         "27",
         "False",
         "False",
         "True",
         "True",
         "False",
         "False",
         "False",
         "True",
         "False"
        ],
        [
         "28",
         "False",
         "True",
         "False",
         "False",
         "False",
         "True",
         "False",
         "False",
         "True"
        ],
        [
         "29",
         "False",
         "False",
         "True",
         "False",
         "False",
         "True",
         "False",
         "True",
         "False"
        ],
        [
         "30",
         "True",
         "False",
         "False",
         "True",
         "False",
         "False",
         "False",
         "True",
         "False"
        ],
        [
         "31",
         "True",
         "False",
         "False",
         "True",
         "False",
         "False",
         "False",
         "False",
         "True"
        ],
        [
         "32",
         "False",
         "True",
         "False",
         "False",
         "False",
         "True",
         "False",
         "False",
         "True"
        ],
        [
         "33",
         "False",
         "False",
         "True",
         "False",
         "True",
         "False",
         "False",
         "True",
         "False"
        ],
        [
         "34",
         "True",
         "False",
         "False",
         "True",
         "False",
         "False",
         "False",
         "True",
         "False"
        ],
        [
         "35",
         "False",
         "False",
         "True",
         "True",
         "False",
         "False",
         "False",
         "True",
         "False"
        ],
        [
         "36",
         "True",
         "False",
         "False",
         "False",
         "False",
         "True",
         "False",
         "True",
         "False"
        ],
        [
         "37",
         "False",
         "False",
         "True",
         "False",
         "False",
         "True",
         "False",
         "True",
         "False"
        ],
        [
         "38",
         "False",
         "False",
         "True",
         "False",
         "False",
         "True",
         "False",
         "False",
         "True"
        ],
        [
         "39",
         "True",
         "False",
         "False",
         "False",
         "False",
         "True",
         "True",
         "False",
         "False"
        ],
        [
         "40",
         "False",
         "False",
         "True",
         "False",
         "False",
         "True",
         "False",
         "False",
         "True"
        ],
        [
         "41",
         "False",
         "False",
         "True",
         "False",
         "True",
         "False",
         "False",
         "False",
         "True"
        ],
        [
         "42",
         "True",
         "False",
         "False",
         "False",
         "False",
         "True",
         "False",
         "True",
         "False"
        ],
        [
         "43",
         "True",
         "False",
         "False",
         "False",
         "True",
         "False",
         "True",
         "False",
         "False"
        ],
        [
         "44",
         "False",
         "True",
         "False",
         "False",
         "False",
         "True",
         "False",
         "False",
         "True"
        ],
        [
         "45",
         "False",
         "False",
         "True",
         "False",
         "False",
         "True",
         "False",
         "True",
         "False"
        ],
        [
         "46",
         "False",
         "True",
         "False",
         "False",
         "False",
         "True",
         "False",
         "True",
         "False"
        ],
        [
         "47",
         "False",
         "True",
         "False",
         "False",
         "False",
         "True",
         "False",
         "False",
         "True"
        ],
        [
         "48",
         "True",
         "False",
         "False",
         "False",
         "False",
         "True",
         "False",
         "True",
         "False"
        ],
        [
         "49",
         "False",
         "False",
         "True",
         "False",
         "False",
         "True",
         "False",
         "False",
         "True"
        ]
       ],
       "shape": {
        "columns": 9,
        "rows": 891
       }
      },
      "text/html": [
       "<div>\n",
       "<style scoped>\n",
       "    .dataframe tbody tr th:only-of-type {\n",
       "        vertical-align: middle;\n",
       "    }\n",
       "\n",
       "    .dataframe tbody tr th {\n",
       "        vertical-align: top;\n",
       "    }\n",
       "\n",
       "    .dataframe thead th {\n",
       "        text-align: right;\n",
       "    }\n",
       "</style>\n",
       "<table border=\"1\" class=\"dataframe\">\n",
       "  <thead>\n",
       "    <tr style=\"text-align: right;\">\n",
       "      <th></th>\n",
       "      <th>탑승지코드_C</th>\n",
       "      <th>탑승지코드_Q</th>\n",
       "      <th>탑승지코드_S</th>\n",
       "      <th>객실등급_First</th>\n",
       "      <th>객실등급_Second</th>\n",
       "      <th>객실등급_Third</th>\n",
       "      <th>성인여부_child</th>\n",
       "      <th>성인여부_man</th>\n",
       "      <th>성인여부_woman</th>\n",
       "    </tr>\n",
       "  </thead>\n",
       "  <tbody>\n",
       "    <tr>\n",
       "      <th>0</th>\n",
       "      <td>False</td>\n",
       "      <td>False</td>\n",
       "      <td>True</td>\n",
       "      <td>False</td>\n",
       "      <td>False</td>\n",
       "      <td>True</td>\n",
       "      <td>False</td>\n",
       "      <td>True</td>\n",
       "      <td>False</td>\n",
       "    </tr>\n",
       "    <tr>\n",
       "      <th>1</th>\n",
       "      <td>True</td>\n",
       "      <td>False</td>\n",
       "      <td>False</td>\n",
       "      <td>True</td>\n",
       "      <td>False</td>\n",
       "      <td>False</td>\n",
       "      <td>False</td>\n",
       "      <td>False</td>\n",
       "      <td>True</td>\n",
       "    </tr>\n",
       "    <tr>\n",
       "      <th>2</th>\n",
       "      <td>False</td>\n",
       "      <td>False</td>\n",
       "      <td>True</td>\n",
       "      <td>False</td>\n",
       "      <td>False</td>\n",
       "      <td>True</td>\n",
       "      <td>False</td>\n",
       "      <td>False</td>\n",
       "      <td>True</td>\n",
       "    </tr>\n",
       "    <tr>\n",
       "      <th>3</th>\n",
       "      <td>False</td>\n",
       "      <td>False</td>\n",
       "      <td>True</td>\n",
       "      <td>True</td>\n",
       "      <td>False</td>\n",
       "      <td>False</td>\n",
       "      <td>False</td>\n",
       "      <td>False</td>\n",
       "      <td>True</td>\n",
       "    </tr>\n",
       "    <tr>\n",
       "      <th>4</th>\n",
       "      <td>False</td>\n",
       "      <td>False</td>\n",
       "      <td>True</td>\n",
       "      <td>False</td>\n",
       "      <td>False</td>\n",
       "      <td>True</td>\n",
       "      <td>False</td>\n",
       "      <td>True</td>\n",
       "      <td>False</td>\n",
       "    </tr>\n",
       "    <tr>\n",
       "      <th>...</th>\n",
       "      <td>...</td>\n",
       "      <td>...</td>\n",
       "      <td>...</td>\n",
       "      <td>...</td>\n",
       "      <td>...</td>\n",
       "      <td>...</td>\n",
       "      <td>...</td>\n",
       "      <td>...</td>\n",
       "      <td>...</td>\n",
       "    </tr>\n",
       "    <tr>\n",
       "      <th>886</th>\n",
       "      <td>False</td>\n",
       "      <td>False</td>\n",
       "      <td>True</td>\n",
       "      <td>False</td>\n",
       "      <td>True</td>\n",
       "      <td>False</td>\n",
       "      <td>False</td>\n",
       "      <td>True</td>\n",
       "      <td>False</td>\n",
       "    </tr>\n",
       "    <tr>\n",
       "      <th>887</th>\n",
       "      <td>False</td>\n",
       "      <td>False</td>\n",
       "      <td>True</td>\n",
       "      <td>True</td>\n",
       "      <td>False</td>\n",
       "      <td>False</td>\n",
       "      <td>False</td>\n",
       "      <td>False</td>\n",
       "      <td>True</td>\n",
       "    </tr>\n",
       "    <tr>\n",
       "      <th>888</th>\n",
       "      <td>False</td>\n",
       "      <td>False</td>\n",
       "      <td>True</td>\n",
       "      <td>False</td>\n",
       "      <td>False</td>\n",
       "      <td>True</td>\n",
       "      <td>False</td>\n",
       "      <td>False</td>\n",
       "      <td>True</td>\n",
       "    </tr>\n",
       "    <tr>\n",
       "      <th>889</th>\n",
       "      <td>True</td>\n",
       "      <td>False</td>\n",
       "      <td>False</td>\n",
       "      <td>True</td>\n",
       "      <td>False</td>\n",
       "      <td>False</td>\n",
       "      <td>False</td>\n",
       "      <td>True</td>\n",
       "      <td>False</td>\n",
       "    </tr>\n",
       "    <tr>\n",
       "      <th>890</th>\n",
       "      <td>False</td>\n",
       "      <td>True</td>\n",
       "      <td>False</td>\n",
       "      <td>False</td>\n",
       "      <td>False</td>\n",
       "      <td>True</td>\n",
       "      <td>False</td>\n",
       "      <td>True</td>\n",
       "      <td>False</td>\n",
       "    </tr>\n",
       "  </tbody>\n",
       "</table>\n",
       "<p>891 rows × 9 columns</p>\n",
       "</div>"
      ],
      "text/plain": [
       "     탑승지코드_C  탑승지코드_Q  탑승지코드_S  객실등급_First  객실등급_Second  객실등급_Third  \\\n",
       "0      False    False     True       False        False        True   \n",
       "1       True    False    False        True        False       False   \n",
       "2      False    False     True       False        False        True   \n",
       "3      False    False     True        True        False       False   \n",
       "4      False    False     True       False        False        True   \n",
       "..       ...      ...      ...         ...          ...         ...   \n",
       "886    False    False     True       False         True       False   \n",
       "887    False    False     True        True        False       False   \n",
       "888    False    False     True       False        False        True   \n",
       "889     True    False    False        True        False       False   \n",
       "890    False     True    False       False        False        True   \n",
       "\n",
       "     성인여부_child  성인여부_man  성인여부_woman  \n",
       "0         False      True       False  \n",
       "1         False     False        True  \n",
       "2         False     False        True  \n",
       "3         False     False        True  \n",
       "4         False      True       False  \n",
       "..          ...       ...         ...  \n",
       "886       False      True       False  \n",
       "887       False     False        True  \n",
       "888       False     False        True  \n",
       "889       False      True       False  \n",
       "890       False      True       False  \n",
       "\n",
       "[891 rows x 9 columns]"
      ]
     },
     "execution_count": 18,
     "metadata": {},
     "output_type": "execute_result"
    }
   ],
   "source": [
    "cate_df"
   ]
  },
  {
   "cell_type": "code",
   "execution_count": 19,
   "id": "9f669761",
   "metadata": {},
   "outputs": [],
   "source": [
    "train_df = pd.concat([cate_df, titanic_drop[['개인탑승자', '나이', '형제자매', '부모자녀', '요금']]], axis=1)\n",
    "test_df = titanic_drop['생존']"
   ]
  },
  {
   "cell_type": "code",
   "execution_count": 20,
   "id": "6025f8ba",
   "metadata": {},
   "outputs": [
    {
     "data": {
      "application/vnd.microsoft.datawrangler.viewer.v0+json": {
       "columns": [
        {
         "name": "index",
         "rawType": "int64",
         "type": "integer"
        },
        {
         "name": "탑승지코드_C",
         "rawType": "bool",
         "type": "boolean"
        },
        {
         "name": "탑승지코드_Q",
         "rawType": "bool",
         "type": "boolean"
        },
        {
         "name": "탑승지코드_S",
         "rawType": "bool",
         "type": "boolean"
        },
        {
         "name": "객실등급_First",
         "rawType": "bool",
         "type": "boolean"
        },
        {
         "name": "객실등급_Second",
         "rawType": "bool",
         "type": "boolean"
        },
        {
         "name": "객실등급_Third",
         "rawType": "bool",
         "type": "boolean"
        },
        {
         "name": "성인여부_child",
         "rawType": "bool",
         "type": "boolean"
        },
        {
         "name": "성인여부_man",
         "rawType": "bool",
         "type": "boolean"
        },
        {
         "name": "성인여부_woman",
         "rawType": "bool",
         "type": "boolean"
        },
        {
         "name": "개인탑승자",
         "rawType": "bool",
         "type": "boolean"
        },
        {
         "name": "나이",
         "rawType": "float64",
         "type": "float"
        },
        {
         "name": "형제자매",
         "rawType": "int64",
         "type": "integer"
        },
        {
         "name": "부모자녀",
         "rawType": "int64",
         "type": "integer"
        },
        {
         "name": "요금",
         "rawType": "float64",
         "type": "float"
        }
       ],
       "ref": "7176406b-691d-414f-9396-ff2d2d2a12b3",
       "rows": [
        [
         "0",
         "False",
         "False",
         "True",
         "False",
         "False",
         "True",
         "False",
         "True",
         "False",
         "False",
         "22.0",
         "1",
         "0",
         "7.25"
        ],
        [
         "1",
         "True",
         "False",
         "False",
         "True",
         "False",
         "False",
         "False",
         "False",
         "True",
         "False",
         "38.0",
         "1",
         "0",
         "71.2833"
        ],
        [
         "2",
         "False",
         "False",
         "True",
         "False",
         "False",
         "True",
         "False",
         "False",
         "True",
         "True",
         "26.0",
         "0",
         "0",
         "7.925"
        ],
        [
         "3",
         "False",
         "False",
         "True",
         "True",
         "False",
         "False",
         "False",
         "False",
         "True",
         "False",
         "35.0",
         "1",
         "0",
         "53.1"
        ],
        [
         "4",
         "False",
         "False",
         "True",
         "False",
         "False",
         "True",
         "False",
         "True",
         "False",
         "True",
         "35.0",
         "0",
         "0",
         "8.05"
        ]
       ],
       "shape": {
        "columns": 14,
        "rows": 5
       }
      },
      "text/html": [
       "<div>\n",
       "<style scoped>\n",
       "    .dataframe tbody tr th:only-of-type {\n",
       "        vertical-align: middle;\n",
       "    }\n",
       "\n",
       "    .dataframe tbody tr th {\n",
       "        vertical-align: top;\n",
       "    }\n",
       "\n",
       "    .dataframe thead th {\n",
       "        text-align: right;\n",
       "    }\n",
       "</style>\n",
       "<table border=\"1\" class=\"dataframe\">\n",
       "  <thead>\n",
       "    <tr style=\"text-align: right;\">\n",
       "      <th></th>\n",
       "      <th>탑승지코드_C</th>\n",
       "      <th>탑승지코드_Q</th>\n",
       "      <th>탑승지코드_S</th>\n",
       "      <th>객실등급_First</th>\n",
       "      <th>객실등급_Second</th>\n",
       "      <th>객실등급_Third</th>\n",
       "      <th>성인여부_child</th>\n",
       "      <th>성인여부_man</th>\n",
       "      <th>성인여부_woman</th>\n",
       "      <th>개인탑승자</th>\n",
       "      <th>나이</th>\n",
       "      <th>형제자매</th>\n",
       "      <th>부모자녀</th>\n",
       "      <th>요금</th>\n",
       "    </tr>\n",
       "  </thead>\n",
       "  <tbody>\n",
       "    <tr>\n",
       "      <th>0</th>\n",
       "      <td>False</td>\n",
       "      <td>False</td>\n",
       "      <td>True</td>\n",
       "      <td>False</td>\n",
       "      <td>False</td>\n",
       "      <td>True</td>\n",
       "      <td>False</td>\n",
       "      <td>True</td>\n",
       "      <td>False</td>\n",
       "      <td>False</td>\n",
       "      <td>22.0</td>\n",
       "      <td>1</td>\n",
       "      <td>0</td>\n",
       "      <td>7.2500</td>\n",
       "    </tr>\n",
       "    <tr>\n",
       "      <th>1</th>\n",
       "      <td>True</td>\n",
       "      <td>False</td>\n",
       "      <td>False</td>\n",
       "      <td>True</td>\n",
       "      <td>False</td>\n",
       "      <td>False</td>\n",
       "      <td>False</td>\n",
       "      <td>False</td>\n",
       "      <td>True</td>\n",
       "      <td>False</td>\n",
       "      <td>38.0</td>\n",
       "      <td>1</td>\n",
       "      <td>0</td>\n",
       "      <td>71.2833</td>\n",
       "    </tr>\n",
       "    <tr>\n",
       "      <th>2</th>\n",
       "      <td>False</td>\n",
       "      <td>False</td>\n",
       "      <td>True</td>\n",
       "      <td>False</td>\n",
       "      <td>False</td>\n",
       "      <td>True</td>\n",
       "      <td>False</td>\n",
       "      <td>False</td>\n",
       "      <td>True</td>\n",
       "      <td>True</td>\n",
       "      <td>26.0</td>\n",
       "      <td>0</td>\n",
       "      <td>0</td>\n",
       "      <td>7.9250</td>\n",
       "    </tr>\n",
       "    <tr>\n",
       "      <th>3</th>\n",
       "      <td>False</td>\n",
       "      <td>False</td>\n",
       "      <td>True</td>\n",
       "      <td>True</td>\n",
       "      <td>False</td>\n",
       "      <td>False</td>\n",
       "      <td>False</td>\n",
       "      <td>False</td>\n",
       "      <td>True</td>\n",
       "      <td>False</td>\n",
       "      <td>35.0</td>\n",
       "      <td>1</td>\n",
       "      <td>0</td>\n",
       "      <td>53.1000</td>\n",
       "    </tr>\n",
       "    <tr>\n",
       "      <th>4</th>\n",
       "      <td>False</td>\n",
       "      <td>False</td>\n",
       "      <td>True</td>\n",
       "      <td>False</td>\n",
       "      <td>False</td>\n",
       "      <td>True</td>\n",
       "      <td>False</td>\n",
       "      <td>True</td>\n",
       "      <td>False</td>\n",
       "      <td>True</td>\n",
       "      <td>35.0</td>\n",
       "      <td>0</td>\n",
       "      <td>0</td>\n",
       "      <td>8.0500</td>\n",
       "    </tr>\n",
       "  </tbody>\n",
       "</table>\n",
       "</div>"
      ],
      "text/plain": [
       "   탑승지코드_C  탑승지코드_Q  탑승지코드_S  객실등급_First  객실등급_Second  객실등급_Third  성인여부_child  \\\n",
       "0    False    False     True       False        False        True       False   \n",
       "1     True    False    False        True        False       False       False   \n",
       "2    False    False     True       False        False        True       False   \n",
       "3    False    False     True        True        False       False       False   \n",
       "4    False    False     True       False        False        True       False   \n",
       "\n",
       "   성인여부_man  성인여부_woman  개인탑승자    나이  형제자매  부모자녀       요금  \n",
       "0      True       False  False  22.0     1     0   7.2500  \n",
       "1     False        True  False  38.0     1     0  71.2833  \n",
       "2     False        True   True  26.0     0     0   7.9250  \n",
       "3     False        True  False  35.0     1     0  53.1000  \n",
       "4      True       False   True  35.0     0     0   8.0500  "
      ]
     },
     "execution_count": 20,
     "metadata": {},
     "output_type": "execute_result"
    }
   ],
   "source": [
    "train_df.head()"
   ]
  },
  {
   "cell_type": "code",
   "execution_count": 21,
   "id": "897b372e",
   "metadata": {},
   "outputs": [
    {
     "data": {
      "text/plain": [
       "<Axes: >"
      ]
     },
     "execution_count": 21,
     "metadata": {},
     "output_type": "execute_result"
    },
    {
     "data": {
      "image/png": "[encoded data removed]",
      "text/plain": [
       "<Figure size 2000x1400 with 2 Axes>"
      ]
     },
     "metadata": {},
     "output_type": "display_data"
    }
   ],
   "source": [
    "corr_df = train_df.copy()\n",
    "corr_df['생존'] = test_df\n",
    "\n",
    "plt.figure(figsize=(20,14))\n",
    "sns.heatmap(corr_df.corr().round(2), annot = True)"
   ]
  },
  {
   "cell_type": "markdown",
   "id": "1d9d4fa0",
   "metadata": {},
   "source": [
    "### Prediction"
   ]
  },
  {
   "cell_type": "code",
   "execution_count": 88,
   "id": "eb339104",
   "metadata": {},
   "outputs": [],
   "source": [
    "test_df = pd.DataFrame(test_df)"
   ]
  },
  {
   "cell_type": "code",
   "execution_count": 89,
   "id": "4164dc2d",
   "metadata": {},
   "outputs": [
    {
     "data": {
      "application/vnd.microsoft.datawrangler.viewer.v0+json": {
       "columns": [
        {
         "name": "index",
         "rawType": "int64",
         "type": "integer"
        },
        {
         "name": "생존",
         "rawType": "int64",
         "type": "integer"
        }
       ],
       "ref": "d82fb82f-0381-47f7-a98f-92c3c423d70a",
       "rows": [
        [
         "0",
         "0"
        ],
        [
         "1",
         "1"
        ],
        [
         "2",
         "1"
        ],
        [
         "3",
         "1"
        ],
        [
         "4",
         "0"
        ],
        [
         "5",
         "0"
        ],
        [
         "6",
         "0"
        ],
        [
         "7",
         "0"
        ],
        [
         "8",
         "1"
        ],
        [
         "9",
         "1"
        ],
        [
         "10",
         "1"
        ],
        [
         "11",
         "1"
        ],
        [
         "12",
         "0"
        ],
        [
         "13",
         "0"
        ],
        [
         "14",
         "0"
        ],
        [
         "15",
         "1"
        ],
        [
         "16",
         "0"
        ],
        [
         "17",
         "1"
        ],
        [
         "18",
         "0"
        ],
        [
         "19",
         "1"
        ],
        [
         "20",
         "0"
        ],
        [
         "21",
         "1"
        ],
        [
         "22",
         "1"
        ],
        [
         "23",
         "1"
        ],
        [
         "24",
         "0"
        ],
        [
         "25",
         "1"
        ],
        [
         "26",
         "0"
        ],
        [
         "27",
         "0"
        ],
        [
         "28",
         "1"
        ],
        [
         "29",
         "0"
        ],
        [
         "30",
         "0"
        ],
        [
         "31",
         "1"
        ],
        [
         "32",
         "1"
        ],
        [
         "33",
         "0"
        ],
        [
         "34",
         "0"
        ],
        [
         "35",
         "0"
        ],
        [
         "36",
         "1"
        ],
        [
         "37",
         "0"
        ],
        [
         "38",
         "0"
        ],
        [
         "39",
         "1"
        ],
        [
         "40",
         "0"
        ],
        [
         "41",
         "0"
        ],
        [
         "42",
         "0"
        ],
        [
         "43",
         "1"
        ],
        [
         "44",
         "1"
        ],
        [
         "45",
         "0"
        ],
        [
         "46",
         "0"
        ],
        [
         "47",
         "1"
        ],
        [
         "48",
         "0"
        ],
        [
         "49",
         "0"
        ]
       ],
       "shape": {
        "columns": 1,
        "rows": 891
       }
      },
      "text/html": [
       "<div>\n",
       "<style scoped>\n",
       "    .dataframe tbody tr th:only-of-type {\n",
       "        vertical-align: middle;\n",
       "    }\n",
       "\n",
       "    .dataframe tbody tr th {\n",
       "        vertical-align: top;\n",
       "    }\n",
       "\n",
       "    .dataframe thead th {\n",
       "        text-align: right;\n",
       "    }\n",
       "</style>\n",
       "<table border=\"1\" class=\"dataframe\">\n",
       "  <thead>\n",
       "    <tr style=\"text-align: right;\">\n",
       "      <th></th>\n",
       "      <th>생존</th>\n",
       "    </tr>\n",
       "  </thead>\n",
       "  <tbody>\n",
       "    <tr>\n",
       "      <th>0</th>\n",
       "      <td>0</td>\n",
       "    </tr>\n",
       "    <tr>\n",
       "      <th>1</th>\n",
       "      <td>1</td>\n",
       "    </tr>\n",
       "    <tr>\n",
       "      <th>2</th>\n",
       "      <td>1</td>\n",
       "    </tr>\n",
       "    <tr>\n",
       "      <th>3</th>\n",
       "      <td>1</td>\n",
       "    </tr>\n",
       "    <tr>\n",
       "      <th>4</th>\n",
       "      <td>0</td>\n",
       "    </tr>\n",
       "    <tr>\n",
       "      <th>...</th>\n",
       "      <td>...</td>\n",
       "    </tr>\n",
       "    <tr>\n",
       "      <th>886</th>\n",
       "      <td>0</td>\n",
       "    </tr>\n",
       "    <tr>\n",
       "      <th>887</th>\n",
       "      <td>1</td>\n",
       "    </tr>\n",
       "    <tr>\n",
       "      <th>888</th>\n",
       "      <td>0</td>\n",
       "    </tr>\n",
       "    <tr>\n",
       "      <th>889</th>\n",
       "      <td>1</td>\n",
       "    </tr>\n",
       "    <tr>\n",
       "      <th>890</th>\n",
       "      <td>0</td>\n",
       "    </tr>\n",
       "  </tbody>\n",
       "</table>\n",
       "<p>891 rows × 1 columns</p>\n",
       "</div>"
      ],
      "text/plain": [
       "     생존\n",
       "0     0\n",
       "1     1\n",
       "2     1\n",
       "3     1\n",
       "4     0\n",
       "..   ..\n",
       "886   0\n",
       "887   1\n",
       "888   0\n",
       "889   1\n",
       "890   0\n",
       "\n",
       "[891 rows x 1 columns]"
      ]
     },
     "execution_count": 89,
     "metadata": {},
     "output_type": "execute_result"
    }
   ],
   "source": [
    "test_df"
   ]
  },
  {
   "cell_type": "markdown",
   "id": "02790ffd",
   "metadata": {},
   "source": [
    "#### KNN"
   ]
  },
  {
   "cell_type": "code",
   "execution_count": 127,
   "id": "f4622f95",
   "metadata": {},
   "outputs": [],
   "source": [
    "test = titanic_drop['생존']"
   ]
  },
  {
   "cell_type": "code",
   "execution_count": 25,
   "id": "19e8ba81",
   "metadata": {},
   "outputs": [],
   "source": [
    "from sklearn.model_selection import train_test_split\n",
    "from sklearn.preprocessing import StandardScaler\n",
    "from sklearn.neighbors import KNeighborsClassifier\n",
    "from sklearn.metrics import (\n",
    "    accuracy_score, precision_score, recall_score,\n",
    "    f1_score, confusion_matrix, classification_report, roc_auc_score, roc_curve\n",
    ")"
   ]
  },
  {
   "cell_type": "code",
   "execution_count": 128,
   "id": "16f724a2",
   "metadata": {},
   "outputs": [
    {
     "name": "stdout",
     "output_type": "stream",
     "text": [
      "✅ 정확도: 0.8436\n",
      "✅ 정밀도: 0.8194\n",
      "✅ 재현율: 0.7973\n",
      "✅ F1 스코어: 0.8082\n",
      "✅ ROC-AUC: 0.8764\n",
      "\n",
      "✅ 분류 리포트:\n",
      "               precision    recall  f1-score   support\n",
      "\n",
      "           0       0.86      0.88      0.87       105\n",
      "           1       0.82      0.80      0.81        74\n",
      "\n",
      "    accuracy                           0.84       179\n",
      "   macro avg       0.84      0.84      0.84       179\n",
      "weighted avg       0.84      0.84      0.84       179\n",
      "\n"
     ]
    },
    {
     "data": {
      "image/png": "[encoded data removed]",
      "text/plain": [
       "<Figure size 600x400 with 2 Axes>"
      ]
     },
     "metadata": {},
     "output_type": "display_data"
    }
   ],
   "source": [
    "# 훈련, 검증 데이터 분할\n",
    "X_train, X_test, y_train, y_test = train_test_split(train_df, test, test_size=0.2, random_state=42)\n",
    "\n",
    "# 수치형 변수 스케일링\n",
    "scaler = StandardScaler()\n",
    "X_train_scaled = scaler.fit_transform(X_train)\n",
    "X_test_scaled = scaler.transform(X_test)\n",
    "\n",
    "knn = KNeighborsClassifier(n_neighbors=5)  # k=5는 예시\n",
    "knn.fit(X_train_scaled, y_train)\n",
    "\n",
    "y_pred = knn.predict(X_test_scaled)\n",
    "y_proba = knn.predict_proba(X_test_scaled)[:, 1]  # ROC-AUC 계산용\n",
    "\n",
    "print(f\"✅ 정확도: {accuracy_score(y_test, y_pred):.4f}\")\n",
    "print(f\"✅ 정밀도: {precision_score(y_test, y_pred):.4f}\")\n",
    "print(f\"✅ 재현율: {recall_score(y_test, y_pred):.4f}\")\n",
    "print(f\"✅ F1 스코어: {f1_score(y_test, y_pred):.4f}\")\n",
    "print(f\"✅ ROC-AUC: {roc_auc_score(y_test, y_proba):.4f}\")\n",
    "print(\"\\n✅ 분류 리포트:\\n\", classification_report(y_test, y_pred))\n",
    "\n",
    "plt.figure(figsize=(6, 4))\n",
    "sns.heatmap(confusion_matrix(y_test, y_pred), annot=True, fmt='d', cmap='Blues')\n",
    "plt.xlabel(\"예측값\")\n",
    "plt.ylabel(\"실제값\")\n",
    "plt.title(\"Confusion Matrix\")\n",
    "plt.show()"
   ]
  },
  {
   "cell_type": "markdown",
   "id": "374e3e25",
   "metadata": {},
   "source": [
    "#### 로지스틱"
   ]
  },
  {
   "cell_type": "code",
   "execution_count": 129,
   "id": "c1d578e6",
   "metadata": {},
   "outputs": [
    {
     "name": "stdout",
     "output_type": "stream",
     "text": [
      "✅ 정확도: 0.8156\n",
      "✅ 정밀도: 0.8060\n",
      "✅ 재현율: 0.7297\n",
      "✅ F1 스코어: 0.7660\n",
      "✅ ROC-AUC: 0.8763\n",
      "\n",
      "✅ 분류 리포트:\n",
      "               precision    recall  f1-score   support\n",
      "\n",
      "           0       0.82      0.88      0.85       105\n",
      "           1       0.81      0.73      0.77        74\n",
      "\n",
      "    accuracy                           0.82       179\n",
      "   macro avg       0.81      0.80      0.81       179\n",
      "weighted avg       0.82      0.82      0.81       179\n",
      "\n"
     ]
    },
    {
     "data": {
      "image/png": "[encoded data removed]",
      "text/plain": [
       "<Figure size 600x400 with 2 Axes>"
      ]
     },
     "metadata": {},
     "output_type": "display_data"
    }
   ],
   "source": [
    "from sklearn.model_selection import train_test_split\n",
    "from sklearn.preprocessing import StandardScaler\n",
    "from sklearn.linear_model import LogisticRegression\n",
    "from sklearn.metrics import (\n",
    "    accuracy_score, precision_score, recall_score, f1_score,\n",
    "    roc_auc_score, classification_report, confusion_matrix\n",
    ")\n",
    "import matplotlib.pyplot as plt\n",
    "import seaborn as sns\n",
    "\n",
    "# 1. 훈련/검증 데이터 분할\n",
    "X_train, X_test, y_train, y_test = train_test_split(train_df, test, test_size=0.2, random_state=42)\n",
    "\n",
    "# 2. 수치형 변수 스케일링\n",
    "scaler = StandardScaler()\n",
    "X_train_scaled = scaler.fit_transform(X_train)\n",
    "X_test_scaled = scaler.transform(X_test)\n",
    "\n",
    "# 3. 로지스틱 회귀 모델 훈련\n",
    "logreg = LogisticRegression(max_iter=1000)  # max_iter는 경고 방지용\n",
    "logreg.fit(X_train_scaled, y_train)\n",
    "\n",
    "# 4. 예측\n",
    "y_pred = logreg.predict(X_test_scaled)\n",
    "y_proba = logreg.predict_proba(X_test_scaled)[:, 1]  # ROC-AUC 계산용\n",
    "\n",
    "# 5. 평가 지표 출력\n",
    "print(f\"✅ 정확도: {accuracy_score(y_test, y_pred):.4f}\")\n",
    "print(f\"✅ 정밀도: {precision_score(y_test, y_pred):.4f}\")\n",
    "print(f\"✅ 재현율: {recall_score(y_test, y_pred):.4f}\")\n",
    "print(f\"✅ F1 스코어: {f1_score(y_test, y_pred):.4f}\")\n",
    "print(f\"✅ ROC-AUC: {roc_auc_score(y_test, y_proba):.4f}\")\n",
    "print(\"\\n✅ 분류 리포트:\\n\", classification_report(y_test, y_pred))\n",
    "\n",
    "# 6. Confusion Matrix 시각화\n",
    "plt.figure(figsize=(6, 4))\n",
    "sns.heatmap(confusion_matrix(y_test, y_pred), annot=True, fmt='d', cmap='Blues')\n",
    "plt.xlabel(\"예측값\")\n",
    "plt.ylabel(\"실제값\")\n",
    "plt.title(\"Confusion Matrix\")\n",
    "plt.show()\n"
   ]
  },
  {
   "cell_type": "code",
   "execution_count": 121,
   "id": "656b0b0e",
   "metadata": {},
   "outputs": [],
   "source": [
    "def logistic_tuning(train, test, params):\n",
    "\n",
    "    from sklearn.linear_model import LogisticRegression\n",
    "    from sklearn.model_selection import GridSearchCV\n",
    "\n",
    "    model = LogisticRegression(random_state = 42, max_iter=500)\n",
    "    grid = GridSearchCV(model, params, scoring = 'accuracy', cv = 5)\n",
    "    grid.fit(train, test)\n",
    "\n",
    "    print('best params:', grid.best_params_)\n",
    "    print('best score:', grid.best_score_)\n",
    "\n",
    "    return grid.best_estimator_"
   ]
  },
  {
   "cell_type": "code",
   "execution_count": 115,
   "id": "e802e38a",
   "metadata": {},
   "outputs": [
    {
     "data": {
      "text/plain": [
       "(891, 1)"
      ]
     },
     "execution_count": 115,
     "metadata": {},
     "output_type": "execute_result"
    }
   ],
   "source": [
    "test_df.shape"
   ]
  },
  {
   "cell_type": "code",
   "execution_count": 122,
   "id": "e6ee0be2",
   "metadata": {},
   "outputs": [
    {
     "name": "stdout",
     "output_type": "stream",
     "text": [
      "best params: {'C': 0.1, 'penalty': 'l2', 'solver': 'lbfgs'}\n",
      "best score: 0.8204130311970372\n",
      "CPU times: total: 1.95 s\n",
      "Wall time: 1.35 s\n"
     ]
    }
   ],
   "source": [
    "%%time\n",
    "param_grid = [\n",
    "    {'solver': ['liblinear'], 'penalty': ['l1', 'l2'], 'C': [0.01, 0.1, 1]},\n",
    "    {'solver': ['lbfgs'], 'penalty': ['l2'], 'C': [0.01, 0.1, 1]},\n",
    "]\n",
    "best_model = logistic_tuning(train_df, titanic_drop['생존'], params = param_grid)"
   ]
  },
  {
   "cell_type": "code",
   "execution_count": null,
   "id": "89a87440",
   "metadata": {},
   "outputs": [
    {
     "name": "stdout",
     "output_type": "stream",
     "text": [
      "✅ 정확도: 0.7598\n",
      "✅ 정밀도: 0.7067\n",
      "✅ 재현율: 0.7162\n",
      "✅ F1 스코어: 0.7114\n",
      "✅ ROC-AUC: 0.7624\n",
      "\n",
      "✅ 분류 리포트:\n",
      "               precision    recall  f1-score   support\n",
      "\n",
      "           0       0.80      0.79      0.79       105\n",
      "           1       0.71      0.72      0.71        74\n",
      "\n",
      "    accuracy                           0.76       179\n",
      "   macro avg       0.75      0.75      0.75       179\n",
      "weighted avg       0.76      0.76      0.76       179\n",
      "\n"
     ]
    },
    {
     "data": {
      "image/png": "[encoded data removed]",
      "text/plain": [
       "<Figure size 600x400 with 2 Axes>"
      ]
     },
     "metadata": {},
     "output_type": "display_data"
    }
   ],
   "source": [
    "from sklearn.model_selection import train_test_split\n",
    "from sklearn.preprocessing import StandardScaler\n",
    "from sklearn.tree import DecisionTreeClassifier\n",
    "from sklearn.metrics import (\n",
    "    accuracy_score, precision_score, recall_score, f1_score,\n",
    "    roc_auc_score, classification_report, confusion_matrix\n",
    ")\n",
    "import matplotlib.pyplot as plt\n",
    "import seaborn as sns\n",
    "\n",
    "# 1. 훈련/검증 데이터 분할\n",
    "X_train, X_test, y_train, y_test = train_test_split(train_df, test, test_size=0.2, random_state=42)\n",
    "\n",
    "# 2. 수치형 변수 스케일링 (의사결정나무는 스케일링 불필요하지만, 기존 코드 구조 유지)\n",
    "# scaler = StandardScaler()\n",
    "# X_train_scaled = scaler.fit_transform(X_train)\n",
    "# X_test_scaled = scaler.transform(X_test)\n",
    "\n",
    "# 3. 의사결정나무 모델 훈련\n",
    "tree = DecisionTreeClassifier(random_state=42)\n",
    "tree.fit(X_train, y_train)\n",
    "\n",
    "# 4. 예측\n",
    "y_pred = tree.predict(X_test)\n",
    "y_proba = tree.predict_proba(X_test)[:, 1]  # ROC-AUC 계산용\n",
    "\n",
    "# 5. 평가 지표 출력\n",
    "print(f\"✅ 정확도: {accuracy_score(y_test, y_pred):.4f}\")\n",
    "print(f\"✅ 정밀도: {precision_score(y_test, y_pred):.4f}\")\n",
    "print(f\"✅ 재현율: {recall_score(y_test, y_pred):.4f}\")\n",
    "print(f\"✅ F1 스코어: {f1_score(y_test, y_pred):.4f}\")\n",
    "print(f\"✅ ROC-AUC: {roc_auc_score(y_test, y_proba):.4f}\")\n",
    "print(\"\\n✅ 분류 리포트:\\n\", classification_report(y_test, y_pred))\n",
    "\n",
    "# 6. Confusion Matrix 시각화\n",
    "plt.figure(figsize=(6, 4))\n",
    "sns.heatmap(confusion_matrix(y_test, y_pred), annot=True, fmt='d', cmap='Blues')\n",
    "plt.xlabel(\"예측값\")\n",
    "plt.ylabel(\"실제값\")\n",
    "plt.title(\"Confusion Matrix\")\n",
    "plt.show()\n"
   ]
  },
  {
   "cell_type": "code",
   "execution_count": 22,
   "id": "f83188f3",
   "metadata": {},
   "outputs": [
    {
     "name": "stdout",
     "output_type": "stream",
     "text": [
      "KNeighborsClassifier 정확도 : 0.8324\n",
      "DecisionTreeClassifier 정확도 : 0.7933\n",
      "RandomForestClassifier 정확도 : 0.8380\n",
      "LogisticRegression 정확도 : 0.8380\n"
     ]
    }
   ],
   "source": [
    "# 데이터를 3:7로 나누어봅시다.\n",
    "from sklearn.model_selection import train_test_split\n",
    "\n",
    "# y_titanic_df = df_train['Survived']\n",
    "# X_titanic_df = df_train.drop('Survived', axis = 1, inplace = False)\n",
    "X_train, X_test, y_train, y_test = train_test_split(train_df, titanic_drop['생존'], test_size = 0.2, \n",
    "                                                    stratify=titanic_drop['생존'], random_state = 11)\n",
    "\n",
    "from sklearn.preprocessing import StandardScaler\n",
    "from sklearn.neighbors import KNeighborsClassifier\n",
    "from sklearn.tree import DecisionTreeClassifier\n",
    "from sklearn.ensemble import RandomForestClassifier\n",
    "from sklearn.linear_model import LogisticRegression\n",
    "from sklearn.metrics import accuracy_score\n",
    "\n",
    "\n",
    "# 각 모델에 대한 Classifier 클래스 생성\n",
    "scaler = StandardScaler()\n",
    "X_train_scaled = scaler.fit_transform(X_train)\n",
    "X_test_scaled = scaler.transform(X_test)\n",
    "\n",
    "knn_clf = KNeighborsClassifier(n_neighbors=5)  # k=5는 예시\n",
    "dt_clf = DecisionTreeClassifier(random_state = 11)\n",
    "rf_clf = RandomForestClassifier(random_state = 11)\n",
    "lr_clf = LogisticRegression(random_state = 11, max_iter=1000)\n",
    "\n",
    "# KNN 학습/예측평가\n",
    "knn_clf.fit(X_train_scaled, y_train)\n",
    "knn_pred = knn_clf.predict(X_test_scaled)\n",
    "print('KNeighborsClassifier 정확도 : {0:.4f}'.format(accuracy_score(y_test, knn_pred)))\n",
    "\n",
    "# DecisionTreeClassfier 학습/예측평가\n",
    "dt_clf.fit(X_train, y_train)\n",
    "dt_pred = dt_clf.predict(X_test)\n",
    "print('DecisionTreeClassifier 정확도 : {0:.4f}'.format(accuracy_score(y_test, dt_pred)))\n",
    "\n",
    "# RandomForestClassifier 학습/예측/평가\n",
    "rf_clf.fit(X_train, y_train)\n",
    "rf_pred = rf_clf.predict(X_test)\n",
    "print('RandomForestClassifier 정확도 : {0:.4f}'.format(accuracy_score(y_test, rf_pred)))\n",
    "\n",
    "# LogisticRegression 학습/예측/평가\n",
    "lr_clf.fit(X_train, y_train)\n",
    "lr_pred = lr_clf.predict(X_test)\n",
    "print('LogisticRegression 정확도 : {0:.4f}'.format(accuracy_score(y_test, lr_pred)))"
   ]
  },
  {
   "cell_type": "code",
   "execution_count": 23,
   "id": "065a87cd",
   "metadata": {},
   "outputs": [
    {
     "name": "stdout",
     "output_type": "stream",
     "text": [
      "최적 하이퍼파라미터: {'max_depth': None, 'max_features': 'sqrt', 'min_samples_leaf': 1, 'min_samples_split': 5, 'n_estimators': 100}\n",
      "최고 정확도: 0.8244853737811486\n"
     ]
    }
   ],
   "source": [
    "from sklearn.model_selection import GridSearchCV\n",
    "\n",
    "param_grid = {\n",
    "    'n_estimators': [100, 200],\n",
    "    'max_depth': [None, 10, 20],\n",
    "    'min_samples_split': [2, 5],\n",
    "    'min_samples_leaf': [1, 2],\n",
    "    'max_features': ['sqrt', 'log2']\n",
    "}\n",
    "\n",
    "grid_search = GridSearchCV(RandomForestClassifier(random_state=1), param_grid, cv=5, scoring='accuracy')\n",
    "grid_search.fit(X_train, y_train)\n",
    "\n",
    "print(\"최적 하이퍼파라미터:\", grid_search.best_params_)\n",
    "print(\"최고 정확도:\", grid_search.best_score_)"
   ]
  },
  {
   "cell_type": "code",
   "execution_count": 26,
   "id": "f2da8f10",
   "metadata": {},
   "outputs": [
    {
     "name": "stdout",
     "output_type": "stream",
     "text": [
      "✅ 정확도: 0.8380\n",
      "✅ 정밀도: 0.7778\n",
      "✅ 재현율: 0.8116\n",
      "✅ F1 스코어: 0.7943\n",
      "✅ ROC-AUC: 0.8964\n",
      "\n",
      "✅ 분류 리포트:\n",
      "               precision    recall  f1-score   support\n",
      "\n",
      "           0       0.88      0.85      0.87       110\n",
      "           1       0.78      0.81      0.79        69\n",
      "\n",
      "    accuracy                           0.84       179\n",
      "   macro avg       0.83      0.83      0.83       179\n",
      "weighted avg       0.84      0.84      0.84       179\n",
      "\n"
     ]
    },
    {
     "data": {
      "image/png": "[encoded data removed]",
      "text/plain": [
       "<Figure size 600x400 with 2 Axes>"
      ]
     },
     "metadata": {},
     "output_type": "display_data"
    }
   ],
   "source": [
    "y_pred = rf_clf.predict(X_test)\n",
    "y_proba = rf_clf.predict_proba(X_test)[:, 1]  # ROC-AUC 계산용\n",
    "\n",
    "# 5. 평가 지표 출력\n",
    "print(f\"✅ 정확도: {accuracy_score(y_test, y_pred):.4f}\")\n",
    "print(f\"✅ 정밀도: {precision_score(y_test, y_pred):.4f}\")\n",
    "print(f\"✅ 재현율: {recall_score(y_test, y_pred):.4f}\")\n",
    "print(f\"✅ F1 스코어: {f1_score(y_test, y_pred):.4f}\")\n",
    "print(f\"✅ ROC-AUC: {roc_auc_score(y_test, y_proba):.4f}\")\n",
    "print(\"\\n✅ 분류 리포트:\\n\", classification_report(y_test, y_pred))\n",
    "\n",
    "# 6. Confusion Matrix 시각화\n",
    "plt.figure(figsize=(6, 4))\n",
    "sns.heatmap(confusion_matrix(y_test, y_pred), annot=True, fmt='d', cmap='Blues')\n",
    "plt.xlabel(\"예측값\")\n",
    "plt.ylabel(\"실제값\")\n",
    "plt.title(\"Confusion Matrix\")\n",
    "plt.show()"
   ]
  },
  {
   "cell_type": "code",
   "execution_count": 27,
   "id": "2cd3c1cd",
   "metadata": {},
   "outputs": [
    {
     "name": "stdout",
     "output_type": "stream",
     "text": [
      "✅ 정확도: 0.8268\n",
      "✅ 정밀도: 0.7639\n",
      "✅ 재현율: 0.7971\n",
      "✅ F1 스코어: 0.7801\n",
      "✅ ROC-AUC: 0.9072\n",
      "\n",
      "✅ 분류 리포트:\n",
      "               precision    recall  f1-score   support\n",
      "\n",
      "           0       0.87      0.85      0.86       110\n",
      "           1       0.76      0.80      0.78        69\n",
      "\n",
      "    accuracy                           0.83       179\n",
      "   macro avg       0.82      0.82      0.82       179\n",
      "weighted avg       0.83      0.83      0.83       179\n",
      "\n"
     ]
    },
    {
     "data": {
      "image/png": "[encoded data removed]",
      "text/plain": [
       "<Figure size 600x400 with 2 Axes>"
      ]
     },
     "metadata": {},
     "output_type": "display_data"
    }
   ],
   "source": [
    "y_pred = grid_search.predict(X_test)\n",
    "y_proba = grid_search.predict_proba(X_test)[:, 1]  # ROC-AUC 계산용\n",
    "\n",
    "# 5. 평가 지표 출력\n",
    "print(f\"✅ 정확도: {accuracy_score(y_test, y_pred):.4f}\")\n",
    "print(f\"✅ 정밀도: {precision_score(y_test, y_pred):.4f}\")\n",
    "print(f\"✅ 재현율: {recall_score(y_test, y_pred):.4f}\")\n",
    "print(f\"✅ F1 스코어: {f1_score(y_test, y_pred):.4f}\")\n",
    "print(f\"✅ ROC-AUC: {roc_auc_score(y_test, y_proba):.4f}\")\n",
    "print(\"\\n✅ 분류 리포트:\\n\", classification_report(y_test, y_pred))\n",
    "\n",
    "# 6. Confusion Matrix 시각화\n",
    "plt.figure(figsize=(6, 4))\n",
    "sns.heatmap(confusion_matrix(y_test, y_pred), annot=True, fmt='d', cmap='Blues')\n",
    "plt.xlabel(\"예측값\")\n",
    "plt.ylabel(\"실제값\")\n",
    "plt.title(\"Confusion Matrix\")\n",
    "plt.show()"
   ]
  },
  {
   "cell_type": "code",
   "execution_count": 28,
   "id": "7a6d7956",
   "metadata": {},
   "outputs": [
    {
     "data": {
      "image/png": "[encoded data removed]",
      "text/plain": [
       "<Figure size 800x600 with 1 Axes>"
      ]
     },
     "metadata": {},
     "output_type": "display_data"
    }
   ],
   "source": [
    "# ROC Curve 계산\n",
    "fpr, tpr, thresholds = roc_curve(y_test, y_proba)\n",
    "\n",
    "# AUC 점수\n",
    "auc_score = roc_auc_score(y_test, y_proba)\n",
    "\n",
    "plt.figure(figsize=(8, 6))\n",
    "plt.plot(fpr, tpr, color='darkorange', lw=2, label=f'ROC curve (AUC = {auc_score:.4f})')\n",
    "plt.plot([0, 1], [0, 1], color='navy', lw=2, linestyle='--', label='Random guess')\n",
    "plt.xlabel('False Positive Rate (FPR)')\n",
    "plt.ylabel('True Positive Rate (TPR)')\n",
    "plt.title('Receiver Operating Characteristic (ROC) Curve')\n",
    "plt.legend(loc='lower right')\n",
    "plt.grid(True)\n",
    "plt.show()"
   ]
  },
  {
   "cell_type": "code",
   "execution_count": 188,
   "id": "fa1a8a31",
   "metadata": {},
   "outputs": [
    {
     "name": "stdout",
     "output_type": "stream",
     "text": [
      "✅ 정확도: 0.8380\n",
      "✅ 정밀도: 0.7941\n",
      "✅ 재현율: 0.7826\n",
      "✅ F1 스코어: 0.7883\n",
      "✅ ROC-AUC: 0.8911\n",
      "\n",
      "✅ 분류 리포트:\n",
      "               precision    recall  f1-score   support\n",
      "\n",
      "           0       0.86      0.87      0.87       110\n",
      "           1       0.79      0.78      0.79        69\n",
      "\n",
      "    accuracy                           0.84       179\n",
      "   macro avg       0.83      0.83      0.83       179\n",
      "weighted avg       0.84      0.84      0.84       179\n",
      "\n"
     ]
    },
    {
     "data": {
      "image/png": "[encoded data removed]",
      "text/plain": [
       "<Figure size 600x400 with 2 Axes>"
      ]
     },
     "metadata": {},
     "output_type": "display_data"
    }
   ],
   "source": [
    "y_pred = lr_clf.predict(X_test)\n",
    "y_proba = lr_clf.predict_proba(X_test)[:, 1]  # ROC-AUC 계산용\n",
    "\n",
    "# 5. 평가 지표 출력\n",
    "print(f\"✅ 정확도: {accuracy_score(y_test, y_pred):.4f}\")\n",
    "print(f\"✅ 정밀도: {precision_score(y_test, y_pred):.4f}\")\n",
    "print(f\"✅ 재현율: {recall_score(y_test, y_pred):.4f}\")\n",
    "print(f\"✅ F1 스코어: {f1_score(y_test, y_pred):.4f}\")\n",
    "print(f\"✅ ROC-AUC: {roc_auc_score(y_test, y_proba):.4f}\")\n",
    "print(\"\\n✅ 분류 리포트:\\n\", classification_report(y_test, y_pred))\n",
    "\n",
    "# 6. Confusion Matrix 시각화\n",
    "plt.figure(figsize=(6, 4))\n",
    "sns.heatmap(confusion_matrix(y_test, y_pred), annot=True, fmt='d', cmap='Blues')\n",
    "plt.xlabel(\"예측값\")\n",
    "plt.ylabel(\"실제값\")\n",
    "plt.title(\"Confusion Matrix\")\n",
    "plt.show()"
   ]
  },
  {
   "cell_type": "code",
   "execution_count": 200,
   "id": "4ceaa05b",
   "metadata": {},
   "outputs": [
    {
     "data": {
      "text/html": [
       "<style>#sk-container-id-3 {\n",
       "  /* Definition of color scheme common for light and dark mode */\n",
       "  --sklearn-color-text: #000;\n",
       "  --sklearn-color-text-muted: #666;\n",
       "  --sklearn-color-line: gray;\n",
       "  /* Definition of color scheme for unfitted estimators */\n",
       "  --sklearn-color-unfitted-level-0: #fff5e6;\n",
       "  --sklearn-color-unfitted-level-1: #f6e4d2;\n",
       "  --sklearn-color-unfitted-level-2: #ffe0b3;\n",
       "  --sklearn-color-unfitted-level-3: chocolate;\n",
       "  /* Definition of color scheme for fitted estimators */\n",
       "  --sklearn-color-fitted-level-0: #f0f8ff;\n",
       "  --sklearn-color-fitted-level-1: #d4ebff;\n",
       "  --sklearn-color-fitted-level-2: #b3dbfd;\n",
       "  --sklearn-color-fitted-level-3: cornflowerblue;\n",
       "\n",
       "  /* Specific color for light theme */\n",
       "  --sklearn-color-text-on-default-background: var(--sg-text-color, var(--theme-code-foreground, var(--jp-content-font-color1, black)));\n",
       "  --sklearn-color-background: var(--sg-background-color, var(--theme-background, var(--jp-layout-color0, white)));\n",
       "  --sklearn-color-border-box: var(--sg-text-color, var(--theme-code-foreground, var(--jp-content-font-color1, black)));\n",
       "  --sklearn-color-icon: #696969;\n",
       "\n",
       "  @media (prefers-color-scheme: dark) {\n",
       "    /* Redefinition of color scheme for dark theme */\n",
       "    --sklearn-color-text-on-default-background: var(--sg-text-color, var(--theme-code-foreground, var(--jp-content-font-color1, white)));\n",
       "    --sklearn-color-background: var(--sg-background-color, var(--theme-background, var(--jp-layout-color0, #111)));\n",
       "    --sklearn-color-border-box: var(--sg-text-color, var(--theme-code-foreground, var(--jp-content-font-color1, white)));\n",
       "    --sklearn-color-icon: #878787;\n",
       "  }\n",
       "}\n",
       "\n",
       "#sk-container-id-3 {\n",
       "  color: var(--sklearn-color-text);\n",
       "}\n",
       "\n",
       "#sk-container-id-3 pre {\n",
       "  padding: 0;\n",
       "}\n",
       "\n",
       "#sk-container-id-3 input.sk-hidden--visually {\n",
       "  border: 0;\n",
       "  clip: rect(1px 1px 1px 1px);\n",
       "  clip: rect(1px, 1px, 1px, 1px);\n",
       "  height: 1px;\n",
       "  margin: -1px;\n",
       "  overflow: hidden;\n",
       "  padding: 0;\n",
       "  position: absolute;\n",
       "  width: 1px;\n",
       "}\n",
       "\n",
       "#sk-container-id-3 div.sk-dashed-wrapped {\n",
       "  border: 1px dashed var(--sklearn-color-line);\n",
       "  margin: 0 0.4em 0.5em 0.4em;\n",
       "  box-sizing: border-box;\n",
       "  padding-bottom: 0.4em;\n",
       "  background-color: var(--sklearn-color-background);\n",
       "}\n",
       "\n",
       "#sk-container-id-3 div.sk-container {\n",
       "  /* jupyter's `normalize.less` sets `[hidden] { display: none; }`\n",
       "     but bootstrap.min.css set `[hidden] { display: none !important; }`\n",
       "     so we also need the `!important` here to be able to override the\n",
       "     default hidden behavior on the sphinx rendered scikit-learn.org.\n",
       "     See: https://github.com/scikit-learn/scikit-learn/issues/21755 */\n",
       "  display: inline-block !important;\n",
       "  position: relative;\n",
       "}\n",
       "\n",
       "#sk-container-id-3 div.sk-text-repr-fallback {\n",
       "  display: none;\n",
       "}\n",
       "\n",
       "div.sk-parallel-item,\n",
       "div.sk-serial,\n",
       "div.sk-item {\n",
       "  /* draw centered vertical line to link estimators */\n",
       "  background-image: linear-gradient(var(--sklearn-color-text-on-default-background), var(--sklearn-color-text-on-default-background));\n",
       "  background-size: 2px 100%;\n",
       "  background-repeat: no-repeat;\n",
       "  background-position: center center;\n",
       "}\n",
       "\n",
       "/* Parallel-specific style estimator block */\n",
       "\n",
       "#sk-container-id-3 div.sk-parallel-item::after {\n",
       "  content: \"\";\n",
       "  width: 100%;\n",
       "  border-bottom: 2px solid var(--sklearn-color-text-on-default-background);\n",
       "  flex-grow: 1;\n",
       "}\n",
       "\n",
       "#sk-container-id-3 div.sk-parallel {\n",
       "  display: flex;\n",
       "  align-items: stretch;\n",
       "  justify-content: center;\n",
       "  background-color: var(--sklearn-color-background);\n",
       "  position: relative;\n",
       "}\n",
       "\n",
       "#sk-container-id-3 div.sk-parallel-item {\n",
       "  display: flex;\n",
       "  flex-direction: column;\n",
       "}\n",
       "\n",
       "#sk-container-id-3 div.sk-parallel-item:first-child::after {\n",
       "  align-self: flex-end;\n",
       "  width: 50%;\n",
       "}\n",
       "\n",
       "#sk-container-id-3 div.sk-parallel-item:last-child::after {\n",
       "  align-self: flex-start;\n",
       "  width: 50%;\n",
       "}\n",
       "\n",
       "#sk-container-id-3 div.sk-parallel-item:only-child::after {\n",
       "  width: 0;\n",
       "}\n",
       "\n",
       "/* Serial-specific style estimator block */\n",
       "\n",
       "#sk-container-id-3 div.sk-serial {\n",
       "  display: flex;\n",
       "  flex-direction: column;\n",
       "  align-items: center;\n",
       "  background-color: var(--sklearn-color-background);\n",
       "  padding-right: 1em;\n",
       "  padding-left: 1em;\n",
       "}\n",
       "\n",
       "\n",
       "/* Toggleable style: style used for estimator/Pipeline/ColumnTransformer box that is\n",
       "clickable and can be expanded/collapsed.\n",
       "- Pipeline and ColumnTransformer use this feature and define the default style\n",
       "- Estimators will overwrite some part of the style using the `sk-estimator` class\n",
       "*/\n",
       "\n",
       "/* Pipeline and ColumnTransformer style (default) */\n",
       "\n",
       "#sk-container-id-3 div.sk-toggleable {\n",
       "  /* Default theme specific background. It is overwritten whether we have a\n",
       "  specific estimator or a Pipeline/ColumnTransformer */\n",
       "  background-color: var(--sklearn-color-background);\n",
       "}\n",
       "\n",
       "/* Toggleable label */\n",
       "#sk-container-id-3 label.sk-toggleable__label {\n",
       "  cursor: pointer;\n",
       "  display: flex;\n",
       "  width: 100%;\n",
       "  margin-bottom: 0;\n",
       "  padding: 0.5em;\n",
       "  box-sizing: border-box;\n",
       "  text-align: center;\n",
       "  align-items: start;\n",
       "  justify-content: space-between;\n",
       "  gap: 0.5em;\n",
       "}\n",
       "\n",
       "#sk-container-id-3 label.sk-toggleable__label .caption {\n",
       "  font-size: 0.6rem;\n",
       "  font-weight: lighter;\n",
       "  color: var(--sklearn-color-text-muted);\n",
       "}\n",
       "\n",
       "#sk-container-id-3 label.sk-toggleable__label-arrow:before {\n",
       "  /* Arrow on the left of the label */\n",
       "  content: \"▸\";\n",
       "  float: left;\n",
       "  margin-right: 0.25em;\n",
       "  color: var(--sklearn-color-icon);\n",
       "}\n",
       "\n",
       "#sk-container-id-3 label.sk-toggleable__label-arrow:hover:before {\n",
       "  color: var(--sklearn-color-text);\n",
       "}\n",
       "\n",
       "/* Toggleable content - dropdown */\n",
       "\n",
       "#sk-container-id-3 div.sk-toggleable__content {\n",
       "  max-height: 0;\n",
       "  max-width: 0;\n",
       "  overflow: hidden;\n",
       "  text-align: left;\n",
       "  /* unfitted */\n",
       "  background-color: var(--sklearn-color-unfitted-level-0);\n",
       "}\n",
       "\n",
       "#sk-container-id-3 div.sk-toggleable__content.fitted {\n",
       "  /* fitted */\n",
       "  background-color: var(--sklearn-color-fitted-level-0);\n",
       "}\n",
       "\n",
       "#sk-container-id-3 div.sk-toggleable__content pre {\n",
       "  margin: 0.2em;\n",
       "  border-radius: 0.25em;\n",
       "  color: var(--sklearn-color-text);\n",
       "  /* unfitted */\n",
       "  background-color: var(--sklearn-color-unfitted-level-0);\n",
       "}\n",
       "\n",
       "#sk-container-id-3 div.sk-toggleable__content.fitted pre {\n",
       "  /* unfitted */\n",
       "  background-color: var(--sklearn-color-fitted-level-0);\n",
       "}\n",
       "\n",
       "#sk-container-id-3 input.sk-toggleable__control:checked~div.sk-toggleable__content {\n",
       "  /* Expand drop-down */\n",
       "  max-height: 200px;\n",
       "  max-width: 100%;\n",
       "  overflow: auto;\n",
       "}\n",
       "\n",
       "#sk-container-id-3 input.sk-toggleable__control:checked~label.sk-toggleable__label-arrow:before {\n",
       "  content: \"▾\";\n",
       "}\n",
       "\n",
       "/* Pipeline/ColumnTransformer-specific style */\n",
       "\n",
       "#sk-container-id-3 div.sk-label input.sk-toggleable__control:checked~label.sk-toggleable__label {\n",
       "  color: var(--sklearn-color-text);\n",
       "  background-color: var(--sklearn-color-unfitted-level-2);\n",
       "}\n",
       "\n",
       "#sk-container-id-3 div.sk-label.fitted input.sk-toggleable__control:checked~label.sk-toggleable__label {\n",
       "  background-color: var(--sklearn-color-fitted-level-2);\n",
       "}\n",
       "\n",
       "/* Estimator-specific style */\n",
       "\n",
       "/* Colorize estimator box */\n",
       "#sk-container-id-3 div.sk-estimator input.sk-toggleable__control:checked~label.sk-toggleable__label {\n",
       "  /* unfitted */\n",
       "  background-color: var(--sklearn-color-unfitted-level-2);\n",
       "}\n",
       "\n",
       "#sk-container-id-3 div.sk-estimator.fitted input.sk-toggleable__control:checked~label.sk-toggleable__label {\n",
       "  /* fitted */\n",
       "  background-color: var(--sklearn-color-fitted-level-2);\n",
       "}\n",
       "\n",
       "#sk-container-id-3 div.sk-label label.sk-toggleable__label,\n",
       "#sk-container-id-3 div.sk-label label {\n",
       "  /* The background is the default theme color */\n",
       "  color: var(--sklearn-color-text-on-default-background);\n",
       "}\n",
       "\n",
       "/* On hover, darken the color of the background */\n",
       "#sk-container-id-3 div.sk-label:hover label.sk-toggleable__label {\n",
       "  color: var(--sklearn-color-text);\n",
       "  background-color: var(--sklearn-color-unfitted-level-2);\n",
       "}\n",
       "\n",
       "/* Label box, darken color on hover, fitted */\n",
       "#sk-container-id-3 div.sk-label.fitted:hover label.sk-toggleable__label.fitted {\n",
       "  color: var(--sklearn-color-text);\n",
       "  background-color: var(--sklearn-color-fitted-level-2);\n",
       "}\n",
       "\n",
       "/* Estimator label */\n",
       "\n",
       "#sk-container-id-3 div.sk-label label {\n",
       "  font-family: monospace;\n",
       "  font-weight: bold;\n",
       "  display: inline-block;\n",
       "  line-height: 1.2em;\n",
       "}\n",
       "\n",
       "#sk-container-id-3 div.sk-label-container {\n",
       "  text-align: center;\n",
       "}\n",
       "\n",
       "/* Estimator-specific */\n",
       "#sk-container-id-3 div.sk-estimator {\n",
       "  font-family: monospace;\n",
       "  border: 1px dotted var(--sklearn-color-border-box);\n",
       "  border-radius: 0.25em;\n",
       "  box-sizing: border-box;\n",
       "  margin-bottom: 0.5em;\n",
       "  /* unfitted */\n",
       "  background-color: var(--sklearn-color-unfitted-level-0);\n",
       "}\n",
       "\n",
       "#sk-container-id-3 div.sk-estimator.fitted {\n",
       "  /* fitted */\n",
       "  background-color: var(--sklearn-color-fitted-level-0);\n",
       "}\n",
       "\n",
       "/* on hover */\n",
       "#sk-container-id-3 div.sk-estimator:hover {\n",
       "  /* unfitted */\n",
       "  background-color: var(--sklearn-color-unfitted-level-2);\n",
       "}\n",
       "\n",
       "#sk-container-id-3 div.sk-estimator.fitted:hover {\n",
       "  /* fitted */\n",
       "  background-color: var(--sklearn-color-fitted-level-2);\n",
       "}\n",
       "\n",
       "/* Specification for estimator info (e.g. \"i\" and \"?\") */\n",
       "\n",
       "/* Common style for \"i\" and \"?\" */\n",
       "\n",
       ".sk-estimator-doc-link,\n",
       "a:link.sk-estimator-doc-link,\n",
       "a:visited.sk-estimator-doc-link {\n",
       "  float: right;\n",
       "  font-size: smaller;\n",
       "  line-height: 1em;\n",
       "  font-family: monospace;\n",
       "  background-color: var(--sklearn-color-background);\n",
       "  border-radius: 1em;\n",
       "  height: 1em;\n",
       "  width: 1em;\n",
       "  text-decoration: none !important;\n",
       "  margin-left: 0.5em;\n",
       "  text-align: center;\n",
       "  /* unfitted */\n",
       "  border: var(--sklearn-color-unfitted-level-1) 1pt solid;\n",
       "  color: var(--sklearn-color-unfitted-level-1);\n",
       "}\n",
       "\n",
       ".sk-estimator-doc-link.fitted,\n",
       "a:link.sk-estimator-doc-link.fitted,\n",
       "a:visited.sk-estimator-doc-link.fitted {\n",
       "  /* fitted */\n",
       "  border: var(--sklearn-color-fitted-level-1) 1pt solid;\n",
       "  color: var(--sklearn-color-fitted-level-1);\n",
       "}\n",
       "\n",
       "/* On hover */\n",
       "div.sk-estimator:hover .sk-estimator-doc-link:hover,\n",
       ".sk-estimator-doc-link:hover,\n",
       "div.sk-label-container:hover .sk-estimator-doc-link:hover,\n",
       ".sk-estimator-doc-link:hover {\n",
       "  /* unfitted */\n",
       "  background-color: var(--sklearn-color-unfitted-level-3);\n",
       "  color: var(--sklearn-color-background);\n",
       "  text-decoration: none;\n",
       "}\n",
       "\n",
       "div.sk-estimator.fitted:hover .sk-estimator-doc-link.fitted:hover,\n",
       ".sk-estimator-doc-link.fitted:hover,\n",
       "div.sk-label-container:hover .sk-estimator-doc-link.fitted:hover,\n",
       ".sk-estimator-doc-link.fitted:hover {\n",
       "  /* fitted */\n",
       "  background-color: var(--sklearn-color-fitted-level-3);\n",
       "  color: var(--sklearn-color-background);\n",
       "  text-decoration: none;\n",
       "}\n",
       "\n",
       "/* Span, style for the box shown on hovering the info icon */\n",
       ".sk-estimator-doc-link span {\n",
       "  display: none;\n",
       "  z-index: 9999;\n",
       "  position: relative;\n",
       "  font-weight: normal;\n",
       "  right: .2ex;\n",
       "  padding: .5ex;\n",
       "  margin: .5ex;\n",
       "  width: min-content;\n",
       "  min-width: 20ex;\n",
       "  max-width: 50ex;\n",
       "  color: var(--sklearn-color-text);\n",
       "  box-shadow: 2pt 2pt 4pt #999;\n",
       "  /* unfitted */\n",
       "  background: var(--sklearn-color-unfitted-level-0);\n",
       "  border: .5pt solid var(--sklearn-color-unfitted-level-3);\n",
       "}\n",
       "\n",
       ".sk-estimator-doc-link.fitted span {\n",
       "  /* fitted */\n",
       "  background: var(--sklearn-color-fitted-level-0);\n",
       "  border: var(--sklearn-color-fitted-level-3);\n",
       "}\n",
       "\n",
       ".sk-estimator-doc-link:hover span {\n",
       "  display: block;\n",
       "}\n",
       "\n",
       "/* \"?\"-specific style due to the `<a>` HTML tag */\n",
       "\n",
       "#sk-container-id-3 a.estimator_doc_link {\n",
       "  float: right;\n",
       "  font-size: 1rem;\n",
       "  line-height: 1em;\n",
       "  font-family: monospace;\n",
       "  background-color: var(--sklearn-color-background);\n",
       "  border-radius: 1rem;\n",
       "  height: 1rem;\n",
       "  width: 1rem;\n",
       "  text-decoration: none;\n",
       "  /* unfitted */\n",
       "  color: var(--sklearn-color-unfitted-level-1);\n",
       "  border: var(--sklearn-color-unfitted-level-1) 1pt solid;\n",
       "}\n",
       "\n",
       "#sk-container-id-3 a.estimator_doc_link.fitted {\n",
       "  /* fitted */\n",
       "  border: var(--sklearn-color-fitted-level-1) 1pt solid;\n",
       "  color: var(--sklearn-color-fitted-level-1);\n",
       "}\n",
       "\n",
       "/* On hover */\n",
       "#sk-container-id-3 a.estimator_doc_link:hover {\n",
       "  /* unfitted */\n",
       "  background-color: var(--sklearn-color-unfitted-level-3);\n",
       "  color: var(--sklearn-color-background);\n",
       "  text-decoration: none;\n",
       "}\n",
       "\n",
       "#sk-container-id-3 a.estimator_doc_link.fitted:hover {\n",
       "  /* fitted */\n",
       "  background-color: var(--sklearn-color-fitted-level-3);\n",
       "}\n",
       "</style><div id=\"sk-container-id-3\" class=\"sk-top-container\"><div class=\"sk-text-repr-fallback\"><pre>GridSearchCV(cv=5, estimator=RandomForestClassifier(random_state=1),\n",
       "             param_grid={&#x27;max_depth&#x27;: [None, 10, 20],\n",
       "                         &#x27;max_features&#x27;: [&#x27;sqrt&#x27;, &#x27;log2&#x27;],\n",
       "                         &#x27;min_samples_leaf&#x27;: [1, 2],\n",
       "                         &#x27;min_samples_split&#x27;: [2, 5],\n",
       "                         &#x27;n_estimators&#x27;: [100, 200]},\n",
       "             scoring=&#x27;accuracy&#x27;)</pre><b>In a Jupyter environment, please rerun this cell to show the HTML representation or trust the notebook. <br />On GitHub, the HTML representation is unable to render, please try loading this page with nbviewer.org.</b></div><div class=\"sk-container\" hidden><div class=\"sk-item sk-dashed-wrapped\"><div class=\"sk-label-container\"><div class=\"sk-label fitted sk-toggleable\"><input class=\"sk-toggleable__control sk-hidden--visually\" id=\"sk-estimator-id-3\" type=\"checkbox\" ><label for=\"sk-estimator-id-3\" class=\"sk-toggleable__label fitted sk-toggleable__label-arrow\"><div><div>GridSearchCV</div></div><div><a class=\"sk-estimator-doc-link fitted\" rel=\"noreferrer\" target=\"_blank\" href=\"https://scikit-learn.org/1.6/modules/generated/sklearn.model_selection.GridSearchCV.html\">?<span>Documentation for GridSearchCV</span></a><span class=\"sk-estimator-doc-link fitted\">i<span>Fitted</span></span></div></label><div class=\"sk-toggleable__content fitted\"><pre>GridSearchCV(cv=5, estimator=RandomForestClassifier(random_state=1),\n",
       "             param_grid={&#x27;max_depth&#x27;: [None, 10, 20],\n",
       "                         &#x27;max_features&#x27;: [&#x27;sqrt&#x27;, &#x27;log2&#x27;],\n",
       "                         &#x27;min_samples_leaf&#x27;: [1, 2],\n",
       "                         &#x27;min_samples_split&#x27;: [2, 5],\n",
       "                         &#x27;n_estimators&#x27;: [100, 200]},\n",
       "             scoring=&#x27;accuracy&#x27;)</pre></div> </div></div><div class=\"sk-parallel\"><div class=\"sk-parallel-item\"><div class=\"sk-item\"><div class=\"sk-label-container\"><div class=\"sk-label fitted sk-toggleable\"><input class=\"sk-toggleable__control sk-hidden--visually\" id=\"sk-estimator-id-4\" type=\"checkbox\" ><label for=\"sk-estimator-id-4\" class=\"sk-toggleable__label fitted sk-toggleable__label-arrow\"><div><div>best_estimator_: RandomForestClassifier</div></div></label><div class=\"sk-toggleable__content fitted\"><pre>RandomForestClassifier(max_depth=10, min_samples_leaf=2, random_state=1)</pre></div> </div></div><div class=\"sk-serial\"><div class=\"sk-item\"><div class=\"sk-estimator fitted sk-toggleable\"><input class=\"sk-toggleable__control sk-hidden--visually\" id=\"sk-estimator-id-5\" type=\"checkbox\" ><label for=\"sk-estimator-id-5\" class=\"sk-toggleable__label fitted sk-toggleable__label-arrow\"><div><div>RandomForestClassifier</div></div><div><a class=\"sk-estimator-doc-link fitted\" rel=\"noreferrer\" target=\"_blank\" href=\"https://scikit-learn.org/1.6/modules/generated/sklearn.ensemble.RandomForestClassifier.html\">?<span>Documentation for RandomForestClassifier</span></a></div></label><div class=\"sk-toggleable__content fitted\"><pre>RandomForestClassifier(max_depth=10, min_samples_leaf=2, random_state=1)</pre></div> </div></div></div></div></div></div></div></div></div>"
      ],
      "text/plain": [
       "GridSearchCV(cv=5, estimator=RandomForestClassifier(random_state=1),\n",
       "             param_grid={'max_depth': [None, 10, 20],\n",
       "                         'max_features': ['sqrt', 'log2'],\n",
       "                         'min_samples_leaf': [1, 2],\n",
       "                         'min_samples_split': [2, 5],\n",
       "                         'n_estimators': [100, 200]},\n",
       "             scoring='accuracy')"
      ]
     },
     "execution_count": 200,
     "metadata": {},
     "output_type": "execute_result"
    }
   ],
   "source": [
    "grid_search.fit(train_df, titanic_drop['생존'])"
   ]
  },
  {
   "cell_type": "code",
   "execution_count": 202,
   "id": "c4d503a3",
   "metadata": {},
   "outputs": [
    {
     "data": {
      "application/vnd.microsoft.datawrangler.viewer.v0+json": {
       "columns": [
        {
         "name": "index",
         "rawType": "int64",
         "type": "integer"
        },
        {
         "name": "탑승지코드_C",
         "rawType": "bool",
         "type": "boolean"
        },
        {
         "name": "탑승지코드_Q",
         "rawType": "bool",
         "type": "boolean"
        },
        {
         "name": "탑승지코드_S",
         "rawType": "bool",
         "type": "boolean"
        },
        {
         "name": "객실등급_First",
         "rawType": "bool",
         "type": "boolean"
        },
        {
         "name": "객실등급_Second",
         "rawType": "bool",
         "type": "boolean"
        },
        {
         "name": "객실등급_Third",
         "rawType": "bool",
         "type": "boolean"
        },
        {
         "name": "성인여부_child",
         "rawType": "bool",
         "type": "boolean"
        },
        {
         "name": "성인여부_man",
         "rawType": "bool",
         "type": "boolean"
        },
        {
         "name": "성인여부_woman",
         "rawType": "bool",
         "type": "boolean"
        },
        {
         "name": "개인탑승자",
         "rawType": "bool",
         "type": "boolean"
        },
        {
         "name": "나이",
         "rawType": "int64",
         "type": "integer"
        },
        {
         "name": "형제자매",
         "rawType": "int64",
         "type": "integer"
        },
        {
         "name": "부모자녀",
         "rawType": "int64",
         "type": "integer"
        },
        {
         "name": "요금",
         "rawType": "float64",
         "type": "float"
        }
       ],
       "ref": "07b25a5b-0a30-4258-9c9a-f6b126edf557",
       "rows": [
        [
         "0",
         "False",
         "False",
         "True",
         "True",
         "False",
         "False",
         "True",
         "False",
         "False",
         "True",
         "6",
         "2",
         "3",
         "14.0"
        ]
       ],
       "shape": {
        "columns": 14,
        "rows": 1
       }
      },
      "text/html": [
       "<div>\n",
       "<style scoped>\n",
       "    .dataframe tbody tr th:only-of-type {\n",
       "        vertical-align: middle;\n",
       "    }\n",
       "\n",
       "    .dataframe tbody tr th {\n",
       "        vertical-align: top;\n",
       "    }\n",
       "\n",
       "    .dataframe thead th {\n",
       "        text-align: right;\n",
       "    }\n",
       "</style>\n",
       "<table border=\"1\" class=\"dataframe\">\n",
       "  <thead>\n",
       "    <tr style=\"text-align: right;\">\n",
       "      <th></th>\n",
       "      <th>탑승지코드_C</th>\n",
       "      <th>탑승지코드_Q</th>\n",
       "      <th>탑승지코드_S</th>\n",
       "      <th>객실등급_First</th>\n",
       "      <th>객실등급_Second</th>\n",
       "      <th>객실등급_Third</th>\n",
       "      <th>성인여부_child</th>\n",
       "      <th>성인여부_man</th>\n",
       "      <th>성인여부_woman</th>\n",
       "      <th>개인탑승자</th>\n",
       "      <th>나이</th>\n",
       "      <th>형제자매</th>\n",
       "      <th>부모자녀</th>\n",
       "      <th>요금</th>\n",
       "    </tr>\n",
       "  </thead>\n",
       "  <tbody>\n",
       "    <tr>\n",
       "      <th>0</th>\n",
       "      <td>False</td>\n",
       "      <td>False</td>\n",
       "      <td>True</td>\n",
       "      <td>True</td>\n",
       "      <td>False</td>\n",
       "      <td>False</td>\n",
       "      <td>True</td>\n",
       "      <td>False</td>\n",
       "      <td>False</td>\n",
       "      <td>True</td>\n",
       "      <td>6</td>\n",
       "      <td>2</td>\n",
       "      <td>3</td>\n",
       "      <td>14.0</td>\n",
       "    </tr>\n",
       "  </tbody>\n",
       "</table>\n",
       "</div>"
      ],
      "text/plain": [
       "   탑승지코드_C  탑승지코드_Q  탑승지코드_S  객실등급_First  객실등급_Second  객실등급_Third  성인여부_child  \\\n",
       "0    False    False     True        True        False       False        True   \n",
       "\n",
       "   성인여부_man  성인여부_woman  개인탑승자  나이  형제자매  부모자녀    요금  \n",
       "0     False       False   True   6     2     3  14.0  "
      ]
     },
     "metadata": {},
     "output_type": "display_data"
    },
    {
     "data": {
      "application/vnd.microsoft.datawrangler.viewer.v0+json": {
       "columns": [
        {
         "name": "index",
         "rawType": "int64",
         "type": "integer"
        },
        {
         "name": "탑승지코드_C",
         "rawType": "bool",
         "type": "boolean"
        },
        {
         "name": "탑승지코드_Q",
         "rawType": "bool",
         "type": "boolean"
        },
        {
         "name": "탑승지코드_S",
         "rawType": "bool",
         "type": "boolean"
        },
        {
         "name": "객실등급_First",
         "rawType": "bool",
         "type": "boolean"
        },
        {
         "name": "객실등급_Second",
         "rawType": "bool",
         "type": "boolean"
        },
        {
         "name": "객실등급_Third",
         "rawType": "bool",
         "type": "boolean"
        },
        {
         "name": "성인여부_child",
         "rawType": "bool",
         "type": "boolean"
        },
        {
         "name": "성인여부_man",
         "rawType": "bool",
         "type": "boolean"
        },
        {
         "name": "성인여부_woman",
         "rawType": "bool",
         "type": "boolean"
        },
        {
         "name": "개인탑승자",
         "rawType": "bool",
         "type": "boolean"
        },
        {
         "name": "나이",
         "rawType": "int64",
         "type": "integer"
        },
        {
         "name": "형제자매",
         "rawType": "int64",
         "type": "integer"
        },
        {
         "name": "부모자녀",
         "rawType": "int64",
         "type": "integer"
        },
        {
         "name": "요금",
         "rawType": "float64",
         "type": "float"
        }
       ],
       "ref": "986ba73f-552a-4988-96e1-e924a34d3679",
       "rows": [
        [
         "0",
         "False",
         "False",
         "True",
         "True",
         "False",
         "False",
         "True",
         "False",
         "False",
         "True",
         "6",
         "2",
         "3",
         "14.0"
        ]
       ],
       "shape": {
        "columns": 14,
        "rows": 1
       }
      },
      "text/html": [
       "<div>\n",
       "<style scoped>\n",
       "    .dataframe tbody tr th:only-of-type {\n",
       "        vertical-align: middle;\n",
       "    }\n",
       "\n",
       "    .dataframe tbody tr th {\n",
       "        vertical-align: top;\n",
       "    }\n",
       "\n",
       "    .dataframe thead th {\n",
       "        text-align: right;\n",
       "    }\n",
       "</style>\n",
       "<table border=\"1\" class=\"dataframe\">\n",
       "  <thead>\n",
       "    <tr style=\"text-align: right;\">\n",
       "      <th></th>\n",
       "      <th>탑승지코드_C</th>\n",
       "      <th>탑승지코드_Q</th>\n",
       "      <th>탑승지코드_S</th>\n",
       "      <th>객실등급_First</th>\n",
       "      <th>객실등급_Second</th>\n",
       "      <th>객실등급_Third</th>\n",
       "      <th>성인여부_child</th>\n",
       "      <th>성인여부_man</th>\n",
       "      <th>성인여부_woman</th>\n",
       "      <th>개인탑승자</th>\n",
       "      <th>나이</th>\n",
       "      <th>형제자매</th>\n",
       "      <th>부모자녀</th>\n",
       "      <th>요금</th>\n",
       "    </tr>\n",
       "  </thead>\n",
       "  <tbody>\n",
       "    <tr>\n",
       "      <th>0</th>\n",
       "      <td>False</td>\n",
       "      <td>False</td>\n",
       "      <td>True</td>\n",
       "      <td>True</td>\n",
       "      <td>False</td>\n",
       "      <td>False</td>\n",
       "      <td>True</td>\n",
       "      <td>False</td>\n",
       "      <td>False</td>\n",
       "      <td>True</td>\n",
       "      <td>6</td>\n",
       "      <td>2</td>\n",
       "      <td>3</td>\n",
       "      <td>14.0</td>\n",
       "    </tr>\n",
       "  </tbody>\n",
       "</table>\n",
       "</div>"
      ],
      "text/plain": [
       "   탑승지코드_C  탑승지코드_Q  탑승지코드_S  객실등급_First  객실등급_Second  객실등급_Third  성인여부_child  \\\n",
       "0    False    False     True        True        False       False        True   \n",
       "\n",
       "   성인여부_man  성인여부_woman  개인탑승자  나이  형제자매  부모자녀    요금  \n",
       "0     False       False   True   6     2     3  14.0  "
      ]
     },
     "execution_count": 202,
     "metadata": {},
     "output_type": "execute_result"
    }
   ],
   "source": [
    "import pandas as pd\n",
    "\n",
    "def make_test():\n",
    "    made_test = pd.DataFrame([{\n",
    "        '탑승지코드_C': False,\n",
    "        '탑승지코드_Q': False,\n",
    "        '탑승지코드_S': False,\n",
    "        '객실등급_First': False,\n",
    "        '객실등급_Second': False,\n",
    "        '객실등급_Third': False,\n",
    "        '성인여부_child': False,\n",
    "        '성인여부_man': False,\n",
    "        '성인여부_woman': False,\n",
    "        '개인탑승자': True,\n",
    "        '나이': 0,\n",
    "        '형제자매': 0,\n",
    "        '부모자녀': 0,\n",
    "        '요금': 0.0\n",
    "    }])\n",
    "\n",
    "    # 나이 입력\n",
    "    try:\n",
    "        age = int(input(\"나이 입력: \"))\n",
    "        made_test.at[0, '나이'] = age\n",
    "    except:\n",
    "        print(\"나이는 정수로 입력해야 합니다. 기본값 0 유지\")\n",
    "        age = 0\n",
    "\n",
    "    # 성인여부 결정\n",
    "    if age <= 18:\n",
    "        # 무조건 child\n",
    "        made_test.at[0, '성인여부_man'] = False\n",
    "        made_test.at[0, '성인여부_woman'] = False\n",
    "        made_test.at[0, '성인여부_child'] = True\n",
    "    else:\n",
    "        # 19세 이상은 man 또는 woman 입력 받기\n",
    "        adult_status = input(\"성인여부 (man, woman) 입력: \").strip().lower()\n",
    "        if adult_status in ['man', 'woman']:\n",
    "            made_test.at[0, '성인여부_man'] = (adult_status == 'man')\n",
    "            made_test.at[0, '성인여부_woman'] = (adult_status == 'woman')\n",
    "            made_test.at[0, '성인여부_child'] = False\n",
    "        else:\n",
    "            print(\"성인여부는 man 또는 woman이어야 합니다. 기본값 유지\")\n",
    "\n",
    "    # 탑승지코드 입력받기\n",
    "    boarding_code = input(\"탑승지코드 (S, C, Q) 입력: \").strip().upper()\n",
    "    if boarding_code in ['C', 'S', 'Q']:\n",
    "        for code in ['C', 'S', 'Q']:\n",
    "            made_test.at[0, f'탑승지코드_{code}'] = (boarding_code == code)\n",
    "    else:\n",
    "        print(\"탑승지코드는 S, C, Q 중 하나여야 합니다. 기본값 유지\")\n",
    "\n",
    "    # 객실등급 입력받기\n",
    "    room_grade = input(\"객실등급 (First, Second, Third) 입력: \").strip().capitalize()\n",
    "    if room_grade in ['First', 'Second', 'Third']:\n",
    "        for grade in ['First', 'Second', 'Third']:\n",
    "            made_test.at[0, f'객실등급_{grade}'] = (room_grade == grade)\n",
    "    else:\n",
    "        print(\"객실등급은 First, Second, Third 중 하나여야 합니다. 기본값 유지\")\n",
    "\n",
    "    # 나머지 입력\n",
    "    try:\n",
    "        siblings = int(input(\"형제자매 수 입력: \"))\n",
    "        made_test.at[0, '형제자매'] = siblings\n",
    "    except:\n",
    "        print(\"형제자매 수는 정수로 입력해야 합니다. 기본값 유지\")\n",
    "\n",
    "    try:\n",
    "        parents = int(input(\"부모자녀 수 입력: \"))\n",
    "        made_test.at[0, '부모자녀'] = parents\n",
    "    except:\n",
    "        print(\"부모자녀 수는 정수로 입력해야 합니다. 기본값 유지\")\n",
    "\n",
    "    try:\n",
    "        fare = float(input(\"요금 입력: \"))\n",
    "        made_test.at[0, '요금'] = fare\n",
    "    except:\n",
    "        print(\"요금은 숫자로 입력해야 합니다. 기본값 유지\")\n",
    "\n",
    "    display(made_test)\n",
    "    return made_test\n",
    "\n",
    "# 테스트\n",
    "df_test = make_test()\n",
    "df_test\n",
    "\n"
   ]
  },
  {
   "cell_type": "code",
   "execution_count": 172,
   "id": "6aaf668a",
   "metadata": {},
   "outputs": [
    {
     "data": {
      "application/vnd.microsoft.datawrangler.viewer.v0+json": {
       "columns": [
        {
         "name": "index",
         "rawType": "int64",
         "type": "integer"
        },
        {
         "name": "탑승지코드_C",
         "rawType": "bool",
         "type": "boolean"
        },
        {
         "name": "탑승지코드_S",
         "rawType": "bool",
         "type": "boolean"
        },
        {
         "name": "탑승지코드_Q",
         "rawType": "bool",
         "type": "boolean"
        },
        {
         "name": "객실등급_First",
         "rawType": "bool",
         "type": "boolean"
        },
        {
         "name": "객실등급_Second",
         "rawType": "bool",
         "type": "boolean"
        },
        {
         "name": "객실등급_Third",
         "rawType": "bool",
         "type": "boolean"
        },
        {
         "name": "성인여부_man",
         "rawType": "bool",
         "type": "boolean"
        },
        {
         "name": "성인여부_woman",
         "rawType": "bool",
         "type": "boolean"
        },
        {
         "name": "성인여부_child",
         "rawType": "bool",
         "type": "boolean"
        },
        {
         "name": "개인탑승자",
         "rawType": "bool",
         "type": "boolean"
        },
        {
         "name": "나이",
         "rawType": "int64",
         "type": "integer"
        },
        {
         "name": "형제자매",
         "rawType": "int64",
         "type": "integer"
        },
        {
         "name": "부모자녀",
         "rawType": "int64",
         "type": "integer"
        },
        {
         "name": "요금",
         "rawType": "float64",
         "type": "float"
        }
       ],
       "ref": "b2b07748-c3fc-4b0b-ae50-9e7ab55a25f1",
       "rows": [
        [
         "0",
         "False",
         "True",
         "False",
         "True",
         "False",
         "False",
         "False",
         "False",
         "True",
         "True",
         "15",
         "3",
         "2",
         "40.0"
        ]
       ],
       "shape": {
        "columns": 14,
        "rows": 1
       }
      },
      "text/html": [
       "<div>\n",
       "<style scoped>\n",
       "    .dataframe tbody tr th:only-of-type {\n",
       "        vertical-align: middle;\n",
       "    }\n",
       "\n",
       "    .dataframe tbody tr th {\n",
       "        vertical-align: top;\n",
       "    }\n",
       "\n",
       "    .dataframe thead th {\n",
       "        text-align: right;\n",
       "    }\n",
       "</style>\n",
       "<table border=\"1\" class=\"dataframe\">\n",
       "  <thead>\n",
       "    <tr style=\"text-align: right;\">\n",
       "      <th></th>\n",
       "      <th>탑승지코드_C</th>\n",
       "      <th>탑승지코드_S</th>\n",
       "      <th>탑승지코드_Q</th>\n",
       "      <th>객실등급_First</th>\n",
       "      <th>객실등급_Second</th>\n",
       "      <th>객실등급_Third</th>\n",
       "      <th>성인여부_man</th>\n",
       "      <th>성인여부_woman</th>\n",
       "      <th>성인여부_child</th>\n",
       "      <th>개인탑승자</th>\n",
       "      <th>나이</th>\n",
       "      <th>형제자매</th>\n",
       "      <th>부모자녀</th>\n",
       "      <th>요금</th>\n",
       "    </tr>\n",
       "  </thead>\n",
       "  <tbody>\n",
       "    <tr>\n",
       "      <th>0</th>\n",
       "      <td>False</td>\n",
       "      <td>True</td>\n",
       "      <td>False</td>\n",
       "      <td>True</td>\n",
       "      <td>False</td>\n",
       "      <td>False</td>\n",
       "      <td>False</td>\n",
       "      <td>False</td>\n",
       "      <td>True</td>\n",
       "      <td>True</td>\n",
       "      <td>15</td>\n",
       "      <td>3</td>\n",
       "      <td>2</td>\n",
       "      <td>40.0</td>\n",
       "    </tr>\n",
       "  </tbody>\n",
       "</table>\n",
       "</div>"
      ],
      "text/plain": [
       "   탑승지코드_C  탑승지코드_S  탑승지코드_Q  객실등급_First  객실등급_Second  객실등급_Third  성인여부_man  \\\n",
       "0    False     True    False        True        False       False     False   \n",
       "\n",
       "   성인여부_woman  성인여부_child  개인탑승자  나이  형제자매  부모자녀    요금  \n",
       "0       False        True   True  15     3     2  40.0  "
      ]
     },
     "execution_count": 172,
     "metadata": {},
     "output_type": "execute_result"
    }
   ],
   "source": [
    "df_test"
   ]
  },
  {
   "cell_type": "code",
   "execution_count": 178,
   "id": "080656b7",
   "metadata": {},
   "outputs": [
    {
     "data": {
      "application/vnd.microsoft.datawrangler.viewer.v0+json": {
       "columns": [
        {
         "name": "index",
         "rawType": "int64",
         "type": "integer"
        },
        {
         "name": "탑승지코드_C",
         "rawType": "bool",
         "type": "boolean"
        },
        {
         "name": "탑승지코드_Q",
         "rawType": "bool",
         "type": "boolean"
        },
        {
         "name": "탑승지코드_S",
         "rawType": "bool",
         "type": "boolean"
        },
        {
         "name": "객실등급_First",
         "rawType": "bool",
         "type": "boolean"
        },
        {
         "name": "객실등급_Second",
         "rawType": "bool",
         "type": "boolean"
        },
        {
         "name": "객실등급_Third",
         "rawType": "bool",
         "type": "boolean"
        },
        {
         "name": "성인여부_child",
         "rawType": "bool",
         "type": "boolean"
        },
        {
         "name": "성인여부_man",
         "rawType": "bool",
         "type": "boolean"
        },
        {
         "name": "성인여부_woman",
         "rawType": "bool",
         "type": "boolean"
        },
        {
         "name": "개인탑승자",
         "rawType": "bool",
         "type": "boolean"
        },
        {
         "name": "나이",
         "rawType": "float64",
         "type": "float"
        },
        {
         "name": "형제자매",
         "rawType": "int64",
         "type": "integer"
        },
        {
         "name": "부모자녀",
         "rawType": "int64",
         "type": "integer"
        },
        {
         "name": "요금",
         "rawType": "float64",
         "type": "float"
        }
       ],
       "ref": "1458086e-d8fe-4180-8b7a-ce76bb9138a8",
       "rows": [
        [
         "0",
         "False",
         "False",
         "True",
         "False",
         "False",
         "True",
         "False",
         "True",
         "False",
         "False",
         "22.0",
         "1",
         "0",
         "7.25"
        ],
        [
         "1",
         "True",
         "False",
         "False",
         "True",
         "False",
         "False",
         "False",
         "False",
         "True",
         "False",
         "38.0",
         "1",
         "0",
         "71.2833"
        ],
        [
         "2",
         "False",
         "False",
         "True",
         "False",
         "False",
         "True",
         "False",
         "False",
         "True",
         "True",
         "26.0",
         "0",
         "0",
         "7.925"
        ],
        [
         "3",
         "False",
         "False",
         "True",
         "True",
         "False",
         "False",
         "False",
         "False",
         "True",
         "False",
         "35.0",
         "1",
         "0",
         "53.1"
        ],
        [
         "4",
         "False",
         "False",
         "True",
         "False",
         "False",
         "True",
         "False",
         "True",
         "False",
         "True",
         "35.0",
         "0",
         "0",
         "8.05"
        ],
        [
         "5",
         "False",
         "True",
         "False",
         "False",
         "False",
         "True",
         "False",
         "True",
         "False",
         "True",
         "32.76782884310618",
         "0",
         "0",
         "8.4583"
        ],
        [
         "6",
         "False",
         "False",
         "True",
         "True",
         "False",
         "False",
         "False",
         "True",
         "False",
         "True",
         "54.0",
         "0",
         "0",
         "51.8625"
        ],
        [
         "7",
         "False",
         "False",
         "True",
         "False",
         "False",
         "True",
         "True",
         "False",
         "False",
         "False",
         "2.0",
         "3",
         "1",
         "21.075"
        ],
        [
         "8",
         "False",
         "False",
         "True",
         "False",
         "False",
         "True",
         "False",
         "False",
         "True",
         "False",
         "27.0",
         "0",
         "2",
         "11.1333"
        ],
        [
         "9",
         "True",
         "False",
         "False",
         "False",
         "True",
         "False",
         "True",
         "False",
         "False",
         "False",
         "14.0",
         "1",
         "0",
         "30.0708"
        ],
        [
         "10",
         "False",
         "False",
         "True",
         "False",
         "False",
         "True",
         "True",
         "False",
         "False",
         "False",
         "4.0",
         "1",
         "1",
         "16.7"
        ],
        [
         "11",
         "False",
         "False",
         "True",
         "True",
         "False",
         "False",
         "False",
         "False",
         "True",
         "True",
         "58.0",
         "0",
         "0",
         "26.55"
        ],
        [
         "12",
         "False",
         "False",
         "True",
         "False",
         "False",
         "True",
         "False",
         "True",
         "False",
         "True",
         "20.0",
         "0",
         "0",
         "8.05"
        ],
        [
         "13",
         "False",
         "False",
         "True",
         "False",
         "False",
         "True",
         "False",
         "True",
         "False",
         "False",
         "39.0",
         "1",
         "5",
         "31.275"
        ],
        [
         "14",
         "False",
         "False",
         "True",
         "False",
         "False",
         "True",
         "True",
         "False",
         "False",
         "True",
         "14.0",
         "0",
         "0",
         "7.8542"
        ],
        [
         "15",
         "False",
         "False",
         "True",
         "False",
         "True",
         "False",
         "False",
         "False",
         "True",
         "True",
         "55.0",
         "0",
         "0",
         "16.0"
        ],
        [
         "16",
         "False",
         "True",
         "False",
         "False",
         "False",
         "True",
         "True",
         "False",
         "False",
         "False",
         "2.0",
         "4",
         "1",
         "29.125"
        ],
        [
         "17",
         "False",
         "False",
         "True",
         "False",
         "True",
         "False",
         "False",
         "True",
         "False",
         "True",
         "32.76782884310618",
         "0",
         "0",
         "13.0"
        ],
        [
         "18",
         "False",
         "False",
         "True",
         "False",
         "False",
         "True",
         "False",
         "False",
         "True",
         "False",
         "31.0",
         "1",
         "0",
         "18.0"
        ],
        [
         "19",
         "True",
         "False",
         "False",
         "False",
         "False",
         "True",
         "False",
         "False",
         "True",
         "True",
         "32.76782884310618",
         "0",
         "0",
         "7.225"
        ],
        [
         "20",
         "False",
         "False",
         "True",
         "False",
         "True",
         "False",
         "False",
         "True",
         "False",
         "True",
         "35.0",
         "0",
         "0",
         "26.0"
        ],
        [
         "21",
         "False",
         "False",
         "True",
         "False",
         "True",
         "False",
         "False",
         "True",
         "False",
         "True",
         "34.0",
         "0",
         "0",
         "13.0"
        ],
        [
         "22",
         "False",
         "True",
         "False",
         "False",
         "False",
         "True",
         "True",
         "False",
         "False",
         "True",
         "15.0",
         "0",
         "0",
         "8.0292"
        ],
        [
         "23",
         "False",
         "False",
         "True",
         "True",
         "False",
         "False",
         "False",
         "True",
         "False",
         "True",
         "28.0",
         "0",
         "0",
         "35.5"
        ],
        [
         "24",
         "False",
         "False",
         "True",
         "False",
         "False",
         "True",
         "True",
         "False",
         "False",
         "False",
         "8.0",
         "3",
         "1",
         "21.075"
        ],
        [
         "25",
         "False",
         "False",
         "True",
         "False",
         "False",
         "True",
         "False",
         "False",
         "True",
         "False",
         "38.0",
         "1",
         "5",
         "31.3875"
        ],
        [
         "26",
         "True",
         "False",
         "False",
         "False",
         "False",
         "True",
         "False",
         "True",
         "False",
         "True",
         "32.76782884310618",
         "0",
         "0",
         "7.225"
        ],
        [
         "27",
         "False",
         "False",
         "True",
         "True",
         "False",
         "False",
         "False",
         "True",
         "False",
         "False",
         "19.0",
         "3",
         "2",
         "263.0"
        ],
        [
         "28",
         "False",
         "True",
         "False",
         "False",
         "False",
         "True",
         "False",
         "False",
         "True",
         "True",
         "32.76782884310618",
         "0",
         "0",
         "7.8792"
        ],
        [
         "29",
         "False",
         "False",
         "True",
         "False",
         "False",
         "True",
         "False",
         "True",
         "False",
         "True",
         "32.76782884310618",
         "0",
         "0",
         "7.8958"
        ],
        [
         "30",
         "True",
         "False",
         "False",
         "True",
         "False",
         "False",
         "False",
         "True",
         "False",
         "True",
         "40.0",
         "0",
         "0",
         "27.7208"
        ],
        [
         "31",
         "True",
         "False",
         "False",
         "True",
         "False",
         "False",
         "False",
         "False",
         "True",
         "False",
         "32.76782884310618",
         "1",
         "0",
         "146.5208"
        ],
        [
         "32",
         "False",
         "True",
         "False",
         "False",
         "False",
         "True",
         "False",
         "False",
         "True",
         "True",
         "32.76782884310618",
         "0",
         "0",
         "7.75"
        ],
        [
         "33",
         "False",
         "False",
         "True",
         "False",
         "True",
         "False",
         "False",
         "True",
         "False",
         "True",
         "66.0",
         "0",
         "0",
         "10.5"
        ],
        [
         "34",
         "True",
         "False",
         "False",
         "True",
         "False",
         "False",
         "False",
         "True",
         "False",
         "False",
         "28.0",
         "1",
         "0",
         "82.1708"
        ],
        [
         "35",
         "False",
         "False",
         "True",
         "True",
         "False",
         "False",
         "False",
         "True",
         "False",
         "False",
         "42.0",
         "1",
         "0",
         "52.0"
        ],
        [
         "36",
         "True",
         "False",
         "False",
         "False",
         "False",
         "True",
         "False",
         "True",
         "False",
         "True",
         "32.76782884310618",
         "0",
         "0",
         "7.2292"
        ],
        [
         "37",
         "False",
         "False",
         "True",
         "False",
         "False",
         "True",
         "False",
         "True",
         "False",
         "True",
         "21.0",
         "0",
         "0",
         "8.05"
        ],
        [
         "38",
         "False",
         "False",
         "True",
         "False",
         "False",
         "True",
         "False",
         "False",
         "True",
         "False",
         "18.0",
         "2",
         "0",
         "18.0"
        ],
        [
         "39",
         "True",
         "False",
         "False",
         "False",
         "False",
         "True",
         "True",
         "False",
         "False",
         "False",
         "14.0",
         "1",
         "0",
         "11.2417"
        ],
        [
         "40",
         "False",
         "False",
         "True",
         "False",
         "False",
         "True",
         "False",
         "False",
         "True",
         "False",
         "40.0",
         "1",
         "0",
         "9.475"
        ],
        [
         "41",
         "False",
         "False",
         "True",
         "False",
         "True",
         "False",
         "False",
         "False",
         "True",
         "False",
         "27.0",
         "1",
         "0",
         "21.0"
        ],
        [
         "42",
         "True",
         "False",
         "False",
         "False",
         "False",
         "True",
         "False",
         "True",
         "False",
         "True",
         "32.76782884310618",
         "0",
         "0",
         "7.8958"
        ],
        [
         "43",
         "True",
         "False",
         "False",
         "False",
         "True",
         "False",
         "True",
         "False",
         "False",
         "False",
         "3.0",
         "1",
         "2",
         "41.5792"
        ],
        [
         "44",
         "False",
         "True",
         "False",
         "False",
         "False",
         "True",
         "False",
         "False",
         "True",
         "True",
         "19.0",
         "0",
         "0",
         "7.8792"
        ],
        [
         "45",
         "False",
         "False",
         "True",
         "False",
         "False",
         "True",
         "False",
         "True",
         "False",
         "True",
         "32.76782884310618",
         "0",
         "0",
         "8.05"
        ],
        [
         "46",
         "False",
         "True",
         "False",
         "False",
         "False",
         "True",
         "False",
         "True",
         "False",
         "False",
         "32.76782884310618",
         "1",
         "0",
         "15.5"
        ],
        [
         "47",
         "False",
         "True",
         "False",
         "False",
         "False",
         "True",
         "False",
         "False",
         "True",
         "True",
         "32.76782884310618",
         "0",
         "0",
         "7.75"
        ],
        [
         "48",
         "True",
         "False",
         "False",
         "False",
         "False",
         "True",
         "False",
         "True",
         "False",
         "False",
         "32.76782884310618",
         "2",
         "0",
         "21.6792"
        ],
        [
         "49",
         "False",
         "False",
         "True",
         "False",
         "False",
         "True",
         "False",
         "False",
         "True",
         "False",
         "18.0",
         "1",
         "0",
         "17.8"
        ]
       ],
       "shape": {
        "columns": 14,
        "rows": 891
       }
      },
      "text/html": [
       "<div>\n",
       "<style scoped>\n",
       "    .dataframe tbody tr th:only-of-type {\n",
       "        vertical-align: middle;\n",
       "    }\n",
       "\n",
       "    .dataframe tbody tr th {\n",
       "        vertical-align: top;\n",
       "    }\n",
       "\n",
       "    .dataframe thead th {\n",
       "        text-align: right;\n",
       "    }\n",
       "</style>\n",
       "<table border=\"1\" class=\"dataframe\">\n",
       "  <thead>\n",
       "    <tr style=\"text-align: right;\">\n",
       "      <th></th>\n",
       "      <th>탑승지코드_C</th>\n",
       "      <th>탑승지코드_Q</th>\n",
       "      <th>탑승지코드_S</th>\n",
       "      <th>객실등급_First</th>\n",
       "      <th>객실등급_Second</th>\n",
       "      <th>객실등급_Third</th>\n",
       "      <th>성인여부_child</th>\n",
       "      <th>성인여부_man</th>\n",
       "      <th>성인여부_woman</th>\n",
       "      <th>개인탑승자</th>\n",
       "      <th>나이</th>\n",
       "      <th>형제자매</th>\n",
       "      <th>부모자녀</th>\n",
       "      <th>요금</th>\n",
       "    </tr>\n",
       "  </thead>\n",
       "  <tbody>\n",
       "    <tr>\n",
       "      <th>0</th>\n",
       "      <td>False</td>\n",
       "      <td>False</td>\n",
       "      <td>True</td>\n",
       "      <td>False</td>\n",
       "      <td>False</td>\n",
       "      <td>True</td>\n",
       "      <td>False</td>\n",
       "      <td>True</td>\n",
       "      <td>False</td>\n",
       "      <td>False</td>\n",
       "      <td>22.000000</td>\n",
       "      <td>1</td>\n",
       "      <td>0</td>\n",
       "      <td>7.2500</td>\n",
       "    </tr>\n",
       "    <tr>\n",
       "      <th>1</th>\n",
       "      <td>True</td>\n",
       "      <td>False</td>\n",
       "      <td>False</td>\n",
       "      <td>True</td>\n",
       "      <td>False</td>\n",
       "      <td>False</td>\n",
       "      <td>False</td>\n",
       "      <td>False</td>\n",
       "      <td>True</td>\n",
       "      <td>False</td>\n",
       "      <td>38.000000</td>\n",
       "      <td>1</td>\n",
       "      <td>0</td>\n",
       "      <td>71.2833</td>\n",
       "    </tr>\n",
       "    <tr>\n",
       "      <th>2</th>\n",
       "      <td>False</td>\n",
       "      <td>False</td>\n",
       "      <td>True</td>\n",
       "      <td>False</td>\n",
       "      <td>False</td>\n",
       "      <td>True</td>\n",
       "      <td>False</td>\n",
       "      <td>False</td>\n",
       "      <td>True</td>\n",
       "      <td>True</td>\n",
       "      <td>26.000000</td>\n",
       "      <td>0</td>\n",
       "      <td>0</td>\n",
       "      <td>7.9250</td>\n",
       "    </tr>\n",
       "    <tr>\n",
       "      <th>3</th>\n",
       "      <td>False</td>\n",
       "      <td>False</td>\n",
       "      <td>True</td>\n",
       "      <td>True</td>\n",
       "      <td>False</td>\n",
       "      <td>False</td>\n",
       "      <td>False</td>\n",
       "      <td>False</td>\n",
       "      <td>True</td>\n",
       "      <td>False</td>\n",
       "      <td>35.000000</td>\n",
       "      <td>1</td>\n",
       "      <td>0</td>\n",
       "      <td>53.1000</td>\n",
       "    </tr>\n",
       "    <tr>\n",
       "      <th>4</th>\n",
       "      <td>False</td>\n",
       "      <td>False</td>\n",
       "      <td>True</td>\n",
       "      <td>False</td>\n",
       "      <td>False</td>\n",
       "      <td>True</td>\n",
       "      <td>False</td>\n",
       "      <td>True</td>\n",
       "      <td>False</td>\n",
       "      <td>True</td>\n",
       "      <td>35.000000</td>\n",
       "      <td>0</td>\n",
       "      <td>0</td>\n",
       "      <td>8.0500</td>\n",
       "    </tr>\n",
       "    <tr>\n",
       "      <th>...</th>\n",
       "      <td>...</td>\n",
       "      <td>...</td>\n",
       "      <td>...</td>\n",
       "      <td>...</td>\n",
       "      <td>...</td>\n",
       "      <td>...</td>\n",
       "      <td>...</td>\n",
       "      <td>...</td>\n",
       "      <td>...</td>\n",
       "      <td>...</td>\n",
       "      <td>...</td>\n",
       "      <td>...</td>\n",
       "      <td>...</td>\n",
       "      <td>...</td>\n",
       "    </tr>\n",
       "    <tr>\n",
       "      <th>886</th>\n",
       "      <td>False</td>\n",
       "      <td>False</td>\n",
       "      <td>True</td>\n",
       "      <td>False</td>\n",
       "      <td>True</td>\n",
       "      <td>False</td>\n",
       "      <td>False</td>\n",
       "      <td>True</td>\n",
       "      <td>False</td>\n",
       "      <td>True</td>\n",
       "      <td>27.000000</td>\n",
       "      <td>0</td>\n",
       "      <td>0</td>\n",
       "      <td>13.0000</td>\n",
       "    </tr>\n",
       "    <tr>\n",
       "      <th>887</th>\n",
       "      <td>False</td>\n",
       "      <td>False</td>\n",
       "      <td>True</td>\n",
       "      <td>True</td>\n",
       "      <td>False</td>\n",
       "      <td>False</td>\n",
       "      <td>False</td>\n",
       "      <td>False</td>\n",
       "      <td>True</td>\n",
       "      <td>True</td>\n",
       "      <td>19.000000</td>\n",
       "      <td>0</td>\n",
       "      <td>0</td>\n",
       "      <td>30.0000</td>\n",
       "    </tr>\n",
       "    <tr>\n",
       "      <th>888</th>\n",
       "      <td>False</td>\n",
       "      <td>False</td>\n",
       "      <td>True</td>\n",
       "      <td>False</td>\n",
       "      <td>False</td>\n",
       "      <td>True</td>\n",
       "      <td>False</td>\n",
       "      <td>False</td>\n",
       "      <td>True</td>\n",
       "      <td>False</td>\n",
       "      <td>32.767829</td>\n",
       "      <td>1</td>\n",
       "      <td>2</td>\n",
       "      <td>23.4500</td>\n",
       "    </tr>\n",
       "    <tr>\n",
       "      <th>889</th>\n",
       "      <td>True</td>\n",
       "      <td>False</td>\n",
       "      <td>False</td>\n",
       "      <td>True</td>\n",
       "      <td>False</td>\n",
       "      <td>False</td>\n",
       "      <td>False</td>\n",
       "      <td>True</td>\n",
       "      <td>False</td>\n",
       "      <td>True</td>\n",
       "      <td>26.000000</td>\n",
       "      <td>0</td>\n",
       "      <td>0</td>\n",
       "      <td>30.0000</td>\n",
       "    </tr>\n",
       "    <tr>\n",
       "      <th>890</th>\n",
       "      <td>False</td>\n",
       "      <td>True</td>\n",
       "      <td>False</td>\n",
       "      <td>False</td>\n",
       "      <td>False</td>\n",
       "      <td>True</td>\n",
       "      <td>False</td>\n",
       "      <td>True</td>\n",
       "      <td>False</td>\n",
       "      <td>True</td>\n",
       "      <td>32.000000</td>\n",
       "      <td>0</td>\n",
       "      <td>0</td>\n",
       "      <td>7.7500</td>\n",
       "    </tr>\n",
       "  </tbody>\n",
       "</table>\n",
       "<p>891 rows × 14 columns</p>\n",
       "</div>"
      ],
      "text/plain": [
       "     탑승지코드_C  탑승지코드_Q  탑승지코드_S  객실등급_First  객실등급_Second  객실등급_Third  \\\n",
       "0      False    False     True       False        False        True   \n",
       "1       True    False    False        True        False       False   \n",
       "2      False    False     True       False        False        True   \n",
       "3      False    False     True        True        False       False   \n",
       "4      False    False     True       False        False        True   \n",
       "..       ...      ...      ...         ...          ...         ...   \n",
       "886    False    False     True       False         True       False   \n",
       "887    False    False     True        True        False       False   \n",
       "888    False    False     True       False        False        True   \n",
       "889     True    False    False        True        False       False   \n",
       "890    False     True    False       False        False        True   \n",
       "\n",
       "     성인여부_child  성인여부_man  성인여부_woman  개인탑승자         나이  형제자매  부모자녀       요금  \n",
       "0         False      True       False  False  22.000000     1     0   7.2500  \n",
       "1         False     False        True  False  38.000000     1     0  71.2833  \n",
       "2         False     False        True   True  26.000000     0     0   7.9250  \n",
       "3         False     False        True  False  35.000000     1     0  53.1000  \n",
       "4         False      True       False   True  35.000000     0     0   8.0500  \n",
       "..          ...       ...         ...    ...        ...   ...   ...      ...  \n",
       "886       False      True       False   True  27.000000     0     0  13.0000  \n",
       "887       False     False        True   True  19.000000     0     0  30.0000  \n",
       "888       False     False        True  False  32.767829     1     2  23.4500  \n",
       "889       False      True       False   True  26.000000     0     0  30.0000  \n",
       "890       False      True       False   True  32.000000     0     0   7.7500  \n",
       "\n",
       "[891 rows x 14 columns]"
      ]
     },
     "execution_count": 178,
     "metadata": {},
     "output_type": "execute_result"
    }
   ],
   "source": [
    "train_df"
   ]
  },
  {
   "cell_type": "code",
   "execution_count": 191,
   "id": "0ced6de4",
   "metadata": {},
   "outputs": [
    {
     "data": {
      "text/plain": [
       "array([1])"
      ]
     },
     "execution_count": 191,
     "metadata": {},
     "output_type": "execute_result"
    }
   ],
   "source": [
    "y_pred = loaded_model.predict(df_test)\n",
    "y_pred"
   ]
  },
  {
   "cell_type": "code",
   "execution_count": 193,
   "id": "ddc6146a",
   "metadata": {},
   "outputs": [
    {
     "name": "stdout",
     "output_type": "stream",
     "text": [
      "1\n"
     ]
    }
   ],
   "source": [
    "print(y_pred[0])"
   ]
  },
  {
   "cell_type": "code",
   "execution_count": 169,
   "id": "aa683113",
   "metadata": {},
   "outputs": [
    {
     "data": {
      "application/vnd.microsoft.datawrangler.viewer.v0+json": {
       "columns": [
        {
         "name": "index",
         "rawType": "int64",
         "type": "integer"
        },
        {
         "name": "탑승지코드_C",
         "rawType": "bool",
         "type": "boolean"
        },
        {
         "name": "탑승지코드_Q",
         "rawType": "bool",
         "type": "boolean"
        },
        {
         "name": "탑승지코드_S",
         "rawType": "bool",
         "type": "boolean"
        },
        {
         "name": "객실등급_First",
         "rawType": "bool",
         "type": "boolean"
        },
        {
         "name": "객실등급_Second",
         "rawType": "bool",
         "type": "boolean"
        },
        {
         "name": "객실등급_Third",
         "rawType": "bool",
         "type": "boolean"
        },
        {
         "name": "성인여부_child",
         "rawType": "bool",
         "type": "boolean"
        },
        {
         "name": "성인여부_man",
         "rawType": "bool",
         "type": "boolean"
        },
        {
         "name": "성인여부_woman",
         "rawType": "bool",
         "type": "boolean"
        },
        {
         "name": "개인탑승자",
         "rawType": "bool",
         "type": "boolean"
        },
        {
         "name": "나이",
         "rawType": "float64",
         "type": "float"
        },
        {
         "name": "형제자매",
         "rawType": "int64",
         "type": "integer"
        },
        {
         "name": "부모자녀",
         "rawType": "int64",
         "type": "integer"
        },
        {
         "name": "요금",
         "rawType": "float64",
         "type": "float"
        }
       ],
       "ref": "cdae456e-8755-49c2-a011-f43d249d12aa",
       "rows": [
        [
         "212",
         "False",
         "False",
         "True",
         "False",
         "False",
         "True",
         "False",
         "True",
         "False",
         "True",
         "22.0",
         "0",
         "0",
         "7.25"
        ],
        [
         "456",
         "False",
         "False",
         "True",
         "True",
         "False",
         "False",
         "False",
         "True",
         "False",
         "True",
         "65.0",
         "0",
         "0",
         "26.55"
        ],
        [
         "557",
         "True",
         "False",
         "False",
         "True",
         "False",
         "False",
         "False",
         "True",
         "False",
         "True",
         "32.76782884310618",
         "0",
         "0",
         "227.525"
        ],
        [
         "763",
         "False",
         "False",
         "True",
         "True",
         "False",
         "False",
         "False",
         "False",
         "True",
         "False",
         "36.0",
         "1",
         "2",
         "120.0"
        ],
        [
         "682",
         "False",
         "False",
         "True",
         "False",
         "False",
         "True",
         "False",
         "True",
         "False",
         "True",
         "20.0",
         "0",
         "0",
         "9.225"
        ],
        [
         "44",
         "False",
         "True",
         "False",
         "False",
         "False",
         "True",
         "False",
         "False",
         "True",
         "True",
         "19.0",
         "0",
         "0",
         "7.8792"
        ],
        [
         "605",
         "False",
         "False",
         "True",
         "False",
         "False",
         "True",
         "False",
         "True",
         "False",
         "False",
         "36.0",
         "1",
         "0",
         "15.55"
        ],
        [
         "774",
         "False",
         "False",
         "True",
         "False",
         "True",
         "False",
         "False",
         "False",
         "True",
         "False",
         "54.0",
         "1",
         "3",
         "23.0"
        ],
        [
         "632",
         "True",
         "False",
         "False",
         "True",
         "False",
         "False",
         "False",
         "True",
         "False",
         "True",
         "32.0",
         "0",
         "0",
         "30.5"
        ],
        [
         "645",
         "True",
         "False",
         "False",
         "True",
         "False",
         "False",
         "False",
         "True",
         "False",
         "False",
         "48.0",
         "1",
         "0",
         "76.7292"
        ],
        [
         "635",
         "False",
         "False",
         "True",
         "False",
         "True",
         "False",
         "False",
         "False",
         "True",
         "True",
         "28.0",
         "0",
         "0",
         "13.0"
        ],
        [
         "452",
         "True",
         "False",
         "False",
         "True",
         "False",
         "False",
         "False",
         "True",
         "False",
         "True",
         "30.0",
         "0",
         "0",
         "27.75"
        ],
        [
         "541",
         "False",
         "False",
         "True",
         "False",
         "False",
         "True",
         "True",
         "False",
         "False",
         "False",
         "9.0",
         "4",
         "2",
         "31.275"
        ],
        [
         "449",
         "False",
         "False",
         "True",
         "True",
         "False",
         "False",
         "False",
         "True",
         "False",
         "True",
         "52.0",
         "0",
         "0",
         "30.5"
        ],
        [
         "293",
         "False",
         "False",
         "True",
         "False",
         "False",
         "True",
         "False",
         "False",
         "True",
         "True",
         "24.0",
         "0",
         "0",
         "8.85"
        ],
        [
         "683",
         "False",
         "False",
         "True",
         "False",
         "False",
         "True",
         "True",
         "False",
         "False",
         "False",
         "14.0",
         "5",
         "2",
         "46.9"
        ],
        [
         "398",
         "False",
         "False",
         "True",
         "False",
         "True",
         "False",
         "False",
         "True",
         "False",
         "True",
         "23.0",
         "0",
         "0",
         "10.5"
        ],
        [
         "596",
         "False",
         "False",
         "True",
         "False",
         "True",
         "False",
         "False",
         "False",
         "True",
         "True",
         "32.76782884310618",
         "0",
         "0",
         "33.0"
        ],
        [
         "417",
         "False",
         "False",
         "True",
         "False",
         "True",
         "False",
         "False",
         "False",
         "True",
         "False",
         "18.0",
         "0",
         "2",
         "13.0"
        ],
        [
         "626",
         "False",
         "True",
         "False",
         "False",
         "True",
         "False",
         "False",
         "True",
         "False",
         "True",
         "57.0",
         "0",
         "0",
         "12.35"
        ],
        [
         "66",
         "False",
         "False",
         "True",
         "False",
         "True",
         "False",
         "False",
         "False",
         "True",
         "True",
         "29.0",
         "0",
         "0",
         "10.5"
        ],
        [
         "555",
         "False",
         "False",
         "True",
         "True",
         "False",
         "False",
         "False",
         "True",
         "False",
         "True",
         "62.0",
         "0",
         "0",
         "26.55"
        ],
        [
         "229",
         "False",
         "False",
         "True",
         "False",
         "False",
         "True",
         "False",
         "False",
         "True",
         "False",
         "32.76782884310618",
         "3",
         "1",
         "25.4667"
        ],
        [
         "445",
         "False",
         "False",
         "True",
         "True",
         "False",
         "False",
         "True",
         "False",
         "False",
         "False",
         "4.0",
         "0",
         "2",
         "81.8583"
        ],
        [
         "595",
         "False",
         "False",
         "True",
         "False",
         "False",
         "True",
         "False",
         "True",
         "False",
         "False",
         "36.0",
         "1",
         "1",
         "24.15"
        ],
        [
         "192",
         "False",
         "False",
         "True",
         "False",
         "False",
         "True",
         "False",
         "False",
         "True",
         "False",
         "19.0",
         "1",
         "0",
         "7.8542"
        ],
        [
         "589",
         "False",
         "False",
         "True",
         "False",
         "False",
         "True",
         "False",
         "True",
         "False",
         "True",
         "32.76782884310618",
         "0",
         "0",
         "8.05"
        ],
        [
         "223",
         "False",
         "False",
         "True",
         "False",
         "False",
         "True",
         "False",
         "True",
         "False",
         "True",
         "32.76782884310618",
         "0",
         "0",
         "7.8958"
        ],
        [
         "287",
         "False",
         "False",
         "True",
         "False",
         "False",
         "True",
         "False",
         "True",
         "False",
         "True",
         "22.0",
         "0",
         "0",
         "7.8958"
        ],
        [
         "767",
         "False",
         "True",
         "False",
         "False",
         "False",
         "True",
         "False",
         "False",
         "True",
         "True",
         "30.5",
         "0",
         "0",
         "7.75"
        ],
        [
         "877",
         "False",
         "False",
         "True",
         "False",
         "False",
         "True",
         "False",
         "True",
         "False",
         "True",
         "19.0",
         "0",
         "0",
         "7.8958"
        ],
        [
         "441",
         "False",
         "False",
         "True",
         "False",
         "False",
         "True",
         "False",
         "True",
         "False",
         "True",
         "20.0",
         "0",
         "0",
         "9.5"
        ],
        [
         "403",
         "False",
         "False",
         "True",
         "False",
         "False",
         "True",
         "False",
         "True",
         "False",
         "False",
         "28.0",
         "1",
         "0",
         "15.85"
        ],
        [
         "646",
         "False",
         "False",
         "True",
         "False",
         "False",
         "True",
         "False",
         "True",
         "False",
         "True",
         "19.0",
         "0",
         "0",
         "7.8958"
        ],
        [
         "416",
         "False",
         "False",
         "True",
         "False",
         "True",
         "False",
         "False",
         "False",
         "True",
         "False",
         "34.0",
         "1",
         "1",
         "32.5"
        ],
        [
         "168",
         "False",
         "False",
         "True",
         "True",
         "False",
         "False",
         "False",
         "True",
         "False",
         "True",
         "32.76782884310618",
         "0",
         "0",
         "25.925"
        ],
        [
         "124",
         "False",
         "False",
         "True",
         "True",
         "False",
         "False",
         "False",
         "True",
         "False",
         "False",
         "54.0",
         "0",
         "1",
         "77.2875"
        ],
        [
         "474",
         "False",
         "False",
         "True",
         "False",
         "False",
         "True",
         "False",
         "False",
         "True",
         "True",
         "22.0",
         "0",
         "0",
         "9.8375"
        ],
        [
         "761",
         "False",
         "False",
         "True",
         "False",
         "False",
         "True",
         "False",
         "True",
         "False",
         "True",
         "41.0",
         "0",
         "0",
         "7.125"
        ],
        [
         "840",
         "False",
         "False",
         "True",
         "False",
         "False",
         "True",
         "False",
         "True",
         "False",
         "True",
         "20.0",
         "0",
         "0",
         "7.925"
        ],
        [
         "825",
         "False",
         "True",
         "False",
         "False",
         "False",
         "True",
         "False",
         "True",
         "False",
         "True",
         "32.76782884310618",
         "0",
         "0",
         "6.95"
        ],
        [
         "112",
         "False",
         "False",
         "True",
         "False",
         "False",
         "True",
         "False",
         "True",
         "False",
         "True",
         "22.0",
         "0",
         "0",
         "8.05"
        ],
        [
         "98",
         "False",
         "False",
         "True",
         "False",
         "True",
         "False",
         "False",
         "False",
         "True",
         "False",
         "34.0",
         "0",
         "1",
         "23.0"
        ],
        [
         "301",
         "False",
         "True",
         "False",
         "False",
         "False",
         "True",
         "False",
         "True",
         "False",
         "False",
         "32.76782884310618",
         "2",
         "0",
         "23.25"
        ],
        [
         "752",
         "False",
         "False",
         "True",
         "False",
         "False",
         "True",
         "False",
         "True",
         "False",
         "True",
         "33.0",
         "0",
         "0",
         "9.5"
        ],
        [
         "808",
         "False",
         "False",
         "True",
         "False",
         "True",
         "False",
         "False",
         "True",
         "False",
         "True",
         "39.0",
         "0",
         "0",
         "13.0"
        ],
        [
         "597",
         "False",
         "False",
         "True",
         "False",
         "False",
         "True",
         "False",
         "True",
         "False",
         "True",
         "49.0",
         "0",
         "0",
         "0.0"
        ],
        [
         "467",
         "False",
         "False",
         "True",
         "True",
         "False",
         "False",
         "False",
         "True",
         "False",
         "True",
         "56.0",
         "0",
         "0",
         "26.55"
        ],
        [
         "116",
         "False",
         "True",
         "False",
         "False",
         "False",
         "True",
         "False",
         "True",
         "False",
         "True",
         "70.5",
         "0",
         "0",
         "7.75"
        ],
        [
         "675",
         "False",
         "False",
         "True",
         "False",
         "False",
         "True",
         "False",
         "True",
         "False",
         "True",
         "18.0",
         "0",
         "0",
         "7.775"
        ]
       ],
       "shape": {
        "columns": 14,
        "rows": 179
       }
      },
      "text/html": [
       "<div>\n",
       "<style scoped>\n",
       "    .dataframe tbody tr th:only-of-type {\n",
       "        vertical-align: middle;\n",
       "    }\n",
       "\n",
       "    .dataframe tbody tr th {\n",
       "        vertical-align: top;\n",
       "    }\n",
       "\n",
       "    .dataframe thead th {\n",
       "        text-align: right;\n",
       "    }\n",
       "</style>\n",
       "<table border=\"1\" class=\"dataframe\">\n",
       "  <thead>\n",
       "    <tr style=\"text-align: right;\">\n",
       "      <th></th>\n",
       "      <th>탑승지코드_C</th>\n",
       "      <th>탑승지코드_Q</th>\n",
       "      <th>탑승지코드_S</th>\n",
       "      <th>객실등급_First</th>\n",
       "      <th>객실등급_Second</th>\n",
       "      <th>객실등급_Third</th>\n",
       "      <th>성인여부_child</th>\n",
       "      <th>성인여부_man</th>\n",
       "      <th>성인여부_woman</th>\n",
       "      <th>개인탑승자</th>\n",
       "      <th>나이</th>\n",
       "      <th>형제자매</th>\n",
       "      <th>부모자녀</th>\n",
       "      <th>요금</th>\n",
       "    </tr>\n",
       "  </thead>\n",
       "  <tbody>\n",
       "    <tr>\n",
       "      <th>212</th>\n",
       "      <td>False</td>\n",
       "      <td>False</td>\n",
       "      <td>True</td>\n",
       "      <td>False</td>\n",
       "      <td>False</td>\n",
       "      <td>True</td>\n",
       "      <td>False</td>\n",
       "      <td>True</td>\n",
       "      <td>False</td>\n",
       "      <td>True</td>\n",
       "      <td>22.000000</td>\n",
       "      <td>0</td>\n",
       "      <td>0</td>\n",
       "      <td>7.2500</td>\n",
       "    </tr>\n",
       "    <tr>\n",
       "      <th>456</th>\n",
       "      <td>False</td>\n",
       "      <td>False</td>\n",
       "      <td>True</td>\n",
       "      <td>True</td>\n",
       "      <td>False</td>\n",
       "      <td>False</td>\n",
       "      <td>False</td>\n",
       "      <td>True</td>\n",
       "      <td>False</td>\n",
       "      <td>True</td>\n",
       "      <td>65.000000</td>\n",
       "      <td>0</td>\n",
       "      <td>0</td>\n",
       "      <td>26.5500</td>\n",
       "    </tr>\n",
       "    <tr>\n",
       "      <th>557</th>\n",
       "      <td>True</td>\n",
       "      <td>False</td>\n",
       "      <td>False</td>\n",
       "      <td>True</td>\n",
       "      <td>False</td>\n",
       "      <td>False</td>\n",
       "      <td>False</td>\n",
       "      <td>True</td>\n",
       "      <td>False</td>\n",
       "      <td>True</td>\n",
       "      <td>32.767829</td>\n",
       "      <td>0</td>\n",
       "      <td>0</td>\n",
       "      <td>227.5250</td>\n",
       "    </tr>\n",
       "    <tr>\n",
       "      <th>763</th>\n",
       "      <td>False</td>\n",
       "      <td>False</td>\n",
       "      <td>True</td>\n",
       "      <td>True</td>\n",
       "      <td>False</td>\n",
       "      <td>False</td>\n",
       "      <td>False</td>\n",
       "      <td>False</td>\n",
       "      <td>True</td>\n",
       "      <td>False</td>\n",
       "      <td>36.000000</td>\n",
       "      <td>1</td>\n",
       "      <td>2</td>\n",
       "      <td>120.0000</td>\n",
       "    </tr>\n",
       "    <tr>\n",
       "      <th>682</th>\n",
       "      <td>False</td>\n",
       "      <td>False</td>\n",
       "      <td>True</td>\n",
       "      <td>False</td>\n",
       "      <td>False</td>\n",
       "      <td>True</td>\n",
       "      <td>False</td>\n",
       "      <td>True</td>\n",
       "      <td>False</td>\n",
       "      <td>True</td>\n",
       "      <td>20.000000</td>\n",
       "      <td>0</td>\n",
       "      <td>0</td>\n",
       "      <td>9.2250</td>\n",
       "    </tr>\n",
       "    <tr>\n",
       "      <th>...</th>\n",
       "      <td>...</td>\n",
       "      <td>...</td>\n",
       "      <td>...</td>\n",
       "      <td>...</td>\n",
       "      <td>...</td>\n",
       "      <td>...</td>\n",
       "      <td>...</td>\n",
       "      <td>...</td>\n",
       "      <td>...</td>\n",
       "      <td>...</td>\n",
       "      <td>...</td>\n",
       "      <td>...</td>\n",
       "      <td>...</td>\n",
       "      <td>...</td>\n",
       "    </tr>\n",
       "    <tr>\n",
       "      <th>119</th>\n",
       "      <td>False</td>\n",
       "      <td>False</td>\n",
       "      <td>True</td>\n",
       "      <td>False</td>\n",
       "      <td>False</td>\n",
       "      <td>True</td>\n",
       "      <td>True</td>\n",
       "      <td>False</td>\n",
       "      <td>False</td>\n",
       "      <td>False</td>\n",
       "      <td>2.000000</td>\n",
       "      <td>4</td>\n",
       "      <td>2</td>\n",
       "      <td>31.2750</td>\n",
       "    </tr>\n",
       "    <tr>\n",
       "      <th>4</th>\n",
       "      <td>False</td>\n",
       "      <td>False</td>\n",
       "      <td>True</td>\n",
       "      <td>False</td>\n",
       "      <td>False</td>\n",
       "      <td>True</td>\n",
       "      <td>False</td>\n",
       "      <td>True</td>\n",
       "      <td>False</td>\n",
       "      <td>True</td>\n",
       "      <td>35.000000</td>\n",
       "      <td>0</td>\n",
       "      <td>0</td>\n",
       "      <td>8.0500</td>\n",
       "    </tr>\n",
       "    <tr>\n",
       "      <th>352</th>\n",
       "      <td>True</td>\n",
       "      <td>False</td>\n",
       "      <td>False</td>\n",
       "      <td>False</td>\n",
       "      <td>False</td>\n",
       "      <td>True</td>\n",
       "      <td>True</td>\n",
       "      <td>False</td>\n",
       "      <td>False</td>\n",
       "      <td>False</td>\n",
       "      <td>15.000000</td>\n",
       "      <td>1</td>\n",
       "      <td>1</td>\n",
       "      <td>7.2292</td>\n",
       "    </tr>\n",
       "    <tr>\n",
       "      <th>499</th>\n",
       "      <td>False</td>\n",
       "      <td>False</td>\n",
       "      <td>True</td>\n",
       "      <td>False</td>\n",
       "      <td>False</td>\n",
       "      <td>True</td>\n",
       "      <td>False</td>\n",
       "      <td>True</td>\n",
       "      <td>False</td>\n",
       "      <td>True</td>\n",
       "      <td>24.000000</td>\n",
       "      <td>0</td>\n",
       "      <td>0</td>\n",
       "      <td>7.7958</td>\n",
       "    </tr>\n",
       "    <tr>\n",
       "      <th>37</th>\n",
       "      <td>False</td>\n",
       "      <td>False</td>\n",
       "      <td>True</td>\n",
       "      <td>False</td>\n",
       "      <td>False</td>\n",
       "      <td>True</td>\n",
       "      <td>False</td>\n",
       "      <td>True</td>\n",
       "      <td>False</td>\n",
       "      <td>True</td>\n",
       "      <td>21.000000</td>\n",
       "      <td>0</td>\n",
       "      <td>0</td>\n",
       "      <td>8.0500</td>\n",
       "    </tr>\n",
       "  </tbody>\n",
       "</table>\n",
       "<p>179 rows × 14 columns</p>\n",
       "</div>"
      ],
      "text/plain": [
       "     탑승지코드_C  탑승지코드_Q  탑승지코드_S  객실등급_First  객실등급_Second  객실등급_Third  \\\n",
       "212    False    False     True       False        False        True   \n",
       "456    False    False     True        True        False       False   \n",
       "557     True    False    False        True        False       False   \n",
       "763    False    False     True        True        False       False   \n",
       "682    False    False     True       False        False        True   \n",
       "..       ...      ...      ...         ...          ...         ...   \n",
       "119    False    False     True       False        False        True   \n",
       "4      False    False     True       False        False        True   \n",
       "352     True    False    False       False        False        True   \n",
       "499    False    False     True       False        False        True   \n",
       "37     False    False     True       False        False        True   \n",
       "\n",
       "     성인여부_child  성인여부_man  성인여부_woman  개인탑승자         나이  형제자매  부모자녀        요금  \n",
       "212       False      True       False   True  22.000000     0     0    7.2500  \n",
       "456       False      True       False   True  65.000000     0     0   26.5500  \n",
       "557       False      True       False   True  32.767829     0     0  227.5250  \n",
       "763       False     False        True  False  36.000000     1     2  120.0000  \n",
       "682       False      True       False   True  20.000000     0     0    9.2250  \n",
       "..          ...       ...         ...    ...        ...   ...   ...       ...  \n",
       "119        True     False       False  False   2.000000     4     2   31.2750  \n",
       "4         False      True       False   True  35.000000     0     0    8.0500  \n",
       "352        True     False       False  False  15.000000     1     1    7.2292  \n",
       "499       False      True       False   True  24.000000     0     0    7.7958  \n",
       "37        False      True       False   True  21.000000     0     0    8.0500  \n",
       "\n",
       "[179 rows x 14 columns]"
      ]
     },
     "execution_count": 169,
     "metadata": {},
     "output_type": "execute_result"
    }
   ],
   "source": [
    "X_test"
   ]
  },
  {
   "cell_type": "code",
   "execution_count": null,
   "id": "25eef3a5",
   "metadata": {},
   "outputs": [
    {
     "name": "stdout",
     "output_type": "stream",
     "text": [
      "교차 검증 1 정확도 : 0.8156\n",
      "교차 검증 2 정확도 : 0.8090\n",
      "교차 검증 3 정확도 : 0.8034\n",
      "교차 검증 4 정확도 : 0.7809\n",
      "교차 검증 5 정확도 : 0.8876\n",
      "평균 정확도: 0.8193\n"
     ]
    }
   ],
   "source": [
    "# 교차검증을 통해 결정트리 모델을 평가해볼까요?\n",
    "from sklearn.model_selection import KFold\n",
    "\n",
    "def exec_kfold(clf, folds = 5) :\n",
    "    # 폴드 세트가 5개인 KFold 객체 생성. 폴드 수만큼 예측결과 저장 위한 리스트 생성\n",
    "    kfold = KFold(n_splits = folds)\n",
    "    scores = []\n",
    "    \n",
    "    # KFold 교차 검증 수행\n",
    "    for iter_count, (train_index, test_index) in enumerate(kfold.split(train_df)) :\n",
    "        # X_titanic_df 데이터에서 교차 검증별로 학습과 검증 데이터를 가리키는 index 생성\n",
    "        X_train, X_test = train_df.values[train_index], train_df.values[test_index] # values를 통해 df를 ndarray로 변환\n",
    "        y_train, y_test = titanic_drop['생존'].values[train_index], titanic_drop['생존'].values[test_index]\n",
    "        \n",
    "        # Classifier 학습/예측/평가\n",
    "        clf.fit(X_train, y_train)\n",
    "        clf_pred = clf.predict(X_test)\n",
    "        accuracy = accuracy_score(y_test, clf_pred)\n",
    "        scores.append(accuracy)\n",
    "        print(\"교차 검증 {0} 정확도 : {1:.4f}\".format(iter_count+1, accuracy))\n",
    "        \n",
    "    # 5개의 fold에서 평균 계산\n",
    "    mean_score = np.mean(scores)\n",
    "    print(\"평균 정확도: {0:.4f}\".format(mean_score))\n",
    "\n",
    "#exec_fold 호출\n",
    "exec_kfold(lr_clf, folds = 5)"
   ]
  },
  {
   "cell_type": "code",
   "execution_count": 158,
   "id": "8455a7ca",
   "metadata": {},
   "outputs": [
    {
     "data": {
      "application/vnd.microsoft.datawrangler.viewer.v0+json": {
       "columns": [
        {
         "name": "index",
         "rawType": "object",
         "type": "string"
        },
        {
         "name": "나이",
         "rawType": "float64",
         "type": "float"
        },
        {
         "name": "형제자매",
         "rawType": "float64",
         "type": "float"
        },
        {
         "name": "부모자녀",
         "rawType": "float64",
         "type": "float"
        },
        {
         "name": "요금",
         "rawType": "float64",
         "type": "float"
        }
       ],
       "ref": "dbe9870e-8042-4600-947c-0b3439a112c8",
       "rows": [
        [
         "count",
         "891.0",
         "891.0",
         "891.0",
         "891.0"
        ],
        [
         "mean",
         "30.308726941896516",
         "0.5230078563411896",
         "0.38159371492704824",
         "32.204207968574636"
        ],
        [
         "std",
         "13.059600900696536",
         "1.1027434322934317",
         "0.8060572211299483",
         "49.6934285971809"
        ],
        [
         "min",
         "0.42",
         "0.0",
         "0.0",
         "0.0"
        ],
        [
         "25%",
         "22.0",
         "0.0",
         "0.0",
         "7.9104"
        ],
        [
         "50%",
         "32.0",
         "0.0",
         "0.0",
         "14.4542"
        ],
        [
         "75%",
         "35.0",
         "1.0",
         "0.0",
         "31.0"
        ],
        [
         "max",
         "80.0",
         "8.0",
         "6.0",
         "512.3292"
        ]
       ],
       "shape": {
        "columns": 4,
        "rows": 8
       }
      },
      "text/html": [
       "<div>\n",
       "<style scoped>\n",
       "    .dataframe tbody tr th:only-of-type {\n",
       "        vertical-align: middle;\n",
       "    }\n",
       "\n",
       "    .dataframe tbody tr th {\n",
       "        vertical-align: top;\n",
       "    }\n",
       "\n",
       "    .dataframe thead th {\n",
       "        text-align: right;\n",
       "    }\n",
       "</style>\n",
       "<table border=\"1\" class=\"dataframe\">\n",
       "  <thead>\n",
       "    <tr style=\"text-align: right;\">\n",
       "      <th></th>\n",
       "      <th>나이</th>\n",
       "      <th>형제자매</th>\n",
       "      <th>부모자녀</th>\n",
       "      <th>요금</th>\n",
       "    </tr>\n",
       "  </thead>\n",
       "  <tbody>\n",
       "    <tr>\n",
       "      <th>count</th>\n",
       "      <td>891.000000</td>\n",
       "      <td>891.000000</td>\n",
       "      <td>891.000000</td>\n",
       "      <td>891.000000</td>\n",
       "    </tr>\n",
       "    <tr>\n",
       "      <th>mean</th>\n",
       "      <td>30.308727</td>\n",
       "      <td>0.523008</td>\n",
       "      <td>0.381594</td>\n",
       "      <td>32.204208</td>\n",
       "    </tr>\n",
       "    <tr>\n",
       "      <th>std</th>\n",
       "      <td>13.059601</td>\n",
       "      <td>1.102743</td>\n",
       "      <td>0.806057</td>\n",
       "      <td>49.693429</td>\n",
       "    </tr>\n",
       "    <tr>\n",
       "      <th>min</th>\n",
       "      <td>0.420000</td>\n",
       "      <td>0.000000</td>\n",
       "      <td>0.000000</td>\n",
       "      <td>0.000000</td>\n",
       "    </tr>\n",
       "    <tr>\n",
       "      <th>25%</th>\n",
       "      <td>22.000000</td>\n",
       "      <td>0.000000</td>\n",
       "      <td>0.000000</td>\n",
       "      <td>7.910400</td>\n",
       "    </tr>\n",
       "    <tr>\n",
       "      <th>50%</th>\n",
       "      <td>32.000000</td>\n",
       "      <td>0.000000</td>\n",
       "      <td>0.000000</td>\n",
       "      <td>14.454200</td>\n",
       "    </tr>\n",
       "    <tr>\n",
       "      <th>75%</th>\n",
       "      <td>35.000000</td>\n",
       "      <td>1.000000</td>\n",
       "      <td>0.000000</td>\n",
       "      <td>31.000000</td>\n",
       "    </tr>\n",
       "    <tr>\n",
       "      <th>max</th>\n",
       "      <td>80.000000</td>\n",
       "      <td>8.000000</td>\n",
       "      <td>6.000000</td>\n",
       "      <td>512.329200</td>\n",
       "    </tr>\n",
       "  </tbody>\n",
       "</table>\n",
       "</div>"
      ],
      "text/plain": [
       "               나이        형제자매        부모자녀          요금\n",
       "count  891.000000  891.000000  891.000000  891.000000\n",
       "mean    30.308727    0.523008    0.381594   32.204208\n",
       "std     13.059601    1.102743    0.806057   49.693429\n",
       "min      0.420000    0.000000    0.000000    0.000000\n",
       "25%     22.000000    0.000000    0.000000    7.910400\n",
       "50%     32.000000    0.000000    0.000000   14.454200\n",
       "75%     35.000000    1.000000    0.000000   31.000000\n",
       "max     80.000000    8.000000    6.000000  512.329200"
      ]
     },
     "execution_count": 158,
     "metadata": {},
     "output_type": "execute_result"
    }
   ],
   "source": [
    "train_df.describe()"
   ]
  },
  {
   "cell_type": "code",
   "execution_count": 145,
   "id": "49802e66",
   "metadata": {},
   "outputs": [
    {
     "name": "stdout",
     "output_type": "stream",
     "text": [
      "KNeighborsClassifier 정확도 : 0.8060\n",
      "DecisionTreeClassifier 정확도 : 0.7761\n",
      "RandomForestClassifier 정확도 : 0.8209\n",
      "LogisticRegression 정확도 : 0.8358\n"
     ]
    }
   ],
   "source": [
    "# 데이터를 3:7로 나누어봅시다.\n",
    "from sklearn.model_selection import train_test_split\n",
    "\n",
    "# y_titanic_df = df_train['Survived']\n",
    "# X_titanic_df = df_train.drop('Survived', axis = 1, inplace = False)\n",
    "X_train, X_test, y_train, y_test = train_test_split(train_df.drop(columns=['탑승지코드_S', '탑승지코드_Q', '탑승지코드_C']), titanic_drop['생존'], \n",
    "                                                    test_size = 0.3, stratify=titanic_drop['생존'], random_state = 11)\n",
    "\n",
    "from sklearn.preprocessing import StandardScaler\n",
    "from sklearn.neighbors import KNeighborsClassifier\n",
    "from sklearn.tree import DecisionTreeClassifier\n",
    "from sklearn.ensemble import RandomForestClassifier\n",
    "from sklearn.linear_model import LogisticRegression\n",
    "from sklearn.metrics import accuracy_score\n",
    "\n",
    "\n",
    "# 각 모델에 대한 Classifier 클래스 생성\n",
    "scaler = StandardScaler()\n",
    "X_train_scaled = scaler.fit_transform(X_train)\n",
    "X_test_scaled = scaler.transform(X_test)\n",
    "\n",
    "knn_clf = KNeighborsClassifier(n_neighbors=5)  # k=5는 예시\\\n",
    "dt_clf = DecisionTreeClassifier(random_state = 11)\n",
    "rf_clf = RandomForestClassifier(random_state = 11)\n",
    "lr_clf = LogisticRegression(random_state = 11, max_iter=1000)\n",
    "\n",
    "# KNN 학습/예측평가\n",
    "knn_clf.fit(X_train_scaled, y_train)\n",
    "knn_pred = knn_clf.predict(X_test_scaled)\n",
    "print('KNeighborsClassifier 정확도 : {0:.4f}'.format(accuracy_score(y_test, knn_pred)))\n",
    "\n",
    "# DecisionTreeClassfier 학습/예측평가\n",
    "dt_clf.fit(X_train, y_train)\n",
    "dt_pred = dt_clf.predict(X_test)\n",
    "print('DecisionTreeClassifier 정확도 : {0:.4f}'.format(accuracy_score(y_test, dt_pred)))\n",
    "\n",
    "# RandomForestClassifier 학습/예측/평가\n",
    "rf_clf.fit(X_train, y_train)\n",
    "rf_pred = rf_clf.predict(X_test)\n",
    "print('RandomForestClassifier 정확도 : {0:.4f}'.format(accuracy_score(y_test, rf_pred)))\n",
    "\n",
    "# LogisticRegression 학습/예측/평가\n",
    "lr_clf.fit(X_train, y_train)\n",
    "lr_pred = lr_clf.predict(X_test)\n",
    "print('LogisticRegression 정확도 : {0:.4f}'.format(accuracy_score(y_test, lr_pred)))"
   ]
  },
  {
   "cell_type": "code",
   "execution_count": 147,
   "id": "34a72ec9",
   "metadata": {},
   "outputs": [
    {
     "data": {
      "application/vnd.microsoft.datawrangler.viewer.v0+json": {
       "columns": [
        {
         "name": "index",
         "rawType": "int64",
         "type": "integer"
        },
        {
         "name": "생존",
         "rawType": "int64",
         "type": "integer"
        },
        {
         "name": "나이",
         "rawType": "float64",
         "type": "float"
        },
        {
         "name": "형제자매",
         "rawType": "int64",
         "type": "integer"
        },
        {
         "name": "부모자녀",
         "rawType": "int64",
         "type": "integer"
        },
        {
         "name": "요금",
         "rawType": "float64",
         "type": "float"
        },
        {
         "name": "탑승지코드",
         "rawType": "object",
         "type": "string"
        },
        {
         "name": "객실등급",
         "rawType": "object",
         "type": "string"
        },
        {
         "name": "성인여부",
         "rawType": "object",
         "type": "string"
        },
        {
         "name": "개인탑승자",
         "rawType": "bool",
         "type": "boolean"
        }
       ],
       "ref": "ca1fb581-44be-44d2-84a9-fea9e0346d59",
       "rows": [
        [
         "0",
         "0",
         "22.0",
         "1",
         "0",
         "7.25",
         "S",
         "Third",
         "man",
         "False"
        ],
        [
         "1",
         "1",
         "38.0",
         "1",
         "0",
         "71.2833",
         "C",
         "First",
         "woman",
         "False"
        ],
        [
         "2",
         "1",
         "26.0",
         "0",
         "0",
         "7.925",
         "S",
         "Third",
         "woman",
         "True"
        ],
        [
         "3",
         "1",
         "35.0",
         "1",
         "0",
         "53.1",
         "S",
         "First",
         "woman",
         "False"
        ],
        [
         "4",
         "0",
         "35.0",
         "0",
         "0",
         "8.05",
         "S",
         "Third",
         "man",
         "True"
        ]
       ],
       "shape": {
        "columns": 9,
        "rows": 5
       }
      },
      "text/html": [
       "<div>\n",
       "<style scoped>\n",
       "    .dataframe tbody tr th:only-of-type {\n",
       "        vertical-align: middle;\n",
       "    }\n",
       "\n",
       "    .dataframe tbody tr th {\n",
       "        vertical-align: top;\n",
       "    }\n",
       "\n",
       "    .dataframe thead th {\n",
       "        text-align: right;\n",
       "    }\n",
       "</style>\n",
       "<table border=\"1\" class=\"dataframe\">\n",
       "  <thead>\n",
       "    <tr style=\"text-align: right;\">\n",
       "      <th></th>\n",
       "      <th>생존</th>\n",
       "      <th>나이</th>\n",
       "      <th>형제자매</th>\n",
       "      <th>부모자녀</th>\n",
       "      <th>요금</th>\n",
       "      <th>탑승지코드</th>\n",
       "      <th>객실등급</th>\n",
       "      <th>성인여부</th>\n",
       "      <th>개인탑승자</th>\n",
       "    </tr>\n",
       "  </thead>\n",
       "  <tbody>\n",
       "    <tr>\n",
       "      <th>0</th>\n",
       "      <td>0</td>\n",
       "      <td>22.0</td>\n",
       "      <td>1</td>\n",
       "      <td>0</td>\n",
       "      <td>7.2500</td>\n",
       "      <td>S</td>\n",
       "      <td>Third</td>\n",
       "      <td>man</td>\n",
       "      <td>False</td>\n",
       "    </tr>\n",
       "    <tr>\n",
       "      <th>1</th>\n",
       "      <td>1</td>\n",
       "      <td>38.0</td>\n",
       "      <td>1</td>\n",
       "      <td>0</td>\n",
       "      <td>71.2833</td>\n",
       "      <td>C</td>\n",
       "      <td>First</td>\n",
       "      <td>woman</td>\n",
       "      <td>False</td>\n",
       "    </tr>\n",
       "    <tr>\n",
       "      <th>2</th>\n",
       "      <td>1</td>\n",
       "      <td>26.0</td>\n",
       "      <td>0</td>\n",
       "      <td>0</td>\n",
       "      <td>7.9250</td>\n",
       "      <td>S</td>\n",
       "      <td>Third</td>\n",
       "      <td>woman</td>\n",
       "      <td>True</td>\n",
       "    </tr>\n",
       "    <tr>\n",
       "      <th>3</th>\n",
       "      <td>1</td>\n",
       "      <td>35.0</td>\n",
       "      <td>1</td>\n",
       "      <td>0</td>\n",
       "      <td>53.1000</td>\n",
       "      <td>S</td>\n",
       "      <td>First</td>\n",
       "      <td>woman</td>\n",
       "      <td>False</td>\n",
       "    </tr>\n",
       "    <tr>\n",
       "      <th>4</th>\n",
       "      <td>0</td>\n",
       "      <td>35.0</td>\n",
       "      <td>0</td>\n",
       "      <td>0</td>\n",
       "      <td>8.0500</td>\n",
       "      <td>S</td>\n",
       "      <td>Third</td>\n",
       "      <td>man</td>\n",
       "      <td>True</td>\n",
       "    </tr>\n",
       "  </tbody>\n",
       "</table>\n",
       "</div>"
      ],
      "text/plain": [
       "   생존    나이  형제자매  부모자녀       요금 탑승지코드   객실등급   성인여부  개인탑승자\n",
       "0   0  22.0     1     0   7.2500     S  Third    man  False\n",
       "1   1  38.0     1     0  71.2833     C  First  woman  False\n",
       "2   1  26.0     0     0   7.9250     S  Third  woman   True\n",
       "3   1  35.0     1     0  53.1000     S  First  woman  False\n",
       "4   0  35.0     0     0   8.0500     S  Third    man   True"
      ]
     },
     "execution_count": 147,
     "metadata": {},
     "output_type": "execute_result"
    }
   ],
   "source": [
    "titanic_drop.head()"
   ]
  },
  {
   "cell_type": "code",
   "execution_count": 149,
   "id": "734836e0",
   "metadata": {},
   "outputs": [
    {
     "data": {
      "application/vnd.microsoft.datawrangler.viewer.v0+json": {
       "columns": [
        {
         "name": "index",
         "rawType": "int64",
         "type": "integer"
        },
        {
         "name": "탑승지코드_C",
         "rawType": "bool",
         "type": "boolean"
        },
        {
         "name": "탑승지코드_Q",
         "rawType": "bool",
         "type": "boolean"
        },
        {
         "name": "탑승지코드_S",
         "rawType": "bool",
         "type": "boolean"
        },
        {
         "name": "객실등급_First",
         "rawType": "bool",
         "type": "boolean"
        },
        {
         "name": "객실등급_Second",
         "rawType": "bool",
         "type": "boolean"
        },
        {
         "name": "객실등급_Third",
         "rawType": "bool",
         "type": "boolean"
        },
        {
         "name": "성인여부_child",
         "rawType": "bool",
         "type": "boolean"
        },
        {
         "name": "성인여부_man",
         "rawType": "bool",
         "type": "boolean"
        },
        {
         "name": "성인여부_woman",
         "rawType": "bool",
         "type": "boolean"
        },
        {
         "name": "개인탑승자",
         "rawType": "bool",
         "type": "boolean"
        },
        {
         "name": "나이",
         "rawType": "float64",
         "type": "float"
        },
        {
         "name": "형제자매",
         "rawType": "int64",
         "type": "integer"
        },
        {
         "name": "부모자녀",
         "rawType": "int64",
         "type": "integer"
        },
        {
         "name": "요금",
         "rawType": "float64",
         "type": "float"
        },
        {
         "name": "생존",
         "rawType": "int64",
         "type": "integer"
        }
       ],
       "ref": "433a708d-5f0c-43e2-add7-68bf0eff87dd",
       "rows": [
        [
         "0",
         "False",
         "False",
         "True",
         "False",
         "False",
         "True",
         "False",
         "True",
         "False",
         "False",
         "22.0",
         "1",
         "0",
         "7.25",
         "0"
        ],
        [
         "1",
         "True",
         "False",
         "False",
         "True",
         "False",
         "False",
         "False",
         "False",
         "True",
         "False",
         "38.0",
         "1",
         "0",
         "71.2833",
         "1"
        ],
        [
         "2",
         "False",
         "False",
         "True",
         "False",
         "False",
         "True",
         "False",
         "False",
         "True",
         "True",
         "26.0",
         "0",
         "0",
         "7.925",
         "1"
        ],
        [
         "3",
         "False",
         "False",
         "True",
         "True",
         "False",
         "False",
         "False",
         "False",
         "True",
         "False",
         "35.0",
         "1",
         "0",
         "53.1",
         "1"
        ],
        [
         "4",
         "False",
         "False",
         "True",
         "False",
         "False",
         "True",
         "False",
         "True",
         "False",
         "True",
         "35.0",
         "0",
         "0",
         "8.05",
         "0"
        ]
       ],
       "shape": {
        "columns": 15,
        "rows": 5
       }
      },
      "text/html": [
       "<div>\n",
       "<style scoped>\n",
       "    .dataframe tbody tr th:only-of-type {\n",
       "        vertical-align: middle;\n",
       "    }\n",
       "\n",
       "    .dataframe tbody tr th {\n",
       "        vertical-align: top;\n",
       "    }\n",
       "\n",
       "    .dataframe thead th {\n",
       "        text-align: right;\n",
       "    }\n",
       "</style>\n",
       "<table border=\"1\" class=\"dataframe\">\n",
       "  <thead>\n",
       "    <tr style=\"text-align: right;\">\n",
       "      <th></th>\n",
       "      <th>탑승지코드_C</th>\n",
       "      <th>탑승지코드_Q</th>\n",
       "      <th>탑승지코드_S</th>\n",
       "      <th>객실등급_First</th>\n",
       "      <th>객실등급_Second</th>\n",
       "      <th>객실등급_Third</th>\n",
       "      <th>성인여부_child</th>\n",
       "      <th>성인여부_man</th>\n",
       "      <th>성인여부_woman</th>\n",
       "      <th>개인탑승자</th>\n",
       "      <th>나이</th>\n",
       "      <th>형제자매</th>\n",
       "      <th>부모자녀</th>\n",
       "      <th>요금</th>\n",
       "      <th>생존</th>\n",
       "    </tr>\n",
       "  </thead>\n",
       "  <tbody>\n",
       "    <tr>\n",
       "      <th>0</th>\n",
       "      <td>False</td>\n",
       "      <td>False</td>\n",
       "      <td>True</td>\n",
       "      <td>False</td>\n",
       "      <td>False</td>\n",
       "      <td>True</td>\n",
       "      <td>False</td>\n",
       "      <td>True</td>\n",
       "      <td>False</td>\n",
       "      <td>False</td>\n",
       "      <td>22.0</td>\n",
       "      <td>1</td>\n",
       "      <td>0</td>\n",
       "      <td>7.2500</td>\n",
       "      <td>0</td>\n",
       "    </tr>\n",
       "    <tr>\n",
       "      <th>1</th>\n",
       "      <td>True</td>\n",
       "      <td>False</td>\n",
       "      <td>False</td>\n",
       "      <td>True</td>\n",
       "      <td>False</td>\n",
       "      <td>False</td>\n",
       "      <td>False</td>\n",
       "      <td>False</td>\n",
       "      <td>True</td>\n",
       "      <td>False</td>\n",
       "      <td>38.0</td>\n",
       "      <td>1</td>\n",
       "      <td>0</td>\n",
       "      <td>71.2833</td>\n",
       "      <td>1</td>\n",
       "    </tr>\n",
       "    <tr>\n",
       "      <th>2</th>\n",
       "      <td>False</td>\n",
       "      <td>False</td>\n",
       "      <td>True</td>\n",
       "      <td>False</td>\n",
       "      <td>False</td>\n",
       "      <td>True</td>\n",
       "      <td>False</td>\n",
       "      <td>False</td>\n",
       "      <td>True</td>\n",
       "      <td>True</td>\n",
       "      <td>26.0</td>\n",
       "      <td>0</td>\n",
       "      <td>0</td>\n",
       "      <td>7.9250</td>\n",
       "      <td>1</td>\n",
       "    </tr>\n",
       "    <tr>\n",
       "      <th>3</th>\n",
       "      <td>False</td>\n",
       "      <td>False</td>\n",
       "      <td>True</td>\n",
       "      <td>True</td>\n",
       "      <td>False</td>\n",
       "      <td>False</td>\n",
       "      <td>False</td>\n",
       "      <td>False</td>\n",
       "      <td>True</td>\n",
       "      <td>False</td>\n",
       "      <td>35.0</td>\n",
       "      <td>1</td>\n",
       "      <td>0</td>\n",
       "      <td>53.1000</td>\n",
       "      <td>1</td>\n",
       "    </tr>\n",
       "    <tr>\n",
       "      <th>4</th>\n",
       "      <td>False</td>\n",
       "      <td>False</td>\n",
       "      <td>True</td>\n",
       "      <td>False</td>\n",
       "      <td>False</td>\n",
       "      <td>True</td>\n",
       "      <td>False</td>\n",
       "      <td>True</td>\n",
       "      <td>False</td>\n",
       "      <td>True</td>\n",
       "      <td>35.0</td>\n",
       "      <td>0</td>\n",
       "      <td>0</td>\n",
       "      <td>8.0500</td>\n",
       "      <td>0</td>\n",
       "    </tr>\n",
       "  </tbody>\n",
       "</table>\n",
       "</div>"
      ],
      "text/plain": [
       "   탑승지코드_C  탑승지코드_Q  탑승지코드_S  객실등급_First  객실등급_Second  객실등급_Third  성인여부_child  \\\n",
       "0    False    False     True       False        False        True       False   \n",
       "1     True    False    False        True        False       False       False   \n",
       "2    False    False     True       False        False        True       False   \n",
       "3    False    False     True        True        False       False       False   \n",
       "4    False    False     True       False        False        True       False   \n",
       "\n",
       "   성인여부_man  성인여부_woman  개인탑승자    나이  형제자매  부모자녀       요금  생존  \n",
       "0      True       False  False  22.0     1     0   7.2500   0  \n",
       "1     False        True  False  38.0     1     0  71.2833   1  \n",
       "2     False        True   True  26.0     0     0   7.9250   1  \n",
       "3     False        True  False  35.0     1     0  53.1000   1  \n",
       "4      True       False   True  35.0     0     0   8.0500   0  "
      ]
     },
     "execution_count": 149,
     "metadata": {},
     "output_type": "execute_result"
    }
   ],
   "source": [
    "features = pd.concat([train_df, titanic_drop[['생존']]], axis=1)\n",
    "features.head()"
   ]
  },
  {
   "cell_type": "code",
   "execution_count": 153,
   "id": "de065a6d",
   "metadata": {},
   "outputs": [
    {
     "name": "stdout",
     "output_type": "stream",
     "text": [
      "                  PC1       PC2       PC3\n",
      "개인탑승자        0.452026  0.073543 -0.059332\n",
      "성인여부_man     0.429354  0.022623  0.042636\n",
      "나이           0.190506  0.364509  0.104998\n",
      "객실등급_Third   0.136737 -0.399243 -0.395672\n",
      "탑승지코드_S      0.088160 -0.252023  0.577959\n",
      "탑승지코드_Q      0.047547 -0.045149 -0.421462\n",
      "객실등급_Second -0.011918 -0.016378  0.415835\n",
      "탑승지코드_C     -0.134789  0.320116 -0.356984\n",
      "객실등급_First  -0.147443  0.478842  0.066437\n",
      "성인여부_woman  -0.268042  0.169688 -0.003051\n",
      "요금          -0.280115  0.340159  0.046533\n",
      "성인여부_child  -0.298603 -0.306678 -0.066953\n",
      "형제자매        -0.343758 -0.207537  0.017684\n",
      "부모자녀        -0.385501 -0.150357  0.060604\n"
     ]
    }
   ],
   "source": [
    "import pandas as pd\n",
    "from sklearn.decomposition import PCA\n",
    "from sklearn.preprocessing import StandardScaler\n",
    "\n",
    "scaler = StandardScaler()\n",
    "X_scaled = scaler.fit_transform(train_df)\n",
    "\n",
    "pca = PCA(n_components=3)\n",
    "X_pca = pca.fit_transform(X_scaled)\n",
    "\n",
    "pca_components = pd.DataFrame(pca.components_, columns=train_df.columns, index=['PC1', 'PC2', 'PC3'])\n",
    "print(pca_components.T.sort_values(by='PC1', ascending=False))"
   ]
  },
  {
   "cell_type": "code",
   "execution_count": 155,
   "id": "d70b50c2",
   "metadata": {},
   "outputs": [
    {
     "data": {
      "text/plain": [
       "array([[ 0.43562324, -1.42615331,  0.07068298],\n",
       "       [-2.3130526 ,  3.08472813, -1.09090902],\n",
       "       [ 0.26579629, -0.64860842, -0.12756188],\n",
       "       ...,\n",
       "       [-1.91568331, -1.06514704,  0.22917758],\n",
       "       [ 0.44034354,  2.48283627, -1.26965466],\n",
       "       [ 1.78618013, -0.40110471, -2.78007642]], shape=(891, 3))"
      ]
     },
     "execution_count": 155,
     "metadata": {},
     "output_type": "execute_result"
    }
   ],
   "source": [
    "X_pca"
   ]
  },
  {
   "cell_type": "code",
   "execution_count": 157,
   "id": "4126c43c",
   "metadata": {},
   "outputs": [
    {
     "name": "stdout",
     "output_type": "stream",
     "text": [
      "DecisionTreeClassifier 정확도 : 0.7425\n",
      "RandomForestClassifier 정확도 : 0.7687\n",
      "LogisticRegression 정확도 : 0.6940\n"
     ]
    }
   ],
   "source": [
    "# 데이터를 3:7로 나누어봅시다.\n",
    "from sklearn.model_selection import train_test_split\n",
    "\n",
    "# y_titanic_df = df_train['Survived']\n",
    "# X_titanic_df = df_train.drop('Survived', axis = 1, inplace = False)\n",
    "X_train, X_test, y_train, y_test = train_test_split(X_pca, titanic_drop['생존'], test_size = 0.3, \n",
    "                                                    stratify=titanic_drop['생존'], random_state = 11)\n",
    "\n",
    "from sklearn.preprocessing import StandardScaler\n",
    "from sklearn.neighbors import KNeighborsClassifier\n",
    "from sklearn.tree import DecisionTreeClassifier\n",
    "from sklearn.ensemble import RandomForestClassifier\n",
    "from sklearn.linear_model import LogisticRegression\n",
    "from sklearn.metrics import accuracy_score\n",
    "\n",
    "\n",
    "# 각 모델에 대한 Classifier 클래스 생성\n",
    "# scaler = StandardScaler()\n",
    "# X_train_scaled = scaler.fit_transform(X_train)\n",
    "# X_test_scaled = scaler.transform(X_test)\n",
    "\n",
    "knn_clf = KNeighborsClassifier(n_neighbors=5)  # k=5는 예시\n",
    "dt_clf = DecisionTreeClassifier(random_state = 11)\n",
    "rf_clf = RandomForestClassifier(random_state = 11)\n",
    "lr_clf = LogisticRegression(random_state = 11, max_iter=1000)\n",
    "\n",
    "# KNN 학습/예측평가\n",
    "# knn_clf.fit(X_train_scaled, y_train)\n",
    "# knn_pred = knn_clf.predict(X_test_scaled)\n",
    "# print('KNeighborsClassifier 정확도 : {0:.4f}'.format(accuracy_score(y_test, knn_pred)))\n",
    "\n",
    "# DecisionTreeClassfier 학습/예측평가\n",
    "dt_clf.fit(X_train, y_train)\n",
    "dt_pred = dt_clf.predict(X_test)\n",
    "print('DecisionTreeClassifier 정확도 : {0:.4f}'.format(accuracy_score(y_test, dt_pred)))\n",
    "\n",
    "# RandomForestClassifier 학습/예측/평가\n",
    "rf_clf.fit(X_train, y_train)\n",
    "rf_pred = rf_clf.predict(X_test)\n",
    "print('RandomForestClassifier 정확도 : {0:.4f}'.format(accuracy_score(y_test, rf_pred)))\n",
    "\n",
    "# LogisticRegression 학습/예측/평가\n",
    "lr_clf.fit(X_train, y_train)\n",
    "lr_pred = lr_clf.predict(X_test)\n",
    "print('LogisticRegression 정확도 : {0:.4f}'.format(accuracy_score(y_test, lr_pred)))"
   ]
  },
  {
   "cell_type": "code",
   "execution_count": null,
   "id": "88d67262",
   "metadata": {},
   "outputs": [],
   "source": []
  }
 ],
 "metadata": {
  "kernelspec": {
   "display_name": "training",
   "language": "python",
   "name": "python3"
  },
  "language_info": {
   "codemirror_mode": {
    "name": "ipython",
    "version": 3
   },
   "file_extension": ".py",
   "mimetype": "text/x-python",
   "name": "python",
   "nbconvert_exporter": "python",
   "pygments_lexer": "ipython3",
   "version": "3.11.0"
  }
 },
 "nbformat": 4,
 "nbformat_minor": 5
}
